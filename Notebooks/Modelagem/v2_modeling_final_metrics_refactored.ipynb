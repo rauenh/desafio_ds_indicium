{
 "cells": [
  {
   "cell_type": "markdown",
   "metadata": {},
   "source": [
    "## Import das bibliotecas utilizadas\n"
   ]
  },
  {
   "cell_type": "code",
   "execution_count": 12,
   "metadata": {},
   "outputs": [],
   "source": [
    "import pandas as pd\n",
    "import numpy as np\n",
    "import matplotlib as mpl\n",
    "import matplotlib.pyplot as plt\n",
    "import seaborn as sns\n",
    "from statistics import multimode\n",
    "from sklearn.metrics import mean_squared_error, mean_absolute_error\n",
    "from prophet import Prophet\n",
    "from prophet.diagnostics import cross_validation\n",
    "from sklearn.model_selection import TimeSeriesSplit\n",
    "from statsmodels.tsa.stattools import adfuller\n",
    "from statsmodels.tsa.seasonal import seasonal_decompose\n",
    "from pmdarima.arima import auto_arima\n",
    "from prophet.diagnostics import performance_metrics\n",
    "\n"
   ]
  },
  {
   "cell_type": "markdown",
   "metadata": {},
   "source": [
    "### Carregamento dos dados para a parte de Análise das métricas"
   ]
  },
  {
   "cell_type": "code",
   "execution_count": 13,
   "metadata": {},
   "outputs": [],
   "source": [
    "metrics_prophet = pd.read_csv(r'../../Projeto/Data/Metrics/metrics_prophet.csv')\n",
    "metrics_hw = pd.read_csv(r'../../Projeto/Data/Metrics/metrics_hw.csv')\n",
    "metrics_pred_simple_exp_smoot = pd.read_csv(r'../../Projeto/Data/Metrics/metrics_pred_simple_exp_smoot.csv')\n",
    "metrics_predictions_sarimax_exog = pd.read_csv(r'../../Projeto/Data/Metrics/metrics_predictions_sarimax_exog.csv')\n",
    "metrics_predictions_sarimax_no_exog = pd.read_csv(r'../../Projeto/Data/Metrics/metrics_predictions_sarimax_no_exog.csv')\n",
    "metrics_predictions_autoarima = pd.read_csv(r'../../Projeto/Data/Metrics/metrics_predictions_autoarima.csv')\n"
   ]
  },
  {
   "cell_type": "code",
   "execution_count": 31,
   "metadata": {},
   "outputs": [
    {
     "name": "stdout",
     "output_type": "stream",
     "text": [
      "<class 'pandas.core.frame.DataFrame'>\n",
      "DatetimeIndex: 49 entries, 1980-01-01 to 2028-01-01\n",
      "Columns: 228 entries, Afghanistan to World\n",
      "dtypes: float64(228)\n",
      "memory usage: 87.7 KB\n"
     ]
    }
   ],
   "source": [
    "df_transposed_copy_inputting_v19 = pd.read_csv(r'../../Projeto/Data/Output/df_transposed_copy_inputting_v19.csv')\n",
    "df_model = df_transposed_copy_inputting_v19.copy()\n",
    "df_model['year'] = pd.to_datetime(df_model['year'], format='ISO8601')\n",
    "df_model.set_index('year', inplace = True)\n",
    "df_model.info()\n"
   ]
  },
  {
   "cell_type": "markdown",
   "metadata": {},
   "source": [
    "## Análise de métricas vs modelos"
   ]
  },
  {
   "cell_type": "markdown",
   "metadata": {},
   "source": [
    "As métricas MAE (Erro Absoluto Médio), RMSE (Raiz do Erro Quadrático Médio) e MAPE (Erro Percentual Absoluto Médio) são importantes para avaliar o desempenho de um modelo de ciência de dados. Elas medem a diferença entre os valores previstos pelo modelo e os valores reais observados. <br/><br/> - O MAE mede a magnitude média dos erros, enquanto o RMSE dá mais peso aos erros grandes, pois eleva ao quadrado as diferenças antes de calcular a média. <br/><br/> - O MAPE mede o erro em termos percentuais, o que pode ser útil quando os valores observados variam em magnitude. <br/><br/> Ao comparar diferentes modelos, é importante escolher aquele que apresenta o menor valor para essas métricas, indicando que suas previsões são mais precisas."
   ]
  },
  {
   "cell_type": "markdown",
   "metadata": {},
   "source": [
    "A média, a mediana e o desvio padrão são medidas estatísticas que podem ser usadas para analisar um conjunto de dados. <br/><br/>\n",
    " - A média é a soma de todos os valores dividida pelo número de valores e representa o valor central do conjunto de dados. \n",
    " - A mediana é o valor que divide o conjunto de dados em duas metades iguais, ou seja, metade dos valores estão acima da mediana e metade estão abaixo.\n",
    " - O desvio padrão mede o quanto os valores do conjunto de dados se desviam da média. Um desvio padrão alto indica que os valores estão mais dispersos, enquanto um desvio padrão baixo indica que os valores estão mais proximos da média. \n"
   ]
  },
  {
   "cell_type": "markdown",
   "metadata": {},
   "source": [
    "### Análise pela métrica MAE"
   ]
  },
  {
   "cell_type": "markdown",
   "metadata": {},
   "source": [
    "O MAE (Erro Absoluto Médio) é uma métrica comum para avaliação de desempenho de modelos de previsão de séries temporais. O MAE mede a magnitude média dos erros (magnitude do erro é uma medida da diferença entre os valores previstos por um modelo e os valores reais observados, seu valor indica o queão precisa foi a previsão.)"
   ]
  },
  {
   "cell_type": "markdown",
   "metadata": {},
   "source": [
    "\n",
    " - Média: Um modelo com um valor menor de MAE médio é considerado melhor, pois suas previsões são mais precisas.\n",
    " - Mediana: A mediana do MAE é uma medida mais robusta a outliers, pois não é afetada por valores extremos.\n",
    " - Desvio padrão: Um modelo com desvio padrão baixo para o MAE é considerado mais consistente, pois seus erros de previsão são mais próximos da média. "
   ]
  },
  {
   "cell_type": "code",
   "execution_count": 15,
   "metadata": {},
   "outputs": [
    {
     "data": {
      "text/html": [
       "<style type=\"text/css\">\n",
       "#T_38097_row0_col1, #T_38097_row1_col3, #T_38097_row2_col0, #T_38097_row2_col2, #T_38097_row2_col4, #T_38097_row3_col0, #T_38097_row3_col2, #T_38097_row3_col4, #T_38097_row4_col5 {\n",
       "  background-color: lightgreen;\n",
       "}\n",
       "</style>\n",
       "<table id=\"T_38097\">\n",
       "  <thead>\n",
       "    <tr>\n",
       "      <th class=\"blank level0\" >&nbsp;</th>\n",
       "      <th id=\"T_38097_level0_col0\" class=\"col_heading level0 col0\" >mean</th>\n",
       "      <th id=\"T_38097_level0_col1\" class=\"col_heading level0 col1\" >median</th>\n",
       "      <th id=\"T_38097_level0_col2\" class=\"col_heading level0 col2\" >std</th>\n",
       "      <th id=\"T_38097_level0_col3\" class=\"col_heading level0 col3\" >min</th>\n",
       "      <th id=\"T_38097_level0_col4\" class=\"col_heading level0 col4\" >max</th>\n",
       "      <th id=\"T_38097_level0_col5\" class=\"col_heading level0 col5\" >cv</th>\n",
       "    </tr>\n",
       "  </thead>\n",
       "  <tbody>\n",
       "    <tr>\n",
       "      <th id=\"T_38097_level0_row0\" class=\"row_heading level0 row0\" >prophet</th>\n",
       "      <td id=\"T_38097_row0_col0\" class=\"data row0 col0\" >1.672544</td>\n",
       "      <td id=\"T_38097_row0_col1\" class=\"data row0 col1\" >0.965000</td>\n",
       "      <td id=\"T_38097_row0_col2\" class=\"data row0 col2\" >1.991240</td>\n",
       "      <td id=\"T_38097_row0_col3\" class=\"data row0 col3\" >0.130000</td>\n",
       "      <td id=\"T_38097_row0_col4\" class=\"data row0 col4\" >18.670000</td>\n",
       "      <td id=\"T_38097_row0_col5\" class=\"data row0 col5\" >1.190546</td>\n",
       "    </tr>\n",
       "    <tr>\n",
       "      <th id=\"T_38097_level0_row1\" class=\"row_heading level0 row1\" >simple_smoothing</th>\n",
       "      <td id=\"T_38097_row1_col0\" class=\"data row1 col0\" >1.574254</td>\n",
       "      <td id=\"T_38097_row1_col1\" class=\"data row1 col1\" >1.130000</td>\n",
       "      <td id=\"T_38097_row1_col2\" class=\"data row1 col2\" >1.900460</td>\n",
       "      <td id=\"T_38097_row1_col3\" class=\"data row1 col3\" >0.070000</td>\n",
       "      <td id=\"T_38097_row1_col4\" class=\"data row1 col4\" >18.420000</td>\n",
       "      <td id=\"T_38097_row1_col5\" class=\"data row1 col5\" >1.207213</td>\n",
       "    </tr>\n",
       "    <tr>\n",
       "      <th id=\"T_38097_level0_row2\" class=\"row_heading level0 row2\" >sarimax</th>\n",
       "      <td id=\"T_38097_row2_col0\" class=\"data row2 col0\" >1.534781</td>\n",
       "      <td id=\"T_38097_row2_col1\" class=\"data row2 col1\" >1.070000</td>\n",
       "      <td id=\"T_38097_row2_col2\" class=\"data row2 col2\" >1.674111</td>\n",
       "      <td id=\"T_38097_row2_col3\" class=\"data row2 col3\" >0.220000</td>\n",
       "      <td id=\"T_38097_row2_col4\" class=\"data row2 col4\" >15.530000</td>\n",
       "      <td id=\"T_38097_row2_col5\" class=\"data row2 col5\" >1.090782</td>\n",
       "    </tr>\n",
       "    <tr>\n",
       "      <th id=\"T_38097_level0_row3\" class=\"row_heading level0 row3\" >sarimax no exog</th>\n",
       "      <td id=\"T_38097_row3_col0\" class=\"data row3 col0\" >1.534781</td>\n",
       "      <td id=\"T_38097_row3_col1\" class=\"data row3 col1\" >1.070000</td>\n",
       "      <td id=\"T_38097_row3_col2\" class=\"data row3 col2\" >1.674111</td>\n",
       "      <td id=\"T_38097_row3_col3\" class=\"data row3 col3\" >0.220000</td>\n",
       "      <td id=\"T_38097_row3_col4\" class=\"data row3 col4\" >15.530000</td>\n",
       "      <td id=\"T_38097_row3_col5\" class=\"data row3 col5\" >1.090782</td>\n",
       "    </tr>\n",
       "    <tr>\n",
       "      <th id=\"T_38097_level0_row4\" class=\"row_heading level0 row4\" >autoarima</th>\n",
       "      <td id=\"T_38097_row4_col0\" class=\"data row4 col0\" >2.098202</td>\n",
       "      <td id=\"T_38097_row4_col1\" class=\"data row4 col1\" >1.630000</td>\n",
       "      <td id=\"T_38097_row4_col2\" class=\"data row4 col2\" >1.872705</td>\n",
       "      <td id=\"T_38097_row4_col3\" class=\"data row4 col3\" >0.140000</td>\n",
       "      <td id=\"T_38097_row4_col4\" class=\"data row4 col4\" >16.760000</td>\n",
       "      <td id=\"T_38097_row4_col5\" class=\"data row4 col5\" >0.892529</td>\n",
       "    </tr>\n",
       "    <tr>\n",
       "      <th id=\"T_38097_level0_row5\" class=\"row_heading level0 row5\" >Holt-Winters</th>\n",
       "      <td id=\"T_38097_row5_col0\" class=\"data row5 col0\" >1.659518</td>\n",
       "      <td id=\"T_38097_row5_col1\" class=\"data row5 col1\" >1.360000</td>\n",
       "      <td id=\"T_38097_row5_col2\" class=\"data row5 col2\" >1.853458</td>\n",
       "      <td id=\"T_38097_row5_col3\" class=\"data row5 col3\" >0.180000</td>\n",
       "      <td id=\"T_38097_row5_col4\" class=\"data row5 col4\" >18.170000</td>\n",
       "      <td id=\"T_38097_row5_col5\" class=\"data row5 col5\" >1.116865</td>\n",
       "    </tr>\n",
       "  </tbody>\n",
       "</table>\n"
      ],
      "text/plain": [
       "<pandas.io.formats.style.Styler at 0x7fc8539d3cd0>"
      ]
     },
     "execution_count": 15,
     "metadata": {},
     "output_type": "execute_result"
    }
   ],
   "source": [
    "final_metrics = pd.DataFrame()\n",
    "metric = 'MAE'\n",
    "\n",
    "statistics = [\n",
    "    'mean',\n",
    "    'median',\n",
    "    'std',\n",
    "    'min',\n",
    "    'max',\n",
    "]\n",
    "final_metrics = pd.concat([final_metrics, metrics_prophet[metric].agg(statistics)], axis=1)\n",
    "\n",
    "# add simples smothing\n",
    "final_metrics = pd.concat([final_metrics, metrics_pred_simple_exp_smoot[metric].agg([statistics])], axis=1)\n",
    "\n",
    "# add sarimax\n",
    "final_metrics = pd.concat([final_metrics, metrics_predictions_sarimax_exog[metric].agg([statistics])], axis=1)\n",
    "# add sarimax non exog\n",
    "final_metrics = pd.concat([final_metrics, metrics_predictions_sarimax_no_exog[metric].agg([statistics])], axis=1)\n",
    "# add autoarima\n",
    "final_metrics = pd.concat([final_metrics, metrics_predictions_autoarima[metric].agg([statistics])], axis=1)\n",
    "# add hw\n",
    "final_metrics = pd.concat([final_metrics, metrics_hw[metric].agg([statistics])], axis=1)\n",
    "\n",
    "final_metrics.columns = ['prophet','simple_smoothing','sarimax', 'sarimax no exog', 'autoarima', 'Holt-Winters']\n",
    "\n",
    "final_metrics = final_metrics.T\n",
    "\n",
    "final_metrics['cv'] = final_metrics['std'] /final_metrics['mean']  \n",
    "final_metrics.style.highlight_min(color='lightgreen', axis=0)"
   ]
  },
  {
   "cell_type": "markdown",
   "metadata": {},
   "source": [
    "Pela métrica MAE os modelos que melhor performaram foram os SARIMAX (com e sem variável exógena)"
   ]
  },
  {
   "cell_type": "markdown",
   "metadata": {},
   "source": [
    "### Avaliação pela métrica MAPE"
   ]
  },
  {
   "cell_type": "markdown",
   "metadata": {},
   "source": [
    "O MAPE (Erro percentual absoluto médio) é também uma métrica comum para avaliar o desempenho dos modelos de previsão de séries temporais. O MAPE mede o erro em termos percentuais."
   ]
  },
  {
   "cell_type": "markdown",
   "metadata": {},
   "source": [
    "\n",
    " - Média: Um modelo com um valor menor de MAPE médio é considerado melhor, pois suas previsões são mais precisas.\n",
    " - Mediana: A mediana do MAPE é uma medida mais robusta a outliers, pois não é afetada por valores extremos.\n",
    " - Desvio padrão: Um modelo com desvio padrão baixo para o MAPE é considerado mais consistente, pois seus erros de previsão são mais próximos da média. "
   ]
  },
  {
   "cell_type": "code",
   "execution_count": 16,
   "metadata": {},
   "outputs": [
    {
     "data": {
      "text/html": [
       "<style type=\"text/css\">\n",
       "#T_a7de1_row0_col1, #T_a7de1_row1_col3, #T_a7de1_row2_col0, #T_a7de1_row3_col0, #T_a7de1_row4_col2, #T_a7de1_row4_col4, #T_a7de1_row4_col5 {\n",
       "  background-color: lightgreen;\n",
       "}\n",
       "</style>\n",
       "<table id=\"T_a7de1\">\n",
       "  <thead>\n",
       "    <tr>\n",
       "      <th class=\"blank level0\" >&nbsp;</th>\n",
       "      <th id=\"T_a7de1_level0_col0\" class=\"col_heading level0 col0\" >mean</th>\n",
       "      <th id=\"T_a7de1_level0_col1\" class=\"col_heading level0 col1\" >median</th>\n",
       "      <th id=\"T_a7de1_level0_col2\" class=\"col_heading level0 col2\" >std</th>\n",
       "      <th id=\"T_a7de1_level0_col3\" class=\"col_heading level0 col3\" >min</th>\n",
       "      <th id=\"T_a7de1_level0_col4\" class=\"col_heading level0 col4\" >max</th>\n",
       "      <th id=\"T_a7de1_level0_col5\" class=\"col_heading level0 col5\" >cv</th>\n",
       "    </tr>\n",
       "  </thead>\n",
       "  <tbody>\n",
       "    <tr>\n",
       "      <th id=\"T_a7de1_level0_row0\" class=\"row_heading level0 row0\" >prophet</th>\n",
       "      <td id=\"T_a7de1_row0_col0\" class=\"data row0 col0\" >65.165499</td>\n",
       "      <td id=\"T_a7de1_row0_col1\" class=\"data row0 col1\" >32.221438</td>\n",
       "      <td id=\"T_a7de1_row0_col2\" class=\"data row0 col2\" >137.931462</td>\n",
       "      <td id=\"T_a7de1_row0_col3\" class=\"data row0 col3\" >2.306472</td>\n",
       "      <td id=\"T_a7de1_row0_col4\" class=\"data row0 col4\" >1776.535147</td>\n",
       "      <td id=\"T_a7de1_row0_col5\" class=\"data row0 col5\" >2.116633</td>\n",
       "    </tr>\n",
       "    <tr>\n",
       "      <th id=\"T_a7de1_level0_row1\" class=\"row_heading level0 row1\" >simple_smoothing</th>\n",
       "      <td id=\"T_a7de1_row1_col0\" class=\"data row1 col0\" >inf</td>\n",
       "      <td id=\"T_a7de1_row1_col1\" class=\"data row1 col1\" >38.778678</td>\n",
       "      <td id=\"T_a7de1_row1_col2\" class=\"data row1 col2\" >nan</td>\n",
       "      <td id=\"T_a7de1_row1_col3\" class=\"data row1 col3\" >2.168885</td>\n",
       "      <td id=\"T_a7de1_row1_col4\" class=\"data row1 col4\" >inf</td>\n",
       "      <td id=\"T_a7de1_row1_col5\" class=\"data row1 col5\" >nan</td>\n",
       "    </tr>\n",
       "    <tr>\n",
       "      <th id=\"T_a7de1_level0_row2\" class=\"row_heading level0 row2\" >sarimax</th>\n",
       "      <td id=\"T_a7de1_row2_col0\" class=\"data row2 col0\" >55.824796</td>\n",
       "      <td id=\"T_a7de1_row2_col1\" class=\"data row2 col1\" >34.970081</td>\n",
       "      <td id=\"T_a7de1_row2_col2\" class=\"data row2 col2\" >101.852378</td>\n",
       "      <td id=\"T_a7de1_row2_col3\" class=\"data row2 col3\" >6.796140</td>\n",
       "      <td id=\"T_a7de1_row2_col4\" class=\"data row2 col4\" >1251.420640</td>\n",
       "      <td id=\"T_a7de1_row2_col5\" class=\"data row2 col5\" >1.824501</td>\n",
       "    </tr>\n",
       "    <tr>\n",
       "      <th id=\"T_a7de1_level0_row3\" class=\"row_heading level0 row3\" >sarimax no exog</th>\n",
       "      <td id=\"T_a7de1_row3_col0\" class=\"data row3 col0\" >55.824796</td>\n",
       "      <td id=\"T_a7de1_row3_col1\" class=\"data row3 col1\" >34.970081</td>\n",
       "      <td id=\"T_a7de1_row3_col2\" class=\"data row3 col2\" >101.852378</td>\n",
       "      <td id=\"T_a7de1_row3_col3\" class=\"data row3 col3\" >6.796140</td>\n",
       "      <td id=\"T_a7de1_row3_col4\" class=\"data row3 col4\" >1251.420640</td>\n",
       "      <td id=\"T_a7de1_row3_col5\" class=\"data row3 col5\" >1.824501</td>\n",
       "    </tr>\n",
       "    <tr>\n",
       "      <th id=\"T_a7de1_level0_row4\" class=\"row_heading level0 row4\" >autoarima</th>\n",
       "      <td id=\"T_a7de1_row4_col0\" class=\"data row4 col0\" >56.938106</td>\n",
       "      <td id=\"T_a7de1_row4_col1\" class=\"data row4 col1\" >51.854980</td>\n",
       "      <td id=\"T_a7de1_row4_col2\" class=\"data row4 col2\" >49.667745</td>\n",
       "      <td id=\"T_a7de1_row4_col3\" class=\"data row4 col3\" >7.408767</td>\n",
       "      <td id=\"T_a7de1_row4_col4\" class=\"data row4 col4\" >624.253914</td>\n",
       "      <td id=\"T_a7de1_row4_col5\" class=\"data row4 col5\" >0.872311</td>\n",
       "    </tr>\n",
       "    <tr>\n",
       "      <th id=\"T_a7de1_level0_row5\" class=\"row_heading level0 row5\" >Holt-Winters</th>\n",
       "      <td id=\"T_a7de1_row5_col0\" class=\"data row5 col0\" >inf</td>\n",
       "      <td id=\"T_a7de1_row5_col1\" class=\"data row5 col1\" >39.797832</td>\n",
       "      <td id=\"T_a7de1_row5_col2\" class=\"data row5 col2\" >nan</td>\n",
       "      <td id=\"T_a7de1_row5_col3\" class=\"data row5 col3\" >4.955530</td>\n",
       "      <td id=\"T_a7de1_row5_col4\" class=\"data row5 col4\" >inf</td>\n",
       "      <td id=\"T_a7de1_row5_col5\" class=\"data row5 col5\" >nan</td>\n",
       "    </tr>\n",
       "  </tbody>\n",
       "</table>\n"
      ],
      "text/plain": [
       "<pandas.io.formats.style.Styler at 0x7fc853936860>"
      ]
     },
     "execution_count": 16,
     "metadata": {},
     "output_type": "execute_result"
    }
   ],
   "source": [
    "final_metrics = pd.DataFrame()\n",
    "metric = 'MAPE'\n",
    "\n",
    "statistics = [\n",
    "    'mean',\n",
    "    'median',\n",
    "    'std',\n",
    "    'min',\n",
    "    'max',\n",
    "]\n",
    "final_metrics = pd.concat([final_metrics, metrics_prophet[metric].agg(statistics)], axis=1)\n",
    "\n",
    "# add simples smothing\n",
    "final_metrics = pd.concat([final_metrics, metrics_pred_simple_exp_smoot[metric].agg([statistics])], axis=1)\n",
    "\n",
    "# add sarimax\n",
    "final_metrics = pd.concat([final_metrics, metrics_predictions_sarimax_exog[metric].agg([statistics])], axis=1)\n",
    "# add sarimax non exog\n",
    "final_metrics = pd.concat([final_metrics, metrics_predictions_sarimax_no_exog[metric].agg([statistics])], axis=1)\n",
    "# add autoarima\n",
    "final_metrics = pd.concat([final_metrics, metrics_predictions_autoarima[metric].agg([statistics])], axis=1)\n",
    "# add hw\n",
    "final_metrics = pd.concat([final_metrics, metrics_hw[metric].agg([statistics])], axis=1)\n",
    "\n",
    "final_metrics.columns = ['prophet','simple_smoothing','sarimax', 'sarimax no exog', 'autoarima', 'Holt-Winters']\n",
    "\n",
    "final_metrics = final_metrics.T\n",
    "\n",
    "final_metrics['cv'] = final_metrics['std'] /final_metrics['mean']  \n",
    "final_metrics.style.highlight_min(color='lightgreen', axis=0)"
   ]
  },
  {
   "cell_type": "markdown",
   "metadata": {},
   "source": [
    "Para o MAPE o modelo que melhor performou foi o autoarima, apesar do SARIMAX obter a melhor média."
   ]
  },
  {
   "cell_type": "markdown",
   "metadata": {},
   "source": [
    "### Avaliação pelo método RMSE"
   ]
  },
  {
   "cell_type": "markdown",
   "metadata": {},
   "source": [
    "O RMSE (Raiz do Erro Quadrático Médio) é uma métrica comum para avaliar o desempenho de modelos de previsão. Ele mede a diferença entre os valores previstos pelo modelo e os valores reais observados, elevando ao quadrado as diferenças antes de calcular a média e, em seguida, tirando a raiz quadrada do resultado. Isso dá mais peso aos erros grandes, pois eles são elevados ao quadrado antes de serem somados. O RMSE é útil quando se deseja penalizar erros grandes e pode ser usado para comparar o desempenho de diferentes modelos. Um modelo com um valor menor de RMSE é considerado melhor, pois suas previsões são mais precisas."
   ]
  },
  {
   "cell_type": "markdown",
   "metadata": {},
   "source": [
    "\n",
    " - Média: Um modelo com um valor menor de RMSE médio é considerado melhor, pois suas previsões são mais precisas.\n",
    " - Mediana: A mediana do RMSE é uma medida mais robusta a outliers, pois não é afetada por valores extremos.\n",
    " - Desvio padrão: Um modelo com desvio padrão baixo para o RMSE é considerado mais consistente, pois seus erros de previsão são mais próximos da média. "
   ]
  },
  {
   "cell_type": "code",
   "execution_count": 17,
   "metadata": {},
   "outputs": [
    {
     "data": {
      "text/html": [
       "<style type=\"text/css\">\n",
       "#T_8eb57_row0_col1, #T_8eb57_row0_col2, #T_8eb57_row0_col4, #T_8eb57_row1_col3, #T_8eb57_row2_col0, #T_8eb57_row3_col0, #T_8eb57_row4_col5 {\n",
       "  background-color: lightgreen;\n",
       "}\n",
       "</style>\n",
       "<table id=\"T_8eb57\">\n",
       "  <thead>\n",
       "    <tr>\n",
       "      <th class=\"blank level0\" >&nbsp;</th>\n",
       "      <th id=\"T_8eb57_level0_col0\" class=\"col_heading level0 col0\" >mean</th>\n",
       "      <th id=\"T_8eb57_level0_col1\" class=\"col_heading level0 col1\" >median</th>\n",
       "      <th id=\"T_8eb57_level0_col2\" class=\"col_heading level0 col2\" >std</th>\n",
       "      <th id=\"T_8eb57_level0_col3\" class=\"col_heading level0 col3\" >min</th>\n",
       "      <th id=\"T_8eb57_level0_col4\" class=\"col_heading level0 col4\" >max</th>\n",
       "      <th id=\"T_8eb57_level0_col5\" class=\"col_heading level0 col5\" >cv</th>\n",
       "    </tr>\n",
       "  </thead>\n",
       "  <tbody>\n",
       "    <tr>\n",
       "      <th id=\"T_8eb57_level0_row0\" class=\"row_heading level0 row0\" >prophet</th>\n",
       "      <td id=\"T_8eb57_row0_col0\" class=\"data row0 col0\" >1.822105</td>\n",
       "      <td id=\"T_8eb57_row0_col1\" class=\"data row0 col1\" >1.080000</td>\n",
       "      <td id=\"T_8eb57_row0_col2\" class=\"data row0 col2\" >2.125825</td>\n",
       "      <td id=\"T_8eb57_row0_col3\" class=\"data row0 col3\" >0.140000</td>\n",
       "      <td id=\"T_8eb57_row0_col4\" class=\"data row0 col4\" >19.080000</td>\n",
       "      <td id=\"T_8eb57_row0_col5\" class=\"data row0 col5\" >1.166686</td>\n",
       "    </tr>\n",
       "    <tr>\n",
       "      <th id=\"T_8eb57_level0_row1\" class=\"row_heading level0 row1\" >simple_smoothing</th>\n",
       "      <td id=\"T_8eb57_row1_col0\" class=\"data row1 col0\" >1.792237</td>\n",
       "      <td id=\"T_8eb57_row1_col1\" class=\"data row1 col1\" >1.225000</td>\n",
       "      <td id=\"T_8eb57_row1_col2\" class=\"data row1 col2\" >2.618678</td>\n",
       "      <td id=\"T_8eb57_row1_col3\" class=\"data row1 col3\" >0.080000</td>\n",
       "      <td id=\"T_8eb57_row1_col4\" class=\"data row1 col4\" >26.040000</td>\n",
       "      <td id=\"T_8eb57_row1_col5\" class=\"data row1 col5\" >1.461123</td>\n",
       "    </tr>\n",
       "    <tr>\n",
       "      <th id=\"T_8eb57_level0_row2\" class=\"row_heading level0 row2\" >sarimax</th>\n",
       "      <td id=\"T_8eb57_row2_col0\" class=\"data row2 col0\" >1.715263</td>\n",
       "      <td id=\"T_8eb57_row2_col1\" class=\"data row2 col1\" >1.175000</td>\n",
       "      <td id=\"T_8eb57_row2_col2\" class=\"data row2 col2\" >2.144695</td>\n",
       "      <td id=\"T_8eb57_row2_col3\" class=\"data row2 col3\" >0.340000</td>\n",
       "      <td id=\"T_8eb57_row2_col4\" class=\"data row2 col4\" >24.160000</td>\n",
       "      <td id=\"T_8eb57_row2_col5\" class=\"data row2 col5\" >1.250359</td>\n",
       "    </tr>\n",
       "    <tr>\n",
       "      <th id=\"T_8eb57_level0_row3\" class=\"row_heading level0 row3\" >sarimax no exog</th>\n",
       "      <td id=\"T_8eb57_row3_col0\" class=\"data row3 col0\" >1.715263</td>\n",
       "      <td id=\"T_8eb57_row3_col1\" class=\"data row3 col1\" >1.175000</td>\n",
       "      <td id=\"T_8eb57_row3_col2\" class=\"data row3 col2\" >2.144695</td>\n",
       "      <td id=\"T_8eb57_row3_col3\" class=\"data row3 col3\" >0.340000</td>\n",
       "      <td id=\"T_8eb57_row3_col4\" class=\"data row3 col4\" >24.160000</td>\n",
       "      <td id=\"T_8eb57_row3_col5\" class=\"data row3 col5\" >1.250359</td>\n",
       "    </tr>\n",
       "    <tr>\n",
       "      <th id=\"T_8eb57_level0_row4\" class=\"row_heading level0 row4\" >autoarima</th>\n",
       "      <td id=\"T_8eb57_row4_col0\" class=\"data row4 col0\" >2.255132</td>\n",
       "      <td id=\"T_8eb57_row4_col1\" class=\"data row4 col1\" >1.690000</td>\n",
       "      <td id=\"T_8eb57_row4_col2\" class=\"data row4 col2\" >2.284594</td>\n",
       "      <td id=\"T_8eb57_row4_col3\" class=\"data row4 col3\" >0.190000</td>\n",
       "      <td id=\"T_8eb57_row4_col4\" class=\"data row4 col4\" >24.850000</td>\n",
       "      <td id=\"T_8eb57_row4_col5\" class=\"data row4 col5\" >1.013064</td>\n",
       "    </tr>\n",
       "    <tr>\n",
       "      <th id=\"T_8eb57_level0_row5\" class=\"row_heading level0 row5\" >Holt-Winters</th>\n",
       "      <td id=\"T_8eb57_row5_col0\" class=\"data row5 col0\" >1.888246</td>\n",
       "      <td id=\"T_8eb57_row5_col1\" class=\"data row5 col1\" >1.470000</td>\n",
       "      <td id=\"T_8eb57_row5_col2\" class=\"data row5 col2\" >2.561355</td>\n",
       "      <td id=\"T_8eb57_row5_col3\" class=\"data row5 col3\" >0.230000</td>\n",
       "      <td id=\"T_8eb57_row5_col4\" class=\"data row5 col4\" >25.670000</td>\n",
       "      <td id=\"T_8eb57_row5_col5\" class=\"data row5 col5\" >1.356474</td>\n",
       "    </tr>\n",
       "  </tbody>\n",
       "</table>\n"
      ],
      "text/plain": [
       "<pandas.io.formats.style.Styler at 0x7fc8481b5f60>"
      ]
     },
     "execution_count": 17,
     "metadata": {},
     "output_type": "execute_result"
    }
   ],
   "source": [
    "final_metrics = pd.DataFrame()\n",
    "metric = 'RMSE'\n",
    "\n",
    "statistics = [\n",
    "    'mean',\n",
    "    'median',\n",
    "    'std',\n",
    "    'min',\n",
    "    'max',\n",
    "]\n",
    "final_metrics = pd.concat([final_metrics, metrics_prophet[metric].agg(statistics)], axis=1)\n",
    "\n",
    "# add simples smothing\n",
    "final_metrics = pd.concat([final_metrics, metrics_pred_simple_exp_smoot[metric].agg([statistics])], axis=1)\n",
    "\n",
    "# add sarimax\n",
    "final_metrics = pd.concat([final_metrics, metrics_predictions_sarimax_exog[metric].agg([statistics])], axis=1)\n",
    "# add sarimax non exog\n",
    "final_metrics = pd.concat([final_metrics, metrics_predictions_sarimax_no_exog[metric].agg([statistics])], axis=1)\n",
    "# add autoarima\n",
    "final_metrics = pd.concat([final_metrics, metrics_predictions_autoarima[metric].agg([statistics])], axis=1)\n",
    "# add hw\n",
    "final_metrics = pd.concat([final_metrics, metrics_hw[metric].agg([statistics])], axis=1)\n",
    "\n",
    "final_metrics.columns = ['prophet','simple_smoothing','sarimax', 'sarimax no exog', 'autoarima', 'Holt-Winters']\n",
    "\n",
    "final_metrics = final_metrics.T\n",
    "\n",
    "final_metrics['cv'] = final_metrics['std'] /final_metrics['mean']  \n",
    "final_metrics.style.highlight_min(color='lightgreen', axis=0)"
   ]
  },
  {
   "cell_type": "markdown",
   "metadata": {},
   "source": [
    "Com a métrica de RMSE o modelo que melhor performou foi o Prophet"
   ]
  },
  {
   "cell_type": "markdown",
   "metadata": {},
   "source": [
    "### Cross-Validation"
   ]
  },
  {
   "cell_type": "markdown",
   "metadata": {},
   "source": [
    "#### Simple Exponential Smoothing"
   ]
  },
  {
   "cell_type": "markdown",
   "metadata": {},
   "source": [
    "A validação cruzada consiste em dividir o conjunto de dados em partes, ajustar o modelo em uma parte dos dados (chamada de conjunto de treinamento) e avaliar o desempenho do modelo na outra parte dos dados (chamada de conjunto de teste).<br/><br/> Esse processo é repetido várias vezes, com diferentes divisões dos dados, para obter uma estimativa mais precisa do desempenho do modelo. "
   ]
  },
  {
   "cell_type": "code",
   "execution_count": 18,
   "metadata": {},
   "outputs": [],
   "source": [
    "test_years = 5\n",
    "train_data = df_model.iloc[:-test_years, :]\n",
    "test_data = df_model.iloc[-test_years:, :]\n"
   ]
  },
  {
   "cell_type": "code",
   "execution_count": null,
   "metadata": {},
   "outputs": [],
   "source": [
    "#MAPE function\n",
    "def MAPE(df_model_true, df_model_pred):\n",
    "    df_model_true, df_model_pred = np.array(df_model_true), np.array(df_model_pred)\n",
    "    return np.mean(np.abs((df_model_true - df_model_pred)/ df_model_true)) *100\n"
   ]
  },
  {
   "cell_type": "code",
   "execution_count": null,
   "metadata": {},
   "outputs": [],
   "source": [
    "#Create an empty dataframe to store the model metrics\n",
    "df_final_metrics_simple_exponential_cv = pd.DataFrame()\n",
    "\n",
    "# Defining the number of splits\n",
    "n_splits = 5\n",
    "\n",
    "# Create an object TimeSeriesSplit\n",
    "tscv = TimeSeriesSplit(n_splits=n_splits)\n",
    "\n",
    "\n",
    "# Inside the loop for cross-validation splits\n",
    "for country in df_model.columns:\n",
    "    final_metrics_cv = pd.DataFrame()\n",
    "    for train_idx, test_idx in tscv.split(train_data[country]):\n",
    "        train_data_idx = train_data[country].iloc[train_idx]\n",
    "        test_data_idx = train_data[country].iloc[test_idx]\n",
    "\n",
    "        model_simple_exp_smoot = SimpleExpSmoothing(\n",
    "            train_data_idx,\n",
    "            #initialization_method='heuristic',                              \n",
    "            ).fit(smoothing_level=0.2, optimized=True)\n",
    "        pred_simple_exp_smoot = model_simple_exp_smoot.forecast(test_data_idx.shape[0])\n",
    "        mae = mean_absolute_error(test_data_idx, pred_simple_exp_smoot)\n",
    "        final_metrics_cv = pd.concat([final_metrics_cv, pd.DataFrame({country: [mae]})], ignore_index=True)\n",
    "\n",
    "    df_final_metrics_simple_exponential_cv = pd.concat([df_final_metrics_simple_exponential_cv, final_metrics_cv], axis=1)\n",
    "aux = df_final_metrics_simple_exponential_cv.mean()\n",
    "\n",
    "print(\"mean mae for all countrys\",aux.values.mean())\n",
    "print(\"median mae for all countrys\",np.median(aux.values))\n",
    "print(\"std mae for all countrys\",aux.values.std())\n",
    "print(\"std mae for all countrys\",aux.values.max())\n",
    "print(\"std mae for all countrys\",aux.values.min())\n",
    "print(\"cv mae for all countrys\",aux.values.std() / aux.values.mean())\n",
    "plt.hist(aux.values, bins=70);"
   ]
  },
  {
   "cell_type": "code",
   "execution_count": null,
   "metadata": {},
   "outputs": [],
   "source": [
    "metrics_predictions_simple_exponential_cv = pd.DataFrame()\n",
    "metrics_results = []\n",
    "for country in df_model.columns:\n",
    "    mae = (round(mean_absolute_error(test_data[country], df_final_metrics_simple_exponential_cv[country]),2))\n",
    "    rmse = (round(np.sqrt(mean_squared_error(test_data[country], df_final_metrics_simple_exponential_cv[country])),2))\n",
    "    mape = (MAPE(test_data[country], df_final_metrics_simple_exponential_cv[country]))\n",
    "    #print(f\"Country: {country}\")\n",
    "    #print(f\"MAE: {mae}\")\n",
    "    #print(f\"RMSE: {rmse}\")\n",
    "    #print(f\"MAPE: {mape}\")\n",
    "    #print(\"=============\")\n",
    "    metrics_results.append({\n",
    "        \"Country\": country,\n",
    "        \"MAE\": mae,\n",
    "        \"RMSE\": rmse,\n",
    "        \"MAPE\": mape\n",
    "    })\n",
    "\n",
    "metrics_predictions_simple_exponential_cv = pd.DataFrame(metrics_results)\n",
    "metrics_predictions_simple_exponential_cv.to_csv('../../Projeto/Data/Metrics/metrics_predictions_simple_exponential_cv.csv', index = True)"
   ]
  },
  {
   "cell_type": "markdown",
   "metadata": {},
   "source": [
    "### Asserção entre Simple Exponential Smoothing e Prophet"
   ]
  },
  {
   "cell_type": "code",
   "execution_count": 101,
   "metadata": {},
   "outputs": [],
   "source": [
    "df_final_metrics_cv_prophet = pd.read_csv(r'../../Projeto/Data/Metrics/df_final_metrics_cv_prophet.csv')\n",
    "df_final_metrics_cv_simple_exponential = pd.read_csv(r'../../Projeto/Data/Metrics/metrics_predictions_sarimax_cv.csv')"
   ]
  },
  {
   "cell_type": "code",
   "execution_count": 103,
   "metadata": {},
   "outputs": [
    {
     "data": {
      "text/html": [
       "<style type=\"text/css\">\n",
       "#T_b7a49_row0_col5, #T_b7a49_row1_col0, #T_b7a49_row1_col1, #T_b7a49_row1_col2, #T_b7a49_row1_col3, #T_b7a49_row1_col4 {\n",
       "  background-color: lightgreen;\n",
       "}\n",
       "</style>\n",
       "<table id=\"T_b7a49\">\n",
       "  <thead>\n",
       "    <tr>\n",
       "      <th class=\"blank level0\" >&nbsp;</th>\n",
       "      <th id=\"T_b7a49_level0_col0\" class=\"col_heading level0 col0\" >mean</th>\n",
       "      <th id=\"T_b7a49_level0_col1\" class=\"col_heading level0 col1\" >median</th>\n",
       "      <th id=\"T_b7a49_level0_col2\" class=\"col_heading level0 col2\" >std</th>\n",
       "      <th id=\"T_b7a49_level0_col3\" class=\"col_heading level0 col3\" >min</th>\n",
       "      <th id=\"T_b7a49_level0_col4\" class=\"col_heading level0 col4\" >max</th>\n",
       "      <th id=\"T_b7a49_level0_col5\" class=\"col_heading level0 col5\" >cv</th>\n",
       "    </tr>\n",
       "  </thead>\n",
       "  <tbody>\n",
       "    <tr>\n",
       "      <th id=\"T_b7a49_level0_row0\" class=\"row_heading level0 row0\" >prophet</th>\n",
       "      <td id=\"T_b7a49_row0_col0\" class=\"data row0 col0\" >4.810569</td>\n",
       "      <td id=\"T_b7a49_row0_col1\" class=\"data row0 col1\" >3.913402</td>\n",
       "      <td id=\"T_b7a49_row0_col2\" class=\"data row0 col2\" >3.404861</td>\n",
       "      <td id=\"T_b7a49_row0_col3\" class=\"data row0 col3\" >0.907972</td>\n",
       "      <td id=\"T_b7a49_row0_col4\" class=\"data row0 col4\" >31.538620</td>\n",
       "      <td id=\"T_b7a49_row0_col5\" class=\"data row0 col5\" >0.707787</td>\n",
       "    </tr>\n",
       "    <tr>\n",
       "      <th id=\"T_b7a49_level0_row1\" class=\"row_heading level0 row1\" >sarimax no exog</th>\n",
       "      <td id=\"T_b7a49_row1_col0\" class=\"data row1 col0\" >3.003026</td>\n",
       "      <td id=\"T_b7a49_row1_col1\" class=\"data row1 col1\" >2.240000</td>\n",
       "      <td id=\"T_b7a49_row1_col2\" class=\"data row1 col2\" >2.851083</td>\n",
       "      <td id=\"T_b7a49_row1_col3\" class=\"data row1 col3\" >0.440000</td>\n",
       "      <td id=\"T_b7a49_row1_col4\" class=\"data row1 col4\" >21.380000</td>\n",
       "      <td id=\"T_b7a49_row1_col5\" class=\"data row1 col5\" >0.949403</td>\n",
       "    </tr>\n",
       "  </tbody>\n",
       "</table>\n"
      ],
      "text/plain": [
       "<pandas.io.formats.style.Styler at 0x7fc850b5c940>"
      ]
     },
     "execution_count": 103,
     "metadata": {},
     "output_type": "execute_result"
    }
   ],
   "source": [
    "final_metrics_cv = pd.DataFrame()\n",
    "metrics = 'MAE'\n",
    "\n",
    "statistics = [\n",
    "    'mean',\n",
    "    'median',\n",
    "    'std',\n",
    "    'min',\n",
    "    'max',\n",
    "]\n",
    "final_metrics_cv = pd.concat([final_metrics_cv, df_final_metrics_cv_prophet[metric].agg(statistics)], axis=1)\n",
    "\n",
    "# add simple exponential\n",
    "final_metrics_cv = pd.concat([final_metrics_cv, df_final_metrics_cv_simple_exponential[metric].agg([statistics])], axis=1)\n",
    "\n",
    "final_metrics_cv.columns = ['prophet', 'simple exponential']\n",
    "final_metrics_cv = final_metrics_cv.T\n",
    "\n",
    "final_metrics_cv['cv'] = final_metrics_cv['std'] /final_metrics_cv['mean']  \n",
    "final_metrics_cv.style.highlight_min(color='lightgreen', axis=0)\n"
   ]
  },
  {
   "cell_type": "markdown",
   "metadata": {},
   "source": [
    "Após realizada a validação cruzada entre os modelos Prophet e Simple Exponential Smoothing e avaliada as métricas obtidas, o modelo que melhor performou foi o Simple Exponential Smoothing, sendo este o modelo a ser escolhido para realizar as previsões finais. "
   ]
  }
 ],
 "metadata": {
  "kernelspec": {
   "display_name": "venv",
   "language": "python",
   "name": "python3"
  },
  "language_info": {
   "codemirror_mode": {
    "name": "ipython",
    "version": 3
   },
   "file_extension": ".py",
   "mimetype": "text/x-python",
   "name": "python",
   "nbconvert_exporter": "python",
   "pygments_lexer": "ipython3",
   "version": "3.10.12"
  },
  "orig_nbformat": 4
 },
 "nbformat": 4,
 "nbformat_minor": 2
}
