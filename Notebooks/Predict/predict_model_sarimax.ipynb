{
 "cells": [
  {
   "cell_type": "markdown",
   "metadata": {},
   "source": [
    "## Import das bibliotecas utilizadas\n"
   ]
  },
  {
   "cell_type": "code",
   "execution_count": 12,
   "metadata": {},
   "outputs": [],
   "source": [
    "import pandas as pd\n",
    "import numpy as np\n",
    "from pmdarima.arima import auto_arima\n",
    "\n"
   ]
  },
  {
   "cell_type": "markdown",
   "metadata": {},
   "source": [
    "### Carregamento dos dados para a parte de Modelagem"
   ]
  },
  {
   "cell_type": "code",
   "execution_count": 13,
   "metadata": {},
   "outputs": [],
   "source": [
    "df_transposed_copy_inputting_v19 = pd.read_csv(r'../../Projeto/Data/Output/df_transposed_copy_inputting_v19.csv')\n"
   ]
  },
  {
   "cell_type": "markdown",
   "metadata": {},
   "source": [
    "## Modelagem"
   ]
  },
  {
   "cell_type": "markdown",
   "metadata": {},
   "source": [
    "Modelos de Forecasting são divididos em partes pré e pós período desejado para previsão. Os períodos utilizados devem ser equiparáveis ao tipo de questão analisada."
   ]
  },
  {
   "cell_type": "code",
   "execution_count": 14,
   "metadata": {},
   "outputs": [],
   "source": [
    "df_model = df_transposed_copy_inputting_v19.copy()"
   ]
  },
  {
   "cell_type": "code",
   "execution_count": 15,
   "metadata": {},
   "outputs": [],
   "source": [
    "df_model['year'] = pd.to_datetime(df_model['year'], format='ISO8601')\n"
   ]
  },
  {
   "cell_type": "code",
   "execution_count": 16,
   "metadata": {},
   "outputs": [
    {
     "name": "stdout",
     "output_type": "stream",
     "text": [
      "<class 'pandas.core.frame.DataFrame'>\n",
      "DatetimeIndex: 49 entries, 1980-01-01 to 2028-01-01\n",
      "Columns: 228 entries, Afghanistan to World\n",
      "dtypes: float64(228)\n",
      "memory usage: 87.7 KB\n"
     ]
    }
   ],
   "source": [
    "df_model.set_index('year', inplace = True)\n",
    "df_model.info()"
   ]
  },
  {
   "cell_type": "markdown",
   "metadata": {},
   "source": [
    "#### Training and Test set"
   ]
  },
  {
   "cell_type": "code",
   "execution_count": 17,
   "metadata": {},
   "outputs": [],
   "source": [
    "test_years = 5\n",
    "train_data = df_model.iloc[:-test_years, :]"
   ]
  },
  {
   "cell_type": "code",
   "execution_count": 18,
   "metadata": {},
   "outputs": [
    {
     "name": "stdout",
     "output_type": "stream",
     "text": [
      "<class 'pandas.core.frame.DataFrame'>\n",
      "DatetimeIndex: 5 entries, 2024-01-01 to 2028-01-01\n",
      "Columns: 228 entries, Afghanistan to World\n",
      "dtypes: float64(228)\n",
      "memory usage: 8.9 KB\n"
     ]
    }
   ],
   "source": [
    "test_data = df_model.iloc[-test_years:, :]\n",
    "test_data.info()\n"
   ]
  },
  {
   "cell_type": "markdown",
   "metadata": {},
   "source": [
    "### Modelo SARIMAX sem variável exógena"
   ]
  },
  {
   "cell_type": "code",
   "execution_count": 20,
   "metadata": {},
   "outputs": [
    {
     "data": {
      "text/html": [
       "<div>\n",
       "<style scoped>\n",
       "    .dataframe tbody tr th:only-of-type {\n",
       "        vertical-align: middle;\n",
       "    }\n",
       "\n",
       "    .dataframe tbody tr th {\n",
       "        vertical-align: top;\n",
       "    }\n",
       "\n",
       "    .dataframe thead th {\n",
       "        text-align: right;\n",
       "    }\n",
       "</style>\n",
       "<table border=\"1\" class=\"dataframe\">\n",
       "  <thead>\n",
       "    <tr style=\"text-align: right;\">\n",
       "      <th></th>\n",
       "      <th>Afghanistan</th>\n",
       "      <th>Albania</th>\n",
       "      <th>Algeria</th>\n",
       "      <th>Andorra</th>\n",
       "      <th>Angola</th>\n",
       "      <th>Antigua and Barbuda</th>\n",
       "      <th>Argentina</th>\n",
       "      <th>Armenia</th>\n",
       "      <th>Aruba</th>\n",
       "      <th>Australia</th>\n",
       "      <th>...</th>\n",
       "      <th>Emerging and Developing Europe</th>\n",
       "      <th>Emerging market and developing economies</th>\n",
       "      <th>Euro area</th>\n",
       "      <th>European Union</th>\n",
       "      <th>Latin America and the Caribbean</th>\n",
       "      <th>Major advanced economies (G7)</th>\n",
       "      <th>Middle East and Central Asia</th>\n",
       "      <th>Other advanced economies</th>\n",
       "      <th>Sub-Saharan Africa</th>\n",
       "      <th>World</th>\n",
       "    </tr>\n",
       "  </thead>\n",
       "  <tbody>\n",
       "    <tr>\n",
       "      <th>0</th>\n",
       "      <td>4.716307</td>\n",
       "      <td>3.738784</td>\n",
       "      <td>5.730262</td>\n",
       "      <td>17.358588</td>\n",
       "      <td>2.431248</td>\n",
       "      <td>3.889696</td>\n",
       "      <td>-0.093307</td>\n",
       "      <td>5.5</td>\n",
       "      <td>2.369578</td>\n",
       "      <td>3.560694</td>\n",
       "      <td>...</td>\n",
       "      <td>1.990091</td>\n",
       "      <td>3.898848</td>\n",
       "      <td>1.762987</td>\n",
       "      <td>1.474017</td>\n",
       "      <td>-0.957572</td>\n",
       "      <td>2.086364</td>\n",
       "      <td>2.9</td>\n",
       "      <td>2.840787</td>\n",
       "      <td>3.296295</td>\n",
       "      <td>2.880376</td>\n",
       "    </tr>\n",
       "    <tr>\n",
       "      <th>1</th>\n",
       "      <td>6.623662</td>\n",
       "      <td>2.832769</td>\n",
       "      <td>1.779494</td>\n",
       "      <td>14.977775</td>\n",
       "      <td>2.431248</td>\n",
       "      <td>3.386085</td>\n",
       "      <td>3.584008</td>\n",
       "      <td>5.5</td>\n",
       "      <td>2.369578</td>\n",
       "      <td>2.707185</td>\n",
       "      <td>...</td>\n",
       "      <td>1.725775</td>\n",
       "      <td>3.898848</td>\n",
       "      <td>1.762987</td>\n",
       "      <td>1.978909</td>\n",
       "      <td>3.344497</td>\n",
       "      <td>2.086364</td>\n",
       "      <td>2.9</td>\n",
       "      <td>2.885672</td>\n",
       "      <td>3.296295</td>\n",
       "      <td>3.450667</td>\n",
       "    </tr>\n",
       "    <tr>\n",
       "      <th>2</th>\n",
       "      <td>5.131860</td>\n",
       "      <td>2.832769</td>\n",
       "      <td>1.866865</td>\n",
       "      <td>13.016893</td>\n",
       "      <td>2.431248</td>\n",
       "      <td>3.386085</td>\n",
       "      <td>3.064900</td>\n",
       "      <td>5.5</td>\n",
       "      <td>2.369578</td>\n",
       "      <td>3.230111</td>\n",
       "      <td>...</td>\n",
       "      <td>1.680279</td>\n",
       "      <td>3.898848</td>\n",
       "      <td>1.762987</td>\n",
       "      <td>1.878592</td>\n",
       "      <td>2.883838</td>\n",
       "      <td>2.086364</td>\n",
       "      <td>2.9</td>\n",
       "      <td>2.927956</td>\n",
       "      <td>3.296295</td>\n",
       "      <td>3.181182</td>\n",
       "    </tr>\n",
       "    <tr>\n",
       "      <th>3</th>\n",
       "      <td>7.627398</td>\n",
       "      <td>2.832769</td>\n",
       "      <td>2.045162</td>\n",
       "      <td>25.204504</td>\n",
       "      <td>2.431248</td>\n",
       "      <td>3.386085</td>\n",
       "      <td>1.799113</td>\n",
       "      <td>5.5</td>\n",
       "      <td>2.369578</td>\n",
       "      <td>2.909726</td>\n",
       "      <td>...</td>\n",
       "      <td>1.336253</td>\n",
       "      <td>3.898848</td>\n",
       "      <td>1.762987</td>\n",
       "      <td>1.794893</td>\n",
       "      <td>1.899359</td>\n",
       "      <td>2.086364</td>\n",
       "      <td>2.9</td>\n",
       "      <td>2.967791</td>\n",
       "      <td>3.296295</td>\n",
       "      <td>2.657519</td>\n",
       "    </tr>\n",
       "    <tr>\n",
       "      <th>4</th>\n",
       "      <td>8.032991</td>\n",
       "      <td>2.832769</td>\n",
       "      <td>2.293944</td>\n",
       "      <td>22.505046</td>\n",
       "      <td>2.431248</td>\n",
       "      <td>3.386085</td>\n",
       "      <td>1.749198</td>\n",
       "      <td>5.5</td>\n",
       "      <td>2.369578</td>\n",
       "      <td>3.106019</td>\n",
       "      <td>...</td>\n",
       "      <td>1.922639</td>\n",
       "      <td>3.898848</td>\n",
       "      <td>1.762987</td>\n",
       "      <td>1.807118</td>\n",
       "      <td>0.998756</td>\n",
       "      <td>2.086364</td>\n",
       "      <td>2.9</td>\n",
       "      <td>3.005319</td>\n",
       "      <td>3.296295</td>\n",
       "      <td>2.202266</td>\n",
       "    </tr>\n",
       "  </tbody>\n",
       "</table>\n",
       "<p>5 rows × 228 columns</p>\n",
       "</div>"
      ],
      "text/plain": [
       "   Afghanistan   Albania   Algeria    Andorra    Angola  Antigua and Barbuda  \\\n",
       "0     4.716307  3.738784  5.730262  17.358588  2.431248             3.889696   \n",
       "1     6.623662  2.832769  1.779494  14.977775  2.431248             3.386085   \n",
       "2     5.131860  2.832769  1.866865  13.016893  2.431248             3.386085   \n",
       "3     7.627398  2.832769  2.045162  25.204504  2.431248             3.386085   \n",
       "4     8.032991  2.832769  2.293944  22.505046  2.431248             3.386085   \n",
       "\n",
       "   Argentina  Armenia     Aruba  Australia  ...  \\\n",
       "0  -0.093307      5.5  2.369578   3.560694  ...   \n",
       "1   3.584008      5.5  2.369578   2.707185  ...   \n",
       "2   3.064900      5.5  2.369578   3.230111  ...   \n",
       "3   1.799113      5.5  2.369578   2.909726  ...   \n",
       "4   1.749198      5.5  2.369578   3.106019  ...   \n",
       "\n",
       "   Emerging and Developing Europe  Emerging market and developing economies  \\\n",
       "0                        1.990091                                  3.898848   \n",
       "1                        1.725775                                  3.898848   \n",
       "2                        1.680279                                  3.898848   \n",
       "3                        1.336253                                  3.898848   \n",
       "4                        1.922639                                  3.898848   \n",
       "\n",
       "   Euro area  European Union  Latin America and the Caribbean  \\\n",
       "0   1.762987        1.474017                        -0.957572   \n",
       "1   1.762987        1.978909                         3.344497   \n",
       "2   1.762987        1.878592                         2.883838   \n",
       "3   1.762987        1.794893                         1.899359   \n",
       "4   1.762987        1.807118                         0.998756   \n",
       "\n",
       "   Major advanced economies (G7)  Middle East and Central Asia  \\\n",
       "0                       2.086364                           2.9   \n",
       "1                       2.086364                           2.9   \n",
       "2                       2.086364                           2.9   \n",
       "3                       2.086364                           2.9   \n",
       "4                       2.086364                           2.9   \n",
       "\n",
       "   Other advanced economies  Sub-Saharan Africa     World  \n",
       "0                  2.840787            3.296295  2.880376  \n",
       "1                  2.885672            3.296295  3.450667  \n",
       "2                  2.927956            3.296295  3.181182  \n",
       "3                  2.967791            3.296295  2.657519  \n",
       "4                  3.005319            3.296295  2.202266  \n",
       "\n",
       "[5 rows x 228 columns]"
      ]
     },
     "execution_count": 20,
     "metadata": {},
     "output_type": "execute_result"
    }
   ],
   "source": [
    "df_pred_auto_sarimax_no_exog = pd.DataFrame()\n",
    "for country in df_model.columns:\n",
    "        model_sarimax_no_exog = auto_arima(train_data[country],\n",
    "                m=4,\n",
    "                test='adf',\n",
    "                seasonal=True,\n",
    "                stepwise=True,\n",
    "                #d=0,\n",
    "                #start_p=0,\n",
    "                #max_p=1,\n",
    "                #start_q=0,\n",
    "                #max_q=1,\n",
    "        )\n",
    "        predictions_sarimax_no_exog = model_sarimax_no_exog.predict(n_periods = len(test_data[country])).rename(\"SARIMAX Non Exog\")\n",
    "        df_pred_auto_sarimax_no_exog = pd.concat([df_pred_auto_sarimax_no_exog, pd.DataFrame(predictions_sarimax_no_exog.values, columns=[country])], axis=1)\n",
    "df_pred_auto_sarimax_no_exog.head()"
   ]
  },
  {
   "cell_type": "markdown",
   "metadata": {},
   "source": [
    "### Save dataframe"
   ]
  },
  {
   "cell_type": "code",
   "execution_count": 22,
   "metadata": {},
   "outputs": [],
   "source": [
    "## Export forecast\n",
    "\n",
    "df_pred_auto_sarimax_no_exog.to_csv('../../Projeto/Data/Output/predict.csv', index = True)"
   ]
  }
 ],
 "metadata": {
  "kernelspec": {
   "display_name": "venv",
   "language": "python",
   "name": "python3"
  },
  "language_info": {
   "codemirror_mode": {
    "name": "ipython",
    "version": 3
   },
   "file_extension": ".py",
   "mimetype": "text/x-python",
   "name": "python",
   "nbconvert_exporter": "python",
   "pygments_lexer": "ipython3",
   "version": "3.10.12"
  },
  "orig_nbformat": 4
 },
 "nbformat": 4,
 "nbformat_minor": 2
}
