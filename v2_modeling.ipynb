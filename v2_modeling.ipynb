{
 "cells": [
  {
   "cell_type": "markdown",
   "metadata": {},
   "source": [
    "## Import das bibliotecas utilizadas\n"
   ]
  },
  {
   "cell_type": "code",
   "execution_count": 1,
   "metadata": {},
   "outputs": [],
   "source": [
    "import pandas as pd\n",
    "import numpy as np\n",
    "import openpyxl\n",
    "\n",
    "import matplotlib as mpl\n",
    "import matplotlib.pyplot as plt\n",
    "import seaborn as sns\n",
    "from statistics import multimode\n"
   ]
  },
  {
   "cell_type": "markdown",
   "metadata": {},
   "source": [
    "### Carregamento dos dados para a parte de Modelagem"
   ]
  },
  {
   "cell_type": "code",
   "execution_count": 2,
   "metadata": {},
   "outputs": [],
   "source": [
    "df_transposed_copy_inputting_v19 = pd.read_csv(r'Projeto/Data/Output/df_transposed_copy_inputting_v19.csv')\n"
   ]
  },
  {
   "cell_type": "markdown",
   "metadata": {},
   "source": [
    "## Modelagem"
   ]
  },
  {
   "cell_type": "code",
   "execution_count": 22,
   "metadata": {},
   "outputs": [],
   "source": [
    "df_model = df_transposed_copy_inputting_v19.copy()"
   ]
  },
  {
   "cell_type": "code",
   "execution_count": 24,
   "metadata": {},
   "outputs": [],
   "source": [
    "df_model['year'] = pd.to_datetime(df_model['year'], format='ISO8601')\n"
   ]
  },
  {
   "cell_type": "code",
   "execution_count": 25,
   "metadata": {},
   "outputs": [
    {
     "name": "stdout",
     "output_type": "stream",
     "text": [
      "<class 'pandas.core.frame.DataFrame'>\n",
      "DatetimeIndex: 49 entries, 1980-01-01 to 2028-01-01\n",
      "Columns: 228 entries, Afghanistan to World\n",
      "dtypes: float64(228)\n",
      "memory usage: 87.7 KB\n"
     ]
    }
   ],
   "source": [
    "df_model.set_index('year', inplace = True)\n",
    "df_model.info()"
   ]
  },
  {
   "cell_type": "code",
   "execution_count": 26,
   "metadata": {},
   "outputs": [
    {
     "data": {
      "text/html": [
       "<div>\n",
       "<style scoped>\n",
       "    .dataframe tbody tr th:only-of-type {\n",
       "        vertical-align: middle;\n",
       "    }\n",
       "\n",
       "    .dataframe tbody tr th {\n",
       "        vertical-align: top;\n",
       "    }\n",
       "\n",
       "    .dataframe thead th {\n",
       "        text-align: right;\n",
       "    }\n",
       "</style>\n",
       "<table border=\"1\" class=\"dataframe\">\n",
       "  <thead>\n",
       "    <tr style=\"text-align: right;\">\n",
       "      <th></th>\n",
       "      <th>Afghanistan</th>\n",
       "      <th>Albania</th>\n",
       "      <th>Algeria</th>\n",
       "      <th>Andorra</th>\n",
       "      <th>Angola</th>\n",
       "      <th>Antigua and Barbuda</th>\n",
       "      <th>Argentina</th>\n",
       "      <th>Armenia</th>\n",
       "      <th>Aruba</th>\n",
       "      <th>Australia</th>\n",
       "      <th>...</th>\n",
       "      <th>Emerging and Developing Europe</th>\n",
       "      <th>Emerging market and developing economies</th>\n",
       "      <th>Euro area</th>\n",
       "      <th>European Union</th>\n",
       "      <th>Latin America and the Caribbean</th>\n",
       "      <th>Major advanced economies (G7)</th>\n",
       "      <th>Middle East and Central Asia</th>\n",
       "      <th>Other advanced economies</th>\n",
       "      <th>Sub-Saharan Africa</th>\n",
       "      <th>World</th>\n",
       "    </tr>\n",
       "    <tr>\n",
       "      <th>year</th>\n",
       "      <th></th>\n",
       "      <th></th>\n",
       "      <th></th>\n",
       "      <th></th>\n",
       "      <th></th>\n",
       "      <th></th>\n",
       "      <th></th>\n",
       "      <th></th>\n",
       "      <th></th>\n",
       "      <th></th>\n",
       "      <th></th>\n",
       "      <th></th>\n",
       "      <th></th>\n",
       "      <th></th>\n",
       "      <th></th>\n",
       "      <th></th>\n",
       "      <th></th>\n",
       "      <th></th>\n",
       "      <th></th>\n",
       "      <th></th>\n",
       "      <th></th>\n",
       "    </tr>\n",
       "  </thead>\n",
       "  <tbody>\n",
       "    <tr>\n",
       "      <th>1980-01-01</th>\n",
       "      <td>4.345486</td>\n",
       "      <td>2.7</td>\n",
       "      <td>-5.4</td>\n",
       "      <td>2.877381</td>\n",
       "      <td>2.4</td>\n",
       "      <td>8.2</td>\n",
       "      <td>0.7</td>\n",
       "      <td>5.290000</td>\n",
       "      <td>5.399885</td>\n",
       "      <td>2.9</td>\n",
       "      <td>...</td>\n",
       "      <td>-0.8</td>\n",
       "      <td>3.3</td>\n",
       "      <td>3.988678</td>\n",
       "      <td>1.8</td>\n",
       "      <td>6.4</td>\n",
       "      <td>0.9</td>\n",
       "      <td>-1.9</td>\n",
       "      <td>3.8</td>\n",
       "      <td>3.991920</td>\n",
       "      <td>2.1</td>\n",
       "    </tr>\n",
       "    <tr>\n",
       "      <th>1981-01-01</th>\n",
       "      <td>7.200000</td>\n",
       "      <td>5.7</td>\n",
       "      <td>3.0</td>\n",
       "      <td>0.385714</td>\n",
       "      <td>-4.4</td>\n",
       "      <td>3.8</td>\n",
       "      <td>-5.7</td>\n",
       "      <td>3.798462</td>\n",
       "      <td>-3.624698</td>\n",
       "      <td>4.1</td>\n",
       "      <td>...</td>\n",
       "      <td>-0.5</td>\n",
       "      <td>1.9</td>\n",
       "      <td>1.792949</td>\n",
       "      <td>0.1</td>\n",
       "      <td>0.9</td>\n",
       "      <td>2.0</td>\n",
       "      <td>-0.2</td>\n",
       "      <td>4.2</td>\n",
       "      <td>4.567689</td>\n",
       "      <td>1.9</td>\n",
       "    </tr>\n",
       "    <tr>\n",
       "      <th>1982-01-01</th>\n",
       "      <td>5.116667</td>\n",
       "      <td>2.9</td>\n",
       "      <td>6.4</td>\n",
       "      <td>0.371429</td>\n",
       "      <td>0.0</td>\n",
       "      <td>-0.1</td>\n",
       "      <td>-3.1</td>\n",
       "      <td>2.306923</td>\n",
       "      <td>4.538833</td>\n",
       "      <td>0.1</td>\n",
       "      <td>...</td>\n",
       "      <td>1.4</td>\n",
       "      <td>1.5</td>\n",
       "      <td>5.395555</td>\n",
       "      <td>0.6</td>\n",
       "      <td>-0.5</td>\n",
       "      <td>-0.1</td>\n",
       "      <td>0.4</td>\n",
       "      <td>2.2</td>\n",
       "      <td>8.037341</td>\n",
       "      <td>0.7</td>\n",
       "    </tr>\n",
       "    <tr>\n",
       "      <th>1983-01-01</th>\n",
       "      <td>4.283333</td>\n",
       "      <td>1.1</td>\n",
       "      <td>5.4</td>\n",
       "      <td>1.471429</td>\n",
       "      <td>4.2</td>\n",
       "      <td>5.4</td>\n",
       "      <td>3.7</td>\n",
       "      <td>0.815385</td>\n",
       "      <td>1.930603</td>\n",
       "      <td>-0.5</td>\n",
       "      <td>...</td>\n",
       "      <td>4.6</td>\n",
       "      <td>1.8</td>\n",
       "      <td>4.752000</td>\n",
       "      <td>1.7</td>\n",
       "      <td>-2.8</td>\n",
       "      <td>3.3</td>\n",
       "      <td>0.7</td>\n",
       "      <td>4.0</td>\n",
       "      <td>3.300508</td>\n",
       "      <td>2.6</td>\n",
       "    </tr>\n",
       "    <tr>\n",
       "      <th>1984-01-01</th>\n",
       "      <td>6.166667</td>\n",
       "      <td>2.0</td>\n",
       "      <td>5.6</td>\n",
       "      <td>2.585714</td>\n",
       "      <td>6.0</td>\n",
       "      <td>10.2</td>\n",
       "      <td>2.0</td>\n",
       "      <td>-0.676154</td>\n",
       "      <td>-15.680825</td>\n",
       "      <td>6.3</td>\n",
       "      <td>...</td>\n",
       "      <td>4.1</td>\n",
       "      <td>4.1</td>\n",
       "      <td>-0.599934</td>\n",
       "      <td>2.5</td>\n",
       "      <td>3.9</td>\n",
       "      <td>5.0</td>\n",
       "      <td>0.3</td>\n",
       "      <td>6.6</td>\n",
       "      <td>5.023940</td>\n",
       "      <td>4.6</td>\n",
       "    </tr>\n",
       "  </tbody>\n",
       "</table>\n",
       "<p>5 rows × 228 columns</p>\n",
       "</div>"
      ],
      "text/plain": [
       "            Afghanistan  Albania  Algeria   Andorra  Angola  \\\n",
       "year                                                          \n",
       "1980-01-01     4.345486      2.7     -5.4  2.877381     2.4   \n",
       "1981-01-01     7.200000      5.7      3.0  0.385714    -4.4   \n",
       "1982-01-01     5.116667      2.9      6.4  0.371429     0.0   \n",
       "1983-01-01     4.283333      1.1      5.4  1.471429     4.2   \n",
       "1984-01-01     6.166667      2.0      5.6  2.585714     6.0   \n",
       "\n",
       "            Antigua and Barbuda  Argentina   Armenia      Aruba  Australia  \\\n",
       "year                                                                         \n",
       "1980-01-01                  8.2        0.7  5.290000   5.399885        2.9   \n",
       "1981-01-01                  3.8       -5.7  3.798462  -3.624698        4.1   \n",
       "1982-01-01                 -0.1       -3.1  2.306923   4.538833        0.1   \n",
       "1983-01-01                  5.4        3.7  0.815385   1.930603       -0.5   \n",
       "1984-01-01                 10.2        2.0 -0.676154 -15.680825        6.3   \n",
       "\n",
       "            ...  Emerging and Developing Europe  \\\n",
       "year        ...                                   \n",
       "1980-01-01  ...                            -0.8   \n",
       "1981-01-01  ...                            -0.5   \n",
       "1982-01-01  ...                             1.4   \n",
       "1983-01-01  ...                             4.6   \n",
       "1984-01-01  ...                             4.1   \n",
       "\n",
       "            Emerging market and developing economies  Euro area  \\\n",
       "year                                                              \n",
       "1980-01-01                                       3.3   3.988678   \n",
       "1981-01-01                                       1.9   1.792949   \n",
       "1982-01-01                                       1.5   5.395555   \n",
       "1983-01-01                                       1.8   4.752000   \n",
       "1984-01-01                                       4.1  -0.599934   \n",
       "\n",
       "            European Union  Latin America and the Caribbean  \\\n",
       "year                                                          \n",
       "1980-01-01             1.8                              6.4   \n",
       "1981-01-01             0.1                              0.9   \n",
       "1982-01-01             0.6                             -0.5   \n",
       "1983-01-01             1.7                             -2.8   \n",
       "1984-01-01             2.5                              3.9   \n",
       "\n",
       "            Major advanced economies (G7)  Middle East and Central Asia  \\\n",
       "year                                                                      \n",
       "1980-01-01                            0.9                          -1.9   \n",
       "1981-01-01                            2.0                          -0.2   \n",
       "1982-01-01                           -0.1                           0.4   \n",
       "1983-01-01                            3.3                           0.7   \n",
       "1984-01-01                            5.0                           0.3   \n",
       "\n",
       "            Other advanced economies  Sub-Saharan Africa  World  \n",
       "year                                                             \n",
       "1980-01-01                       3.8            3.991920    2.1  \n",
       "1981-01-01                       4.2            4.567689    1.9  \n",
       "1982-01-01                       2.2            8.037341    0.7  \n",
       "1983-01-01                       4.0            3.300508    2.6  \n",
       "1984-01-01                       6.6            5.023940    4.6  \n",
       "\n",
       "[5 rows x 228 columns]"
      ]
     },
     "execution_count": 26,
     "metadata": {},
     "output_type": "execute_result"
    }
   ],
   "source": [
    "df_model.head(5)"
   ]
  },
  {
   "cell_type": "code",
   "execution_count": 27,
   "metadata": {},
   "outputs": [],
   "source": [
    "test_years = 5\n",
    "train_data = df_model[:-test_years]\n",
    "test_data = df_model[-test_years:]"
   ]
  },
  {
   "cell_type": "markdown",
   "metadata": {},
   "source": [
    "### Modelo ARIMA"
   ]
  },
  {
   "cell_type": "code",
   "execution_count": null,
   "metadata": {},
   "outputs": [],
   "source": []
  },
  {
   "cell_type": "markdown",
   "metadata": {},
   "source": [
    "### Modelo AutoARIMA"
   ]
  },
  {
   "cell_type": "code",
   "execution_count": 38,
   "metadata": {},
   "outputs": [
    {
     "name": "stderr",
     "output_type": "stream",
     "text": [
      "/home/hingryd/Documents/Lighthouse/DS/venv/lib/python3.10/site-packages/pmdarima/arima/_validation.py:62: UserWarning: m (12) set for non-seasonal fit. Setting to 0\n",
      "  warnings.warn(\"m (%i) set for non-seasonal fit. Setting to 0\" % m)\n"
     ]
    }
   ],
   "source": [
    "import pandas as pd\n",
    "import numpy as np\n",
    "from pmdarima import auto_arima\n",
    "from sklearn.metrics import mean_absolute_error, mean_squared_error\n",
    "\n",
    "\n",
    "# Escolher o país para modelagem (substitua 'Afghanistan' pelo nome do país desejado)\n",
    "pais = 'Argentina'\n",
    "country_data = df_model[pais]\n",
    "\n",
    "# Calcular as taxas de crescimento\n",
    "growth_rates = country_data.pct_change().dropna()\n",
    "\n",
    "# Dividir os dados em conjuntos de treinamento e teste\n",
    "train_ratio = 0.8\n",
    "total_samples = len(growth_rates)\n",
    "train_samples = int(total_samples * train_ratio)\n",
    "train_data = growth_rates.iloc[:train_samples]\n",
    "\n",
    "# Encontrar os melhores hiperparâmetros usando o AutoARIMA\n",
    "model_sarimax = auto_arima(\n",
    "    train_data,\n",
    "    m=12,\n",
    "    seasonal=False,\n",
    "    stepwise=False\n",
    ")"
   ]
  },
  {
   "cell_type": "code",
   "execution_count": 39,
   "metadata": {},
   "outputs": [
    {
     "name": "stdout",
     "output_type": "stream",
     "text": [
      "MAE: 2.3711847258337007\n",
      "MSE: 14.348041641033012\n",
      "RMSE: 3.7878808905551677\n",
      "MAPE: inf%\n"
     ]
    }
   ],
   "source": [
    "# Resto do processo de modelagem e avaliação\n",
    "\n",
    "# Fazer previsões no conjunto de teste\n",
    "test_data = growth_rates.iloc[train_samples:]\n",
    "forecast_steps = len(test_data)\n",
    "forecast, conf_int = model_sarimax.predict(n_periods=forecast_steps, return_conf_int=True)\n",
    "\n",
    "# Calcular métricas de avaliação\n",
    "mae = mean_absolute_error(test_data, forecast)\n",
    "mse = mean_squared_error(test_data, forecast)\n",
    "rmse = np.sqrt(mse)\n",
    "\n",
    "def mean_absolute_percentage_error(y_true, y_pred):\n",
    "    return np.mean(np.abs((y_true - y_pred) / y_true)) * 100\n",
    "\n",
    "mape = mean_absolute_percentage_error(test_data, forecast)\n",
    "\n",
    "print(f\"MAE: {mae}\")\n",
    "print(f\"MSE: {mse}\")\n",
    "print(f\"RMSE: {rmse}\")\n",
    "print(f\"MAPE: {mape}%\")\n"
   ]
  },
  {
   "cell_type": "code",
   "execution_count": 40,
   "metadata": {},
   "outputs": [
    {
     "data": {
      "image/png": "[encoded data removed]",
      "text/plain": [
       "<Figure size 1000x600 with 1 Axes>"
      ]
     },
     "metadata": {},
     "output_type": "display_data"
    }
   ],
   "source": [
    "import matplotlib.pyplot as plt\n",
    "\n",
    "# Plotar os dados originais e as previsões\n",
    "plt.figure(figsize=(10, 6))\n",
    "plt.plot(test_data.index, test_data, label='Valores Reais', marker='o')\n",
    "plt.plot(test_data.index, forecast, label='Previsões', color='red', marker='x')\n",
    "plt.fill_between(test_data.index, conf_int[:, 0], conf_int[:, 1], color='red', alpha=0.2)\n",
    "plt.xlabel('Ano')\n",
    "plt.ylabel('Taxa de Crescimento')\n",
    "plt.title(f'Previsões vs. Valores Reais para {pais}')\n",
    "plt.legend()\n",
    "plt.grid(True)\n",
    "plt.show()\n"
   ]
  }
 ],
 "metadata": {
  "kernelspec": {
   "display_name": "venv",
   "language": "python",
   "name": "python3"
  },
  "language_info": {
   "codemirror_mode": {
    "name": "ipython",
    "version": 3
   },
   "file_extension": ".py",
   "mimetype": "text/x-python",
   "name": "python",
   "nbconvert_exporter": "python",
   "pygments_lexer": "ipython3",
   "version": "3.10.12"
  },
  "orig_nbformat": 4
 },
 "nbformat": 4,
 "nbformat_minor": 2
}
