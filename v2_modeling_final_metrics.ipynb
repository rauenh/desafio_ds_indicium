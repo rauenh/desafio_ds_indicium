{
 "cells": [
  {
   "cell_type": "markdown",
   "metadata": {},
   "source": [
    "## Import das bibliotecas utilizadas\n"
   ]
  },
  {
   "cell_type": "code",
   "execution_count": 10,
   "metadata": {},
   "outputs": [],
   "source": [
    "import pandas as pd\n",
    "import numpy as np\n",
    "import matplotlib as mpl\n",
    "import matplotlib.pyplot as plt\n",
    "import seaborn as sns\n",
    "from statistics import multimode\n",
    "from sklearn.metrics import mean_squared_error, mean_absolute_error\n",
    "from prophet import Prophet\n",
    "from prophet.diagnostics import cross_validation\n",
    "from sklearn.model_selection import TimeSeriesSplit\n",
    "from statsmodels.tsa.stattools import adfuller\n",
    "from statsmodels.tsa.seasonal import seasonal_decompose\n",
    "from pmdarima.arima import auto_arima\n",
    "from prophet.diagnostics import performance_metrics\n",
    "\n"
   ]
  },
  {
   "cell_type": "markdown",
   "metadata": {},
   "source": [
    "### Carregamento dos dados para a parte de Análise das métricas"
   ]
  },
  {
   "cell_type": "code",
   "execution_count": 3,
   "metadata": {},
   "outputs": [],
   "source": [
    "metrics_prophet = pd.read_csv(r'Projeto/Data/Metrics/metrics_prophet.csv')\n",
    "metrics_hw = pd.read_csv(r'Projeto/Data/Metrics/metrics_hw.csv')\n",
    "metrics_pred_simple_exp_smoot = pd.read_csv(r'Projeto/Data/Metrics/metrics_pred_simple_exp_smoot.csv')\n",
    "metrics_predictions_sarimax_exog = pd.read_csv(r'Projeto/Data/Metrics/metrics_predictions_sarimax_exog.csv')\n",
    "metrics_predictions_sarimax_no_exog = pd.read_csv(r'Projeto/Data/Metrics/metrics_predictions_sarimax_no_exog.csv')\n",
    "metrics_predictions_autoarima = pd.read_csv(r'Projeto/Data/Metrics/metrics_predictions_autoarima.csv')\n"
   ]
  },
  {
   "cell_type": "code",
   "execution_count": 4,
   "metadata": {},
   "outputs": [
    {
     "name": "stdout",
     "output_type": "stream",
     "text": [
      "<class 'pandas.core.frame.DataFrame'>\n",
      "DatetimeIndex: 49 entries, 1980-01-01 to 2028-01-01\n",
      "Columns: 228 entries, Afghanistan to World\n",
      "dtypes: float64(228)\n",
      "memory usage: 87.7 KB\n"
     ]
    }
   ],
   "source": [
    "df_transposed_copy_inputting_v19 = pd.read_csv(r'Projeto/Data/Output/df_transposed_copy_inputting_v19.csv')\n",
    "df_model = df_transposed_copy_inputting_v19.copy()\n",
    "df_model['year'] = pd.to_datetime(df_model['year'], format='ISO8601')\n",
    "df_model.set_index('year', inplace = True)\n",
    "df_model.info()\n"
   ]
  },
  {
   "cell_type": "markdown",
   "metadata": {},
   "source": [
    "## Análise de métricas vs modelos"
   ]
  },
  {
   "cell_type": "markdown",
   "metadata": {},
   "source": [
    "As métricas MAE (Erro Absoluto Médio), RMSE (Raiz do Erro Quadrático Médio) e MAPE (Erro Percentual Absoluto Médio) são importantes para avaliar o desempenho de um modelo de ciência de dados. Elas medem a diferença entre os valores previstos pelo modelo e os valores reais observados. <br/><br/> - O MAE mede a magnitude média dos erros, enquanto o RMSE dá mais peso aos erros grandes, pois eleva ao quadrado as diferenças antes de calcular a média. <br/><br/> - O MAPE mede o erro em termos percentuais, o que pode ser útil quando os valores observados variam em magnitude. <br/><br/> Ao comparar diferentes modelos, é importante escolher aquele que apresenta o menor valor para essas métricas, indicando que suas previsões são mais precisas."
   ]
  },
  {
   "cell_type": "markdown",
   "metadata": {},
   "source": [
    "A média, a mediana e o desvio padrão são medidas estatísticas que podem ser usadas para analisar um conjunto de dados. <br/><br/>\n",
    " - A média é a soma de todos os valores dividida pelo número de valores e representa o valor central do conjunto de dados. \n",
    " - A mediana é o valor que divide o conjunto de dados em duas metades iguais, ou seja, metade dos valores estão acima da mediana e metade estão abaixo.\n",
    " - O desvio padrão mede o quanto os valores do conjunto de dados se desviam da média. Um desvio padrão alto indica que os valores estão mais dispersos, enquanto um desvio padrão baixo indica que os valores estão mais proximos da média. \n"
   ]
  },
  {
   "cell_type": "markdown",
   "metadata": {},
   "source": [
    "### Análise pela métrica MAE"
   ]
  },
  {
   "cell_type": "markdown",
   "metadata": {},
   "source": [
    "O MAE (Erro Absoluto Médio) é uma métrica comum para avaliação de desempenho de modelos de previsão de séries temporais. O MAE mede a magnitude média dos erros (magnitude do erro é uma medida da diferença entre os valores previstos por um modelo e os valores reais observados, seu valor indica o queão precisa foi a previsão.)"
   ]
  },
  {
   "cell_type": "markdown",
   "metadata": {},
   "source": [
    "\n",
    " - Média: Um modelo com um valor menor de MAE médio é considerado melhor, pois suas previsões são mais precisas.\n",
    " - Mediana: A mediana do MAE é uma medida mais robusta a outliers, pois não é afetada por valores extremos.\n",
    " - Desvio padrão: Um modelo com desvio padrão baixo para o MAE é considerado mais consistente, pois seus erros de previsão são mais próximos da média. "
   ]
  },
  {
   "cell_type": "code",
   "execution_count": 5,
   "metadata": {},
   "outputs": [
    {
     "data": {
      "text/html": [
       "<style type=\"text/css\">\n",
       "#T_0484a_row0_col1, #T_0484a_row1_col3, #T_0484a_row2_col0, #T_0484a_row2_col2, #T_0484a_row2_col4, #T_0484a_row3_col0, #T_0484a_row3_col2, #T_0484a_row3_col4, #T_0484a_row4_col5 {\n",
       "  background-color: lightgreen;\n",
       "}\n",
       "</style>\n",
       "<table id=\"T_0484a\">\n",
       "  <thead>\n",
       "    <tr>\n",
       "      <th class=\"blank level0\" >&nbsp;</th>\n",
       "      <th id=\"T_0484a_level0_col0\" class=\"col_heading level0 col0\" >mean</th>\n",
       "      <th id=\"T_0484a_level0_col1\" class=\"col_heading level0 col1\" >median</th>\n",
       "      <th id=\"T_0484a_level0_col2\" class=\"col_heading level0 col2\" >std</th>\n",
       "      <th id=\"T_0484a_level0_col3\" class=\"col_heading level0 col3\" >min</th>\n",
       "      <th id=\"T_0484a_level0_col4\" class=\"col_heading level0 col4\" >max</th>\n",
       "      <th id=\"T_0484a_level0_col5\" class=\"col_heading level0 col5\" >cv</th>\n",
       "    </tr>\n",
       "  </thead>\n",
       "  <tbody>\n",
       "    <tr>\n",
       "      <th id=\"T_0484a_level0_row0\" class=\"row_heading level0 row0\" >prophet</th>\n",
       "      <td id=\"T_0484a_row0_col0\" class=\"data row0 col0\" >1.672544</td>\n",
       "      <td id=\"T_0484a_row0_col1\" class=\"data row0 col1\" >0.965000</td>\n",
       "      <td id=\"T_0484a_row0_col2\" class=\"data row0 col2\" >1.991240</td>\n",
       "      <td id=\"T_0484a_row0_col3\" class=\"data row0 col3\" >0.130000</td>\n",
       "      <td id=\"T_0484a_row0_col4\" class=\"data row0 col4\" >18.670000</td>\n",
       "      <td id=\"T_0484a_row0_col5\" class=\"data row0 col5\" >1.190546</td>\n",
       "    </tr>\n",
       "    <tr>\n",
       "      <th id=\"T_0484a_level0_row1\" class=\"row_heading level0 row1\" >simple_smoothing</th>\n",
       "      <td id=\"T_0484a_row1_col0\" class=\"data row1 col0\" >1.574254</td>\n",
       "      <td id=\"T_0484a_row1_col1\" class=\"data row1 col1\" >1.130000</td>\n",
       "      <td id=\"T_0484a_row1_col2\" class=\"data row1 col2\" >1.900460</td>\n",
       "      <td id=\"T_0484a_row1_col3\" class=\"data row1 col3\" >0.070000</td>\n",
       "      <td id=\"T_0484a_row1_col4\" class=\"data row1 col4\" >18.420000</td>\n",
       "      <td id=\"T_0484a_row1_col5\" class=\"data row1 col5\" >1.207213</td>\n",
       "    </tr>\n",
       "    <tr>\n",
       "      <th id=\"T_0484a_level0_row2\" class=\"row_heading level0 row2\" >sarimax</th>\n",
       "      <td id=\"T_0484a_row2_col0\" class=\"data row2 col0\" >1.534781</td>\n",
       "      <td id=\"T_0484a_row2_col1\" class=\"data row2 col1\" >1.070000</td>\n",
       "      <td id=\"T_0484a_row2_col2\" class=\"data row2 col2\" >1.674111</td>\n",
       "      <td id=\"T_0484a_row2_col3\" class=\"data row2 col3\" >0.220000</td>\n",
       "      <td id=\"T_0484a_row2_col4\" class=\"data row2 col4\" >15.530000</td>\n",
       "      <td id=\"T_0484a_row2_col5\" class=\"data row2 col5\" >1.090782</td>\n",
       "    </tr>\n",
       "    <tr>\n",
       "      <th id=\"T_0484a_level0_row3\" class=\"row_heading level0 row3\" >sarimax no exog</th>\n",
       "      <td id=\"T_0484a_row3_col0\" class=\"data row3 col0\" >1.534781</td>\n",
       "      <td id=\"T_0484a_row3_col1\" class=\"data row3 col1\" >1.070000</td>\n",
       "      <td id=\"T_0484a_row3_col2\" class=\"data row3 col2\" >1.674111</td>\n",
       "      <td id=\"T_0484a_row3_col3\" class=\"data row3 col3\" >0.220000</td>\n",
       "      <td id=\"T_0484a_row3_col4\" class=\"data row3 col4\" >15.530000</td>\n",
       "      <td id=\"T_0484a_row3_col5\" class=\"data row3 col5\" >1.090782</td>\n",
       "    </tr>\n",
       "    <tr>\n",
       "      <th id=\"T_0484a_level0_row4\" class=\"row_heading level0 row4\" >autoarima</th>\n",
       "      <td id=\"T_0484a_row4_col0\" class=\"data row4 col0\" >2.098202</td>\n",
       "      <td id=\"T_0484a_row4_col1\" class=\"data row4 col1\" >1.630000</td>\n",
       "      <td id=\"T_0484a_row4_col2\" class=\"data row4 col2\" >1.872705</td>\n",
       "      <td id=\"T_0484a_row4_col3\" class=\"data row4 col3\" >0.140000</td>\n",
       "      <td id=\"T_0484a_row4_col4\" class=\"data row4 col4\" >16.760000</td>\n",
       "      <td id=\"T_0484a_row4_col5\" class=\"data row4 col5\" >0.892529</td>\n",
       "    </tr>\n",
       "    <tr>\n",
       "      <th id=\"T_0484a_level0_row5\" class=\"row_heading level0 row5\" >Holt-Winters</th>\n",
       "      <td id=\"T_0484a_row5_col0\" class=\"data row5 col0\" >1.659518</td>\n",
       "      <td id=\"T_0484a_row5_col1\" class=\"data row5 col1\" >1.360000</td>\n",
       "      <td id=\"T_0484a_row5_col2\" class=\"data row5 col2\" >1.853458</td>\n",
       "      <td id=\"T_0484a_row5_col3\" class=\"data row5 col3\" >0.180000</td>\n",
       "      <td id=\"T_0484a_row5_col4\" class=\"data row5 col4\" >18.170000</td>\n",
       "      <td id=\"T_0484a_row5_col5\" class=\"data row5 col5\" >1.116865</td>\n",
       "    </tr>\n",
       "  </tbody>\n",
       "</table>\n"
      ],
      "text/plain": [
       "<pandas.io.formats.style.Styler at 0x7fc8539fdc30>"
      ]
     },
     "execution_count": 5,
     "metadata": {},
     "output_type": "execute_result"
    }
   ],
   "source": [
    "final_metrics = pd.DataFrame()\n",
    "metric = 'MAE'\n",
    "\n",
    "statistics = [\n",
    "    'mean',\n",
    "    'median',\n",
    "    'std',\n",
    "    'min',\n",
    "    'max',\n",
    "]\n",
    "final_metrics = pd.concat([final_metrics, metrics_prophet[metric].agg(statistics)], axis=1)\n",
    "\n",
    "# add simples smothing\n",
    "final_metrics = pd.concat([final_metrics, metrics_pred_simple_exp_smoot[metric].agg([statistics])], axis=1)\n",
    "\n",
    "# add sarimax\n",
    "final_metrics = pd.concat([final_metrics, metrics_predictions_sarimax_exog[metric].agg([statistics])], axis=1)\n",
    "# add sarimax non exog\n",
    "final_metrics = pd.concat([final_metrics, metrics_predictions_sarimax_no_exog[metric].agg([statistics])], axis=1)\n",
    "# add autoarima\n",
    "final_metrics = pd.concat([final_metrics, metrics_predictions_autoarima[metric].agg([statistics])], axis=1)\n",
    "# add hw\n",
    "final_metrics = pd.concat([final_metrics, metrics_hw[metric].agg([statistics])], axis=1)\n",
    "\n",
    "final_metrics.columns = ['prophet','simple_smoothing','sarimax', 'sarimax no exog', 'autoarima', 'Holt-Winters']\n",
    "\n",
    "final_metrics = final_metrics.T\n",
    "\n",
    "final_metrics['cv'] = final_metrics['std'] /final_metrics['mean']  \n",
    "final_metrics.style.highlight_min(color='lightgreen', axis=0)"
   ]
  },
  {
   "cell_type": "markdown",
   "metadata": {},
   "source": [
    "Pela métrica MAE os modelos que melhor performaram foram os SARIMAX (com e sem variável exógena)"
   ]
  },
  {
   "cell_type": "markdown",
   "metadata": {},
   "source": [
    "### Avaliação pela métrica MAPE"
   ]
  },
  {
   "cell_type": "markdown",
   "metadata": {},
   "source": [
    "O MAPE (Erro percentual absoluto médio) é também uma métrica comum para avaliar o desempenho dos modelos de previsão de séries temporais. O MAPE mede o erro em termos percentuais."
   ]
  },
  {
   "cell_type": "markdown",
   "metadata": {},
   "source": [
    "\n",
    " - Média: Um modelo com um valor menor de MAPE médio é considerado melhor, pois suas previsões são mais precisas.\n",
    " - Mediana: A mediana do MAPE é uma medida mais robusta a outliers, pois não é afetada por valores extremos.\n",
    " - Desvio padrão: Um modelo com desvio padrão baixo para o MAPE é considerado mais consistente, pois seus erros de previsão são mais próximos da média. "
   ]
  },
  {
   "cell_type": "code",
   "execution_count": 6,
   "metadata": {},
   "outputs": [
    {
     "data": {
      "text/html": [
       "<style type=\"text/css\">\n",
       "#T_d44e0_row0_col1, #T_d44e0_row1_col3, #T_d44e0_row2_col0, #T_d44e0_row3_col0, #T_d44e0_row4_col2, #T_d44e0_row4_col4, #T_d44e0_row4_col5 {\n",
       "  background-color: lightgreen;\n",
       "}\n",
       "</style>\n",
       "<table id=\"T_d44e0\">\n",
       "  <thead>\n",
       "    <tr>\n",
       "      <th class=\"blank level0\" >&nbsp;</th>\n",
       "      <th id=\"T_d44e0_level0_col0\" class=\"col_heading level0 col0\" >mean</th>\n",
       "      <th id=\"T_d44e0_level0_col1\" class=\"col_heading level0 col1\" >median</th>\n",
       "      <th id=\"T_d44e0_level0_col2\" class=\"col_heading level0 col2\" >std</th>\n",
       "      <th id=\"T_d44e0_level0_col3\" class=\"col_heading level0 col3\" >min</th>\n",
       "      <th id=\"T_d44e0_level0_col4\" class=\"col_heading level0 col4\" >max</th>\n",
       "      <th id=\"T_d44e0_level0_col5\" class=\"col_heading level0 col5\" >cv</th>\n",
       "    </tr>\n",
       "  </thead>\n",
       "  <tbody>\n",
       "    <tr>\n",
       "      <th id=\"T_d44e0_level0_row0\" class=\"row_heading level0 row0\" >prophet</th>\n",
       "      <td id=\"T_d44e0_row0_col0\" class=\"data row0 col0\" >65.165499</td>\n",
       "      <td id=\"T_d44e0_row0_col1\" class=\"data row0 col1\" >32.221438</td>\n",
       "      <td id=\"T_d44e0_row0_col2\" class=\"data row0 col2\" >137.931462</td>\n",
       "      <td id=\"T_d44e0_row0_col3\" class=\"data row0 col3\" >2.306472</td>\n",
       "      <td id=\"T_d44e0_row0_col4\" class=\"data row0 col4\" >1776.535147</td>\n",
       "      <td id=\"T_d44e0_row0_col5\" class=\"data row0 col5\" >2.116633</td>\n",
       "    </tr>\n",
       "    <tr>\n",
       "      <th id=\"T_d44e0_level0_row1\" class=\"row_heading level0 row1\" >simple_smoothing</th>\n",
       "      <td id=\"T_d44e0_row1_col0\" class=\"data row1 col0\" >inf</td>\n",
       "      <td id=\"T_d44e0_row1_col1\" class=\"data row1 col1\" >38.778678</td>\n",
       "      <td id=\"T_d44e0_row1_col2\" class=\"data row1 col2\" >nan</td>\n",
       "      <td id=\"T_d44e0_row1_col3\" class=\"data row1 col3\" >2.168885</td>\n",
       "      <td id=\"T_d44e0_row1_col4\" class=\"data row1 col4\" >inf</td>\n",
       "      <td id=\"T_d44e0_row1_col5\" class=\"data row1 col5\" >nan</td>\n",
       "    </tr>\n",
       "    <tr>\n",
       "      <th id=\"T_d44e0_level0_row2\" class=\"row_heading level0 row2\" >sarimax</th>\n",
       "      <td id=\"T_d44e0_row2_col0\" class=\"data row2 col0\" >55.824796</td>\n",
       "      <td id=\"T_d44e0_row2_col1\" class=\"data row2 col1\" >34.970081</td>\n",
       "      <td id=\"T_d44e0_row2_col2\" class=\"data row2 col2\" >101.852378</td>\n",
       "      <td id=\"T_d44e0_row2_col3\" class=\"data row2 col3\" >6.796140</td>\n",
       "      <td id=\"T_d44e0_row2_col4\" class=\"data row2 col4\" >1251.420640</td>\n",
       "      <td id=\"T_d44e0_row2_col5\" class=\"data row2 col5\" >1.824501</td>\n",
       "    </tr>\n",
       "    <tr>\n",
       "      <th id=\"T_d44e0_level0_row3\" class=\"row_heading level0 row3\" >sarimax no exog</th>\n",
       "      <td id=\"T_d44e0_row3_col0\" class=\"data row3 col0\" >55.824796</td>\n",
       "      <td id=\"T_d44e0_row3_col1\" class=\"data row3 col1\" >34.970081</td>\n",
       "      <td id=\"T_d44e0_row3_col2\" class=\"data row3 col2\" >101.852378</td>\n",
       "      <td id=\"T_d44e0_row3_col3\" class=\"data row3 col3\" >6.796140</td>\n",
       "      <td id=\"T_d44e0_row3_col4\" class=\"data row3 col4\" >1251.420640</td>\n",
       "      <td id=\"T_d44e0_row3_col5\" class=\"data row3 col5\" >1.824501</td>\n",
       "    </tr>\n",
       "    <tr>\n",
       "      <th id=\"T_d44e0_level0_row4\" class=\"row_heading level0 row4\" >autoarima</th>\n",
       "      <td id=\"T_d44e0_row4_col0\" class=\"data row4 col0\" >56.938106</td>\n",
       "      <td id=\"T_d44e0_row4_col1\" class=\"data row4 col1\" >51.854980</td>\n",
       "      <td id=\"T_d44e0_row4_col2\" class=\"data row4 col2\" >49.667745</td>\n",
       "      <td id=\"T_d44e0_row4_col3\" class=\"data row4 col3\" >7.408767</td>\n",
       "      <td id=\"T_d44e0_row4_col4\" class=\"data row4 col4\" >624.253914</td>\n",
       "      <td id=\"T_d44e0_row4_col5\" class=\"data row4 col5\" >0.872311</td>\n",
       "    </tr>\n",
       "    <tr>\n",
       "      <th id=\"T_d44e0_level0_row5\" class=\"row_heading level0 row5\" >Holt-Winters</th>\n",
       "      <td id=\"T_d44e0_row5_col0\" class=\"data row5 col0\" >inf</td>\n",
       "      <td id=\"T_d44e0_row5_col1\" class=\"data row5 col1\" >39.797832</td>\n",
       "      <td id=\"T_d44e0_row5_col2\" class=\"data row5 col2\" >nan</td>\n",
       "      <td id=\"T_d44e0_row5_col3\" class=\"data row5 col3\" >4.955530</td>\n",
       "      <td id=\"T_d44e0_row5_col4\" class=\"data row5 col4\" >inf</td>\n",
       "      <td id=\"T_d44e0_row5_col5\" class=\"data row5 col5\" >nan</td>\n",
       "    </tr>\n",
       "  </tbody>\n",
       "</table>\n"
      ],
      "text/plain": [
       "<pandas.io.formats.style.Styler at 0x7fc873685870>"
      ]
     },
     "execution_count": 6,
     "metadata": {},
     "output_type": "execute_result"
    }
   ],
   "source": [
    "final_metrics = pd.DataFrame()\n",
    "metric = 'MAPE'\n",
    "\n",
    "statistics = [\n",
    "    'mean',\n",
    "    'median',\n",
    "    'std',\n",
    "    'min',\n",
    "    'max',\n",
    "]\n",
    "final_metrics = pd.concat([final_metrics, metrics_prophet[metric].agg(statistics)], axis=1)\n",
    "\n",
    "# add simples smothing\n",
    "final_metrics = pd.concat([final_metrics, metrics_pred_simple_exp_smoot[metric].agg([statistics])], axis=1)\n",
    "\n",
    "# add sarimax\n",
    "final_metrics = pd.concat([final_metrics, metrics_predictions_sarimax_exog[metric].agg([statistics])], axis=1)\n",
    "# add sarimax non exog\n",
    "final_metrics = pd.concat([final_metrics, metrics_predictions_sarimax_no_exog[metric].agg([statistics])], axis=1)\n",
    "# add autoarima\n",
    "final_metrics = pd.concat([final_metrics, metrics_predictions_autoarima[metric].agg([statistics])], axis=1)\n",
    "# add hw\n",
    "final_metrics = pd.concat([final_metrics, metrics_hw[metric].agg([statistics])], axis=1)\n",
    "\n",
    "final_metrics.columns = ['prophet','simple_smoothing','sarimax', 'sarimax no exog', 'autoarima', 'Holt-Winters']\n",
    "\n",
    "final_metrics = final_metrics.T\n",
    "\n",
    "final_metrics['cv'] = final_metrics['std'] /final_metrics['mean']  \n",
    "final_metrics.style.highlight_min(color='lightgreen', axis=0)"
   ]
  },
  {
   "cell_type": "markdown",
   "metadata": {},
   "source": [
    "Para o MAPE o modelo que melhor performou foi o autoarima, apesar do SARIMAX obter a melhor média."
   ]
  },
  {
   "cell_type": "markdown",
   "metadata": {},
   "source": [
    "### Avaliação pelo método RMSE"
   ]
  },
  {
   "cell_type": "markdown",
   "metadata": {},
   "source": [
    "O RMSE (Raiz do Erro Quadrático Médio) é uma métrica comum para avaliar o desempenho de modelos de previsão. Ele mede a diferença entre os valores previstos pelo modelo e os valores reais observados, elevando ao quadrado as diferenças antes de calcular a média e, em seguida, tirando a raiz quadrada do resultado. Isso dá mais peso aos erros grandes, pois eles são elevados ao quadrado antes de serem somados. O RMSE é útil quando se deseja penalizar erros grandes e pode ser usado para comparar o desempenho de diferentes modelos. Um modelo com um valor menor de RMSE é considerado melhor, pois suas previsões são mais precisas."
   ]
  },
  {
   "cell_type": "markdown",
   "metadata": {},
   "source": [
    "\n",
    " - Média: Um modelo com um valor menor de RMSE médio é considerado melhor, pois suas previsões são mais precisas.\n",
    " - Mediana: A mediana do RMSE é uma medida mais robusta a outliers, pois não é afetada por valores extremos.\n",
    " - Desvio padrão: Um modelo com desvio padrão baixo para o RMSE é considerado mais consistente, pois seus erros de previsão são mais próximos da média. "
   ]
  },
  {
   "cell_type": "code",
   "execution_count": 7,
   "metadata": {},
   "outputs": [
    {
     "data": {
      "text/html": [
       "<style type=\"text/css\">\n",
       "#T_1b67c_row0_col1, #T_1b67c_row0_col2, #T_1b67c_row0_col4, #T_1b67c_row1_col3, #T_1b67c_row2_col0, #T_1b67c_row3_col0, #T_1b67c_row4_col5 {\n",
       "  background-color: lightgreen;\n",
       "}\n",
       "</style>\n",
       "<table id=\"T_1b67c\">\n",
       "  <thead>\n",
       "    <tr>\n",
       "      <th class=\"blank level0\" >&nbsp;</th>\n",
       "      <th id=\"T_1b67c_level0_col0\" class=\"col_heading level0 col0\" >mean</th>\n",
       "      <th id=\"T_1b67c_level0_col1\" class=\"col_heading level0 col1\" >median</th>\n",
       "      <th id=\"T_1b67c_level0_col2\" class=\"col_heading level0 col2\" >std</th>\n",
       "      <th id=\"T_1b67c_level0_col3\" class=\"col_heading level0 col3\" >min</th>\n",
       "      <th id=\"T_1b67c_level0_col4\" class=\"col_heading level0 col4\" >max</th>\n",
       "      <th id=\"T_1b67c_level0_col5\" class=\"col_heading level0 col5\" >cv</th>\n",
       "    </tr>\n",
       "  </thead>\n",
       "  <tbody>\n",
       "    <tr>\n",
       "      <th id=\"T_1b67c_level0_row0\" class=\"row_heading level0 row0\" >prophet</th>\n",
       "      <td id=\"T_1b67c_row0_col0\" class=\"data row0 col0\" >1.822105</td>\n",
       "      <td id=\"T_1b67c_row0_col1\" class=\"data row0 col1\" >1.080000</td>\n",
       "      <td id=\"T_1b67c_row0_col2\" class=\"data row0 col2\" >2.125825</td>\n",
       "      <td id=\"T_1b67c_row0_col3\" class=\"data row0 col3\" >0.140000</td>\n",
       "      <td id=\"T_1b67c_row0_col4\" class=\"data row0 col4\" >19.080000</td>\n",
       "      <td id=\"T_1b67c_row0_col5\" class=\"data row0 col5\" >1.166686</td>\n",
       "    </tr>\n",
       "    <tr>\n",
       "      <th id=\"T_1b67c_level0_row1\" class=\"row_heading level0 row1\" >simple_smoothing</th>\n",
       "      <td id=\"T_1b67c_row1_col0\" class=\"data row1 col0\" >1.792237</td>\n",
       "      <td id=\"T_1b67c_row1_col1\" class=\"data row1 col1\" >1.225000</td>\n",
       "      <td id=\"T_1b67c_row1_col2\" class=\"data row1 col2\" >2.618678</td>\n",
       "      <td id=\"T_1b67c_row1_col3\" class=\"data row1 col3\" >0.080000</td>\n",
       "      <td id=\"T_1b67c_row1_col4\" class=\"data row1 col4\" >26.040000</td>\n",
       "      <td id=\"T_1b67c_row1_col5\" class=\"data row1 col5\" >1.461123</td>\n",
       "    </tr>\n",
       "    <tr>\n",
       "      <th id=\"T_1b67c_level0_row2\" class=\"row_heading level0 row2\" >sarimax</th>\n",
       "      <td id=\"T_1b67c_row2_col0\" class=\"data row2 col0\" >1.715263</td>\n",
       "      <td id=\"T_1b67c_row2_col1\" class=\"data row2 col1\" >1.175000</td>\n",
       "      <td id=\"T_1b67c_row2_col2\" class=\"data row2 col2\" >2.144695</td>\n",
       "      <td id=\"T_1b67c_row2_col3\" class=\"data row2 col3\" >0.340000</td>\n",
       "      <td id=\"T_1b67c_row2_col4\" class=\"data row2 col4\" >24.160000</td>\n",
       "      <td id=\"T_1b67c_row2_col5\" class=\"data row2 col5\" >1.250359</td>\n",
       "    </tr>\n",
       "    <tr>\n",
       "      <th id=\"T_1b67c_level0_row3\" class=\"row_heading level0 row3\" >sarimax no exog</th>\n",
       "      <td id=\"T_1b67c_row3_col0\" class=\"data row3 col0\" >1.715263</td>\n",
       "      <td id=\"T_1b67c_row3_col1\" class=\"data row3 col1\" >1.175000</td>\n",
       "      <td id=\"T_1b67c_row3_col2\" class=\"data row3 col2\" >2.144695</td>\n",
       "      <td id=\"T_1b67c_row3_col3\" class=\"data row3 col3\" >0.340000</td>\n",
       "      <td id=\"T_1b67c_row3_col4\" class=\"data row3 col4\" >24.160000</td>\n",
       "      <td id=\"T_1b67c_row3_col5\" class=\"data row3 col5\" >1.250359</td>\n",
       "    </tr>\n",
       "    <tr>\n",
       "      <th id=\"T_1b67c_level0_row4\" class=\"row_heading level0 row4\" >autoarima</th>\n",
       "      <td id=\"T_1b67c_row4_col0\" class=\"data row4 col0\" >2.255132</td>\n",
       "      <td id=\"T_1b67c_row4_col1\" class=\"data row4 col1\" >1.690000</td>\n",
       "      <td id=\"T_1b67c_row4_col2\" class=\"data row4 col2\" >2.284594</td>\n",
       "      <td id=\"T_1b67c_row4_col3\" class=\"data row4 col3\" >0.190000</td>\n",
       "      <td id=\"T_1b67c_row4_col4\" class=\"data row4 col4\" >24.850000</td>\n",
       "      <td id=\"T_1b67c_row4_col5\" class=\"data row4 col5\" >1.013064</td>\n",
       "    </tr>\n",
       "    <tr>\n",
       "      <th id=\"T_1b67c_level0_row5\" class=\"row_heading level0 row5\" >Holt-Winters</th>\n",
       "      <td id=\"T_1b67c_row5_col0\" class=\"data row5 col0\" >1.888246</td>\n",
       "      <td id=\"T_1b67c_row5_col1\" class=\"data row5 col1\" >1.470000</td>\n",
       "      <td id=\"T_1b67c_row5_col2\" class=\"data row5 col2\" >2.561355</td>\n",
       "      <td id=\"T_1b67c_row5_col3\" class=\"data row5 col3\" >0.230000</td>\n",
       "      <td id=\"T_1b67c_row5_col4\" class=\"data row5 col4\" >25.670000</td>\n",
       "      <td id=\"T_1b67c_row5_col5\" class=\"data row5 col5\" >1.356474</td>\n",
       "    </tr>\n",
       "  </tbody>\n",
       "</table>\n"
      ],
      "text/plain": [
       "<pandas.io.formats.style.Styler at 0x7fc8539fe4d0>"
      ]
     },
     "execution_count": 7,
     "metadata": {},
     "output_type": "execute_result"
    }
   ],
   "source": [
    "final_metrics = pd.DataFrame()\n",
    "metric = 'RMSE'\n",
    "\n",
    "statistics = [\n",
    "    'mean',\n",
    "    'median',\n",
    "    'std',\n",
    "    'min',\n",
    "    'max',\n",
    "]\n",
    "final_metrics = pd.concat([final_metrics, metrics_prophet[metric].agg(statistics)], axis=1)\n",
    "\n",
    "# add simples smothing\n",
    "final_metrics = pd.concat([final_metrics, metrics_pred_simple_exp_smoot[metric].agg([statistics])], axis=1)\n",
    "\n",
    "# add sarimax\n",
    "final_metrics = pd.concat([final_metrics, metrics_predictions_sarimax_exog[metric].agg([statistics])], axis=1)\n",
    "# add sarimax non exog\n",
    "final_metrics = pd.concat([final_metrics, metrics_predictions_sarimax_no_exog[metric].agg([statistics])], axis=1)\n",
    "# add autoarima\n",
    "final_metrics = pd.concat([final_metrics, metrics_predictions_autoarima[metric].agg([statistics])], axis=1)\n",
    "# add hw\n",
    "final_metrics = pd.concat([final_metrics, metrics_hw[metric].agg([statistics])], axis=1)\n",
    "\n",
    "final_metrics.columns = ['prophet','simple_smoothing','sarimax', 'sarimax no exog', 'autoarima', 'Holt-Winters']\n",
    "\n",
    "final_metrics = final_metrics.T\n",
    "\n",
    "final_metrics['cv'] = final_metrics['std'] /final_metrics['mean']  \n",
    "final_metrics.style.highlight_min(color='lightgreen', axis=0)"
   ]
  },
  {
   "cell_type": "markdown",
   "metadata": {},
   "source": [
    "Com a métrica de RMSE o modelo que melhor performou foi o Prophet"
   ]
  },
  {
   "cell_type": "markdown",
   "metadata": {},
   "source": [
    "### Cross-Validation"
   ]
  },
  {
   "cell_type": "markdown",
   "metadata": {},
   "source": [
    "#### SARIMAX"
   ]
  },
  {
   "cell_type": "markdown",
   "metadata": {},
   "source": [
    "A validação cruzada consiste em dividir o conjunto de dados em partes, ajustar o modelo em uma parte dos dados (chamada de conjunto de treinamento) e avaliar o desempenho do modelo na outra parte dos dados (chamada de conjunto de teste).<br/><br/> Esse processo é repetido várias vezes, com diferentes divisões dos dados, para obter uma estimativa mais precisa do desempenho do modelo. "
   ]
  },
  {
   "cell_type": "code",
   "execution_count": 8,
   "metadata": {},
   "outputs": [],
   "source": [
    "test_years = 5\n",
    "train_data = df_model.iloc[:-test_years, :]\n",
    "test_data = df_model.iloc[-test_years:, :]\n"
   ]
  },
  {
   "cell_type": "code",
   "execution_count": 11,
   "metadata": {},
   "outputs": [
    {
     "ename": "NameError",
     "evalue": "name 'auto_arima' is not defined",
     "output_type": "error",
     "traceback": [
      "\u001b[0;31m---------------------------------------------------------------------------\u001b[0m",
      "\u001b[0;31mNameError\u001b[0m                                 Traceback (most recent call last)",
      "Cell \u001b[0;32mIn[11], line 16\u001b[0m\n\u001b[1;32m     14\u001b[0m train_data_idx \u001b[39m=\u001b[39m train_data[country]\u001b[39m.\u001b[39miloc[train_idx]\n\u001b[1;32m     15\u001b[0m test_data_idx \u001b[39m=\u001b[39m train_data[country]\u001b[39m.\u001b[39miloc[test_idx]\n\u001b[0;32m---> 16\u001b[0m model_sarimax \u001b[39m=\u001b[39m auto_arima(\n\u001b[1;32m     17\u001b[0m     train_data_idx,\n\u001b[1;32m     18\u001b[0m     m\u001b[39m=\u001b[39m\u001b[39m1\u001b[39m,\n\u001b[1;32m     19\u001b[0m     test\u001b[39m=\u001b[39m\u001b[39m'\u001b[39m\u001b[39madf\u001b[39m\u001b[39m'\u001b[39m,\n\u001b[1;32m     20\u001b[0m     seasonal\u001b[39m=\u001b[39m\u001b[39mTrue\u001b[39;00m,\n\u001b[1;32m     21\u001b[0m     stepwise\u001b[39m=\u001b[39m\u001b[39mTrue\u001b[39;00m,\n\u001b[1;32m     22\u001b[0m     d\u001b[39m=\u001b[39m\u001b[39m1\u001b[39m,\n\u001b[1;32m     23\u001b[0m     \u001b[39m#start_p=0,\u001b[39;00m\n\u001b[1;32m     24\u001b[0m     \u001b[39m#max_p=1,\u001b[39;00m\n\u001b[1;32m     25\u001b[0m     \u001b[39m#start_q=0,\u001b[39;00m\n\u001b[1;32m     26\u001b[0m     \u001b[39m#max_q=1,\u001b[39;00m\n\u001b[1;32m     27\u001b[0m \n\u001b[1;32m     28\u001b[0m )\n\u001b[1;32m     30\u001b[0m pred_sarimax \u001b[39m=\u001b[39m model_sarimax\u001b[39m.\u001b[39mpredict(n_periods\u001b[39m=\u001b[39m\u001b[39mlen\u001b[39m(test_data_idx))\n\u001b[1;32m     32\u001b[0m mae \u001b[39m=\u001b[39m mean_absolute_error(test_data_idx, pred_sarimax)\n",
      "\u001b[0;31mNameError\u001b[0m: name 'auto_arima' is not defined"
     ]
    }
   ],
   "source": [
    "#Create an empty dataframe to store the model metrics\n",
    "df_final_metrics_cv = pd.DataFrame()\n",
    "\n",
    "# Defining the number of splits\n",
    "n_splits = 5\n",
    "\n",
    "# Create an object TimeSeriesSplit\n",
    "tscv = TimeSeriesSplit(n_splits=n_splits)\n",
    "\n",
    "# Inside the loop for cross-validation splits\n",
    "for country in df_model.columns:\n",
    "    final_metrics_cv = pd.DataFrame()\n",
    "    for train_idx, test_idx in tscv.split(train_data[country]):\n",
    "        train_data_idx = train_data[country].iloc[train_idx]\n",
    "        test_data_idx = train_data[country].iloc[test_idx]\n",
    "        model_sarimax = auto_arima(\n",
    "            train_data_idx,\n",
    "            m=1,\n",
    "            test='adf',\n",
    "            seasonal=True,\n",
    "            stepwise=True,\n",
    "            d=1,\n",
    "            #start_p=0,\n",
    "            #max_p=1,\n",
    "            #start_q=0,\n",
    "            #max_q=1,\n",
    "\n",
    "        )\n",
    "        \n",
    "        pred_sarimax = model_sarimax.predict(n_periods=len(test_data_idx))\n",
    "\n",
    "        mae = mean_absolute_error(test_data_idx, pred_sarimax)\n",
    "\n",
    "        final_metrics_cv = pd.concat([final_metrics_cv, pd.DataFrame({country: [mae]})], ignore_index=True)\n",
    "\n",
    "    df_final_metrics_cv = pd.concat([df_final_metrics_cv, final_metrics_cv], axis=1)\n",
    "aux = df_final_metrics_cv.mean()\n",
    "\n",
    "print(\"mean mae for all countrys\",aux.values.mean())\n",
    "print(\"median mae for all countrys\",np.median(aux.values))\n",
    "print(\"std mae for all countrys\",aux.values.std())\n",
    "print(\"std mae for all countrys\",aux.values.max())\n",
    "print(\"std mae for all countrys\",aux.values.min())\n",
    "print(\"cv mae for all countrys\",aux.values.std() / aux.values.mean())\n",
    "plt.hist(aux.values, bins=70);"
   ]
  },
  {
   "cell_type": "code",
   "execution_count": null,
   "metadata": {},
   "outputs": [
    {
     "ename": "NameError",
     "evalue": "name 'df_final_metrics_cv' is not defined",
     "output_type": "error",
     "traceback": [
      "\u001b[0;31m---------------------------------------------------------------------------\u001b[0m",
      "\u001b[0;31mNameError\u001b[0m                                 Traceback (most recent call last)",
      "Cell \u001b[0;32mIn[1], line 1\u001b[0m\n\u001b[0;32m----> 1\u001b[0m df_final_metrics_cv\u001b[39m.\u001b[39mto_csv(\u001b[39m'\u001b[39m\u001b[39mProjeto/Data/Metrics/df_final_metrics_cv_sarima.csv\u001b[39m\u001b[39m'\u001b[39m, index \u001b[39m=\u001b[39m \u001b[39mTrue\u001b[39;00m)\n",
      "\u001b[0;31mNameError\u001b[0m: name 'df_final_metrics_cv' is not defined"
     ]
    }
   ],
   "source": [
    "df_final_metrics_cv.to_csv('Projeto/Data/Metrics/df_final_metrics_cv_sarima.csv', index = True)\n"
   ]
  },
  {
   "cell_type": "markdown",
   "metadata": {},
   "source": [
    "###  Prophet"
   ]
  },
  {
   "cell_type": "markdown",
   "metadata": {},
   "source": [
    "A ferramenta de validação cruzada do Prophet permite medir o erro de previsão usando dados históricos. Isso é feito selecionando pontos de corte na história e, para cada um deles, ajustando o modelo usando apenas os dados até esse ponto de corte. Podemos então comparar os valores previstos com os valores reais. <br/><br/>\n",
    "O procedimento de validação cruzada pode ser feito automaticamente para uma série de cortes históricos usando a função cross_validation. Especificamos o horizonte de previsão (horizon), e opcionalmente o tamanho do período inicial de treinamento (initial) e o espaçamento entre as datas de corte (period). <br/><br/>\n",
    "Por padrão, o período inicial de treinamento é definido como três vezes o horizonte, e os cortes são feitos a cada meio horizonte. A saída da função cross_validation é um DataFrame com os valores verdadeiros y e os valores previstos fora da amostra yhat, em cada data simulada de previsão e para cada data de corte. Em particular, uma previsão é feita para cada ponto observado entre o corte e o corte + horizonte. Este DataFrame pode então ser usado para calcular medidas de erro de yhat vs y."
   ]
  },
  {
   "cell_type": "code",
   "execution_count": null,
   "metadata": {},
   "outputs": [],
   "source": [
    "from prophet.diagnostics import cross_validation\n",
    "from prophet.diagnostics import performance_metrics\n",
    "\n",
    "df_metrics_cv = pd.DataFrame()\n",
    "\n",
    "for country in df_model.columns:\n",
    "    train_data_prophet_cv = pd.DataFrame({\n",
    "        'ds': train_data['ds'],\n",
    "        'y': train_data[country]\n",
    "    })\n",
    "    \n",
    "    model_prophet_cv = Prophet(\n",
    "        growth='linear',\n",
    "        seasonality_mode='additive',\n",
    "        yearly_seasonality=True,\n",
    "        weekly_seasonality=False,\n",
    "        daily_seasonality=False,\n",
    "        changepoint_prior_scale=0.1,\n",
    "        seasonality_prior_scale=4,\n",
    "    )\n",
    "    model_prophet_cv.fit(train_data_prophet_cv)\n",
    "    # Realize a validação cruzada\n",
    "    df_cv = cross_validation(model_prophet_cv, initial='365 days', parallel='processes', horizon='1825 days')\n",
    "    \n",
    "    # Calcule as métricas para cada fold da validação cruzada\n",
    "    df_metrics_country = performance_metrics(df_cv)\n",
    "    df_metrics_country['country'] = country\n",
    "    \n",
    "    df_metrics_cv = pd.concat([df_metrics_cv, df_metrics_country], ignore_index=True)\n",
    "\n",
    "# Calcule a média das métricas para cada país\n",
    "average_metrics_per_country_prophet = df_metrics_cv.groupby('country').mean()\n",
    "average_metrics_per_country_prophet.drop(['ds'], axis=0, inplace = True)\n",
    "# Salve as métricas em um arquivo ou faça o que for necessário\n",
    "average_metrics_per_country_prophet.to_csv('Projeto/Data/Metrics/df_final_metrics_cv_prophet.csv', index=True)"
   ]
  },
  {
   "cell_type": "markdown",
   "metadata": {},
   "source": [
    "### Asserção entre SARIMAX e Prophet"
   ]
  },
  {
   "cell_type": "code",
   "execution_count": null,
   "metadata": {},
   "outputs": [],
   "source": [
    "df_final_metrics_cv_prophet = pd.read_csv(r'Projeto/Data/Metrics/df_final_metrics_cv_prophet.csv')\n",
    "df_final_metrics_cv_sarima = pd.read_csv(r'Projeto/Data/Metrics/df_final_metrics_cv_sarima.csv')"
   ]
  },
  {
   "cell_type": "code",
   "execution_count": null,
   "metadata": {},
   "outputs": [],
   "source": [
    "final_metrics = pd.DataFrame()\n",
    "metric = 'MAE'\n",
    "\n",
    "statistics = [\n",
    "    'mean',\n",
    "    'median',\n",
    "    'std',\n",
    "    'min',\n",
    "    'max',\n",
    "]\n",
    "final_metrics_cv = pd.concat([final_metrics_cv, df_final_metrics_cv_prophet[metric].agg(statistics)], axis=1)\n",
    "\n",
    "# add simples smothing\n",
    "final_metrics_cv = pd.concat([final_metrics_cv, df_final_metrics_cv_sarima[metric].agg([statistics])], axis=1)\n",
    "\n",
    "final_metrics_cv.columns = ['prophet', 'sarimax no exog']\n",
    "\n",
    "final_metrics_cv = final_metrics_cv.T\n",
    "\n",
    "final_metrics_cv['cv'] = final_metrics['std'] /final_metrics['mean']  \n",
    "final_metrics_cv.style.highlight_min(color='lightgreen', axis=0)"
   ]
  }
 ],
 "metadata": {
  "kernelspec": {
   "display_name": "venv",
   "language": "python",
   "name": "python3"
  },
  "language_info": {
   "codemirror_mode": {
    "name": "ipython",
    "version": 3
   },
   "file_extension": ".py",
   "mimetype": "text/x-python",
   "name": "python",
   "nbconvert_exporter": "python",
   "pygments_lexer": "ipython3",
   "version": "3.10.12"
  },
  "orig_nbformat": 4
 },
 "nbformat": 4,
 "nbformat_minor": 2
}
