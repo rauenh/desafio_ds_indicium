{
 "cells": [
  {
   "cell_type": "markdown",
   "metadata": {},
   "source": [
    "## Import das bibliotecas utilizadas\n"
   ]
  },
  {
   "cell_type": "code",
   "execution_count": 1,
   "metadata": {},
   "outputs": [],
   "source": [
    "import pandas as pd\n",
    "import numpy as np\n",
    "import openpyxl\n",
    "\n",
    "import matplotlib as mpl\n",
    "import matplotlib.pyplot as plt\n",
    "import seaborn as sns\n",
    "from statistics import multimode\n"
   ]
  },
  {
   "cell_type": "markdown",
   "metadata": {},
   "source": [
    "### Carregamento dos dados para a parte de Modelagem"
   ]
  },
  {
   "cell_type": "code",
   "execution_count": 2,
   "metadata": {},
   "outputs": [],
   "source": [
    "df_transposed_copy_inputting_v19 = pd.read_csv(r'Projeto/Data/Output/df_transposed_copy_inputting_v19.csv')\n"
   ]
  },
  {
   "cell_type": "markdown",
   "metadata": {},
   "source": [
    "## Modelagem"
   ]
  },
  {
   "cell_type": "markdown",
   "metadata": {},
   "source": [
    "Modelos de Forecasting são divididos em partes pré e pós período desejado para previsão. Os períodos utilizados devem ser equiparáveis ao tipo de questão analisada."
   ]
  },
  {
   "cell_type": "code",
   "execution_count": 3,
   "metadata": {},
   "outputs": [],
   "source": [
    "df_model = df_transposed_copy_inputting_v19.copy()"
   ]
  },
  {
   "cell_type": "code",
   "execution_count": 4,
   "metadata": {},
   "outputs": [],
   "source": [
    "df_model['year'] = pd.to_datetime(df_model['year'], format='ISO8601')\n"
   ]
  },
  {
   "cell_type": "code",
   "execution_count": 5,
   "metadata": {},
   "outputs": [
    {
     "name": "stdout",
     "output_type": "stream",
     "text": [
      "<class 'pandas.core.frame.DataFrame'>\n",
      "DatetimeIndex: 49 entries, 1980-01-01 to 2028-01-01\n",
      "Columns: 228 entries, Afghanistan to World\n",
      "dtypes: float64(228)\n",
      "memory usage: 87.7 KB\n"
     ]
    }
   ],
   "source": [
    "df_model.set_index('year', inplace = True)\n",
    "df_model.info()"
   ]
  },
  {
   "cell_type": "code",
   "execution_count": 6,
   "metadata": {},
   "outputs": [
    {
     "data": {
      "text/html": [
       "<div>\n",
       "<style scoped>\n",
       "    .dataframe tbody tr th:only-of-type {\n",
       "        vertical-align: middle;\n",
       "    }\n",
       "\n",
       "    .dataframe tbody tr th {\n",
       "        vertical-align: top;\n",
       "    }\n",
       "\n",
       "    .dataframe thead th {\n",
       "        text-align: right;\n",
       "    }\n",
       "</style>\n",
       "<table border=\"1\" class=\"dataframe\">\n",
       "  <thead>\n",
       "    <tr style=\"text-align: right;\">\n",
       "      <th></th>\n",
       "      <th>Afghanistan</th>\n",
       "      <th>Albania</th>\n",
       "      <th>Algeria</th>\n",
       "      <th>Andorra</th>\n",
       "      <th>Angola</th>\n",
       "      <th>Antigua and Barbuda</th>\n",
       "      <th>Argentina</th>\n",
       "      <th>Armenia</th>\n",
       "      <th>Aruba</th>\n",
       "      <th>Australia</th>\n",
       "      <th>...</th>\n",
       "      <th>Emerging and Developing Europe</th>\n",
       "      <th>Emerging market and developing economies</th>\n",
       "      <th>Euro area</th>\n",
       "      <th>European Union</th>\n",
       "      <th>Latin America and the Caribbean</th>\n",
       "      <th>Major advanced economies (G7)</th>\n",
       "      <th>Middle East and Central Asia</th>\n",
       "      <th>Other advanced economies</th>\n",
       "      <th>Sub-Saharan Africa</th>\n",
       "      <th>World</th>\n",
       "    </tr>\n",
       "    <tr>\n",
       "      <th>year</th>\n",
       "      <th></th>\n",
       "      <th></th>\n",
       "      <th></th>\n",
       "      <th></th>\n",
       "      <th></th>\n",
       "      <th></th>\n",
       "      <th></th>\n",
       "      <th></th>\n",
       "      <th></th>\n",
       "      <th></th>\n",
       "      <th></th>\n",
       "      <th></th>\n",
       "      <th></th>\n",
       "      <th></th>\n",
       "      <th></th>\n",
       "      <th></th>\n",
       "      <th></th>\n",
       "      <th></th>\n",
       "      <th></th>\n",
       "      <th></th>\n",
       "      <th></th>\n",
       "    </tr>\n",
       "  </thead>\n",
       "  <tbody>\n",
       "    <tr>\n",
       "      <th>1980-01-01</th>\n",
       "      <td>4.345486</td>\n",
       "      <td>2.7</td>\n",
       "      <td>-5.4</td>\n",
       "      <td>2.877381</td>\n",
       "      <td>2.4</td>\n",
       "      <td>8.2</td>\n",
       "      <td>0.7</td>\n",
       "      <td>5.290000</td>\n",
       "      <td>5.399885</td>\n",
       "      <td>2.9</td>\n",
       "      <td>...</td>\n",
       "      <td>-0.8</td>\n",
       "      <td>3.3</td>\n",
       "      <td>3.988678</td>\n",
       "      <td>1.8</td>\n",
       "      <td>6.4</td>\n",
       "      <td>0.9</td>\n",
       "      <td>-1.9</td>\n",
       "      <td>3.8</td>\n",
       "      <td>3.991920</td>\n",
       "      <td>2.1</td>\n",
       "    </tr>\n",
       "    <tr>\n",
       "      <th>1981-01-01</th>\n",
       "      <td>7.200000</td>\n",
       "      <td>5.7</td>\n",
       "      <td>3.0</td>\n",
       "      <td>0.385714</td>\n",
       "      <td>-4.4</td>\n",
       "      <td>3.8</td>\n",
       "      <td>-5.7</td>\n",
       "      <td>3.798462</td>\n",
       "      <td>-3.624698</td>\n",
       "      <td>4.1</td>\n",
       "      <td>...</td>\n",
       "      <td>-0.5</td>\n",
       "      <td>1.9</td>\n",
       "      <td>1.792949</td>\n",
       "      <td>0.1</td>\n",
       "      <td>0.9</td>\n",
       "      <td>2.0</td>\n",
       "      <td>-0.2</td>\n",
       "      <td>4.2</td>\n",
       "      <td>4.567689</td>\n",
       "      <td>1.9</td>\n",
       "    </tr>\n",
       "    <tr>\n",
       "      <th>1982-01-01</th>\n",
       "      <td>5.116667</td>\n",
       "      <td>2.9</td>\n",
       "      <td>6.4</td>\n",
       "      <td>0.371429</td>\n",
       "      <td>0.0</td>\n",
       "      <td>-0.1</td>\n",
       "      <td>-3.1</td>\n",
       "      <td>2.306923</td>\n",
       "      <td>4.538833</td>\n",
       "      <td>0.1</td>\n",
       "      <td>...</td>\n",
       "      <td>1.4</td>\n",
       "      <td>1.5</td>\n",
       "      <td>5.395555</td>\n",
       "      <td>0.6</td>\n",
       "      <td>-0.5</td>\n",
       "      <td>-0.1</td>\n",
       "      <td>0.4</td>\n",
       "      <td>2.2</td>\n",
       "      <td>8.037341</td>\n",
       "      <td>0.7</td>\n",
       "    </tr>\n",
       "    <tr>\n",
       "      <th>1983-01-01</th>\n",
       "      <td>4.283333</td>\n",
       "      <td>1.1</td>\n",
       "      <td>5.4</td>\n",
       "      <td>1.471429</td>\n",
       "      <td>4.2</td>\n",
       "      <td>5.4</td>\n",
       "      <td>3.7</td>\n",
       "      <td>0.815385</td>\n",
       "      <td>1.930603</td>\n",
       "      <td>-0.5</td>\n",
       "      <td>...</td>\n",
       "      <td>4.6</td>\n",
       "      <td>1.8</td>\n",
       "      <td>4.752000</td>\n",
       "      <td>1.7</td>\n",
       "      <td>-2.8</td>\n",
       "      <td>3.3</td>\n",
       "      <td>0.7</td>\n",
       "      <td>4.0</td>\n",
       "      <td>3.300508</td>\n",
       "      <td>2.6</td>\n",
       "    </tr>\n",
       "    <tr>\n",
       "      <th>1984-01-01</th>\n",
       "      <td>6.166667</td>\n",
       "      <td>2.0</td>\n",
       "      <td>5.6</td>\n",
       "      <td>2.585714</td>\n",
       "      <td>6.0</td>\n",
       "      <td>10.2</td>\n",
       "      <td>2.0</td>\n",
       "      <td>-0.676154</td>\n",
       "      <td>-15.680825</td>\n",
       "      <td>6.3</td>\n",
       "      <td>...</td>\n",
       "      <td>4.1</td>\n",
       "      <td>4.1</td>\n",
       "      <td>-0.599934</td>\n",
       "      <td>2.5</td>\n",
       "      <td>3.9</td>\n",
       "      <td>5.0</td>\n",
       "      <td>0.3</td>\n",
       "      <td>6.6</td>\n",
       "      <td>5.023940</td>\n",
       "      <td>4.6</td>\n",
       "    </tr>\n",
       "  </tbody>\n",
       "</table>\n",
       "<p>5 rows × 228 columns</p>\n",
       "</div>"
      ],
      "text/plain": [
       "            Afghanistan  Albania  Algeria   Andorra  Angola  \\\n",
       "year                                                          \n",
       "1980-01-01     4.345486      2.7     -5.4  2.877381     2.4   \n",
       "1981-01-01     7.200000      5.7      3.0  0.385714    -4.4   \n",
       "1982-01-01     5.116667      2.9      6.4  0.371429     0.0   \n",
       "1983-01-01     4.283333      1.1      5.4  1.471429     4.2   \n",
       "1984-01-01     6.166667      2.0      5.6  2.585714     6.0   \n",
       "\n",
       "            Antigua and Barbuda  Argentina   Armenia      Aruba  Australia  \\\n",
       "year                                                                         \n",
       "1980-01-01                  8.2        0.7  5.290000   5.399885        2.9   \n",
       "1981-01-01                  3.8       -5.7  3.798462  -3.624698        4.1   \n",
       "1982-01-01                 -0.1       -3.1  2.306923   4.538833        0.1   \n",
       "1983-01-01                  5.4        3.7  0.815385   1.930603       -0.5   \n",
       "1984-01-01                 10.2        2.0 -0.676154 -15.680825        6.3   \n",
       "\n",
       "            ...  Emerging and Developing Europe  \\\n",
       "year        ...                                   \n",
       "1980-01-01  ...                            -0.8   \n",
       "1981-01-01  ...                            -0.5   \n",
       "1982-01-01  ...                             1.4   \n",
       "1983-01-01  ...                             4.6   \n",
       "1984-01-01  ...                             4.1   \n",
       "\n",
       "            Emerging market and developing economies  Euro area  \\\n",
       "year                                                              \n",
       "1980-01-01                                       3.3   3.988678   \n",
       "1981-01-01                                       1.9   1.792949   \n",
       "1982-01-01                                       1.5   5.395555   \n",
       "1983-01-01                                       1.8   4.752000   \n",
       "1984-01-01                                       4.1  -0.599934   \n",
       "\n",
       "            European Union  Latin America and the Caribbean  \\\n",
       "year                                                          \n",
       "1980-01-01             1.8                              6.4   \n",
       "1981-01-01             0.1                              0.9   \n",
       "1982-01-01             0.6                             -0.5   \n",
       "1983-01-01             1.7                             -2.8   \n",
       "1984-01-01             2.5                              3.9   \n",
       "\n",
       "            Major advanced economies (G7)  Middle East and Central Asia  \\\n",
       "year                                                                      \n",
       "1980-01-01                            0.9                          -1.9   \n",
       "1981-01-01                            2.0                          -0.2   \n",
       "1982-01-01                           -0.1                           0.4   \n",
       "1983-01-01                            3.3                           0.7   \n",
       "1984-01-01                            5.0                           0.3   \n",
       "\n",
       "            Other advanced economies  Sub-Saharan Africa  World  \n",
       "year                                                             \n",
       "1980-01-01                       3.8            3.991920    2.1  \n",
       "1981-01-01                       4.2            4.567689    1.9  \n",
       "1982-01-01                       2.2            8.037341    0.7  \n",
       "1983-01-01                       4.0            3.300508    2.6  \n",
       "1984-01-01                       6.6            5.023940    4.6  \n",
       "\n",
       "[5 rows x 228 columns]"
      ]
     },
     "execution_count": 6,
     "metadata": {},
     "output_type": "execute_result"
    }
   ],
   "source": [
    "df_model.head(5)"
   ]
  },
  {
   "cell_type": "markdown",
   "metadata": {},
   "source": [
    "#### Training and Test set"
   ]
  },
  {
   "cell_type": "code",
   "execution_count": 7,
   "metadata": {},
   "outputs": [
    {
     "data": {
      "text/html": [
       "<div>\n",
       "<style scoped>\n",
       "    .dataframe tbody tr th:only-of-type {\n",
       "        vertical-align: middle;\n",
       "    }\n",
       "\n",
       "    .dataframe tbody tr th {\n",
       "        vertical-align: top;\n",
       "    }\n",
       "\n",
       "    .dataframe thead th {\n",
       "        text-align: right;\n",
       "    }\n",
       "</style>\n",
       "<table border=\"1\" class=\"dataframe\">\n",
       "  <thead>\n",
       "    <tr style=\"text-align: right;\">\n",
       "      <th></th>\n",
       "      <th>Afghanistan</th>\n",
       "      <th>Albania</th>\n",
       "      <th>Algeria</th>\n",
       "      <th>Andorra</th>\n",
       "      <th>Angola</th>\n",
       "      <th>Antigua and Barbuda</th>\n",
       "      <th>Argentina</th>\n",
       "      <th>Armenia</th>\n",
       "      <th>Aruba</th>\n",
       "      <th>Australia</th>\n",
       "      <th>...</th>\n",
       "      <th>Emerging and Developing Europe</th>\n",
       "      <th>Emerging market and developing economies</th>\n",
       "      <th>Euro area</th>\n",
       "      <th>European Union</th>\n",
       "      <th>Latin America and the Caribbean</th>\n",
       "      <th>Major advanced economies (G7)</th>\n",
       "      <th>Middle East and Central Asia</th>\n",
       "      <th>Other advanced economies</th>\n",
       "      <th>Sub-Saharan Africa</th>\n",
       "      <th>World</th>\n",
       "    </tr>\n",
       "    <tr>\n",
       "      <th>year</th>\n",
       "      <th></th>\n",
       "      <th></th>\n",
       "      <th></th>\n",
       "      <th></th>\n",
       "      <th></th>\n",
       "      <th></th>\n",
       "      <th></th>\n",
       "      <th></th>\n",
       "      <th></th>\n",
       "      <th></th>\n",
       "      <th></th>\n",
       "      <th></th>\n",
       "      <th></th>\n",
       "      <th></th>\n",
       "      <th></th>\n",
       "      <th></th>\n",
       "      <th></th>\n",
       "      <th></th>\n",
       "      <th></th>\n",
       "      <th></th>\n",
       "      <th></th>\n",
       "    </tr>\n",
       "  </thead>\n",
       "  <tbody>\n",
       "    <tr>\n",
       "      <th>2022-01-01</th>\n",
       "      <td>3.55</td>\n",
       "      <td>3.7</td>\n",
       "      <td>2.9</td>\n",
       "      <td>8.7</td>\n",
       "      <td>2.8</td>\n",
       "      <td>6.4</td>\n",
       "      <td>5.2</td>\n",
       "      <td>12.6</td>\n",
       "      <td>5.7</td>\n",
       "      <td>3.7</td>\n",
       "      <td>...</td>\n",
       "      <td>0.8</td>\n",
       "      <td>4.0</td>\n",
       "      <td>3.5</td>\n",
       "      <td>3.7</td>\n",
       "      <td>4.0</td>\n",
       "      <td>2.3</td>\n",
       "      <td>5.3</td>\n",
       "      <td>2.6</td>\n",
       "      <td>3.9</td>\n",
       "      <td>3.4</td>\n",
       "    </tr>\n",
       "  </tbody>\n",
       "</table>\n",
       "<p>1 rows × 228 columns</p>\n",
       "</div>"
      ],
      "text/plain": [
       "            Afghanistan  Albania  Algeria  Andorra  Angola  \\\n",
       "year                                                         \n",
       "2022-01-01         3.55      3.7      2.9      8.7     2.8   \n",
       "\n",
       "            Antigua and Barbuda  Argentina  Armenia  Aruba  Australia  ...  \\\n",
       "year                                                                   ...   \n",
       "2022-01-01                  6.4        5.2     12.6    5.7        3.7  ...   \n",
       "\n",
       "            Emerging and Developing Europe  \\\n",
       "year                                         \n",
       "2022-01-01                             0.8   \n",
       "\n",
       "            Emerging market and developing economies  Euro area  \\\n",
       "year                                                              \n",
       "2022-01-01                                       4.0        3.5   \n",
       "\n",
       "            European Union  Latin America and the Caribbean  \\\n",
       "year                                                          \n",
       "2022-01-01             3.7                              4.0   \n",
       "\n",
       "            Major advanced economies (G7)  Middle East and Central Asia  \\\n",
       "year                                                                      \n",
       "2022-01-01                            2.3                           5.3   \n",
       "\n",
       "            Other advanced economies  Sub-Saharan Africa  World  \n",
       "year                                                             \n",
       "2022-01-01                       2.6                 3.9    3.4  \n",
       "\n",
       "[1 rows x 228 columns]"
      ]
     },
     "execution_count": 7,
     "metadata": {},
     "output_type": "execute_result"
    }
   ],
   "source": [
    "test_years = 6\n",
    "train_data = df_model.iloc[:-test_years, :]\n",
    "train_data.tail(1)"
   ]
  },
  {
   "cell_type": "code",
   "execution_count": 8,
   "metadata": {},
   "outputs": [
    {
     "data": {
      "text/html": [
       "<div>\n",
       "<style scoped>\n",
       "    .dataframe tbody tr th:only-of-type {\n",
       "        vertical-align: middle;\n",
       "    }\n",
       "\n",
       "    .dataframe tbody tr th {\n",
       "        vertical-align: top;\n",
       "    }\n",
       "\n",
       "    .dataframe thead th {\n",
       "        text-align: right;\n",
       "    }\n",
       "</style>\n",
       "<table border=\"1\" class=\"dataframe\">\n",
       "  <thead>\n",
       "    <tr style=\"text-align: right;\">\n",
       "      <th></th>\n",
       "      <th>Afghanistan</th>\n",
       "      <th>Albania</th>\n",
       "      <th>Algeria</th>\n",
       "      <th>Andorra</th>\n",
       "      <th>Angola</th>\n",
       "      <th>Antigua and Barbuda</th>\n",
       "      <th>Argentina</th>\n",
       "      <th>Armenia</th>\n",
       "      <th>Aruba</th>\n",
       "      <th>Australia</th>\n",
       "      <th>...</th>\n",
       "      <th>Emerging and Developing Europe</th>\n",
       "      <th>Emerging market and developing economies</th>\n",
       "      <th>Euro area</th>\n",
       "      <th>European Union</th>\n",
       "      <th>Latin America and the Caribbean</th>\n",
       "      <th>Major advanced economies (G7)</th>\n",
       "      <th>Middle East and Central Asia</th>\n",
       "      <th>Other advanced economies</th>\n",
       "      <th>Sub-Saharan Africa</th>\n",
       "      <th>World</th>\n",
       "    </tr>\n",
       "    <tr>\n",
       "      <th>year</th>\n",
       "      <th></th>\n",
       "      <th></th>\n",
       "      <th></th>\n",
       "      <th></th>\n",
       "      <th></th>\n",
       "      <th></th>\n",
       "      <th></th>\n",
       "      <th></th>\n",
       "      <th></th>\n",
       "      <th></th>\n",
       "      <th></th>\n",
       "      <th></th>\n",
       "      <th></th>\n",
       "      <th></th>\n",
       "      <th></th>\n",
       "      <th></th>\n",
       "      <th></th>\n",
       "      <th></th>\n",
       "      <th></th>\n",
       "      <th></th>\n",
       "      <th></th>\n",
       "    </tr>\n",
       "  </thead>\n",
       "  <tbody>\n",
       "    <tr>\n",
       "      <th>2028-01-01</th>\n",
       "      <td>5.033333</td>\n",
       "      <td>3.4</td>\n",
       "      <td>1.8</td>\n",
       "      <td>1.5</td>\n",
       "      <td>4.2</td>\n",
       "      <td>2.7</td>\n",
       "      <td>2.0</td>\n",
       "      <td>4.5</td>\n",
       "      <td>1.1</td>\n",
       "      <td>2.3</td>\n",
       "      <td>...</td>\n",
       "      <td>2.3</td>\n",
       "      <td>3.9</td>\n",
       "      <td>1.4</td>\n",
       "      <td>1.7</td>\n",
       "      <td>2.3</td>\n",
       "      <td>1.6</td>\n",
       "      <td>3.7</td>\n",
       "      <td>2.3</td>\n",
       "      <td>4.4</td>\n",
       "      <td>3.0</td>\n",
       "    </tr>\n",
       "  </tbody>\n",
       "</table>\n",
       "<p>1 rows × 228 columns</p>\n",
       "</div>"
      ],
      "text/plain": [
       "            Afghanistan  Albania  Algeria  Andorra  Angola  \\\n",
       "year                                                         \n",
       "2028-01-01     5.033333      3.4      1.8      1.5     4.2   \n",
       "\n",
       "            Antigua and Barbuda  Argentina  Armenia  Aruba  Australia  ...  \\\n",
       "year                                                                   ...   \n",
       "2028-01-01                  2.7        2.0      4.5    1.1        2.3  ...   \n",
       "\n",
       "            Emerging and Developing Europe  \\\n",
       "year                                         \n",
       "2028-01-01                             2.3   \n",
       "\n",
       "            Emerging market and developing economies  Euro area  \\\n",
       "year                                                              \n",
       "2028-01-01                                       3.9        1.4   \n",
       "\n",
       "            European Union  Latin America and the Caribbean  \\\n",
       "year                                                          \n",
       "2028-01-01             1.7                              2.3   \n",
       "\n",
       "            Major advanced economies (G7)  Middle East and Central Asia  \\\n",
       "year                                                                      \n",
       "2028-01-01                            1.6                           3.7   \n",
       "\n",
       "            Other advanced economies  Sub-Saharan Africa  World  \n",
       "year                                                             \n",
       "2028-01-01                       2.3                 4.4    3.0  \n",
       "\n",
       "[1 rows x 228 columns]"
      ]
     },
     "execution_count": 8,
     "metadata": {},
     "output_type": "execute_result"
    }
   ],
   "source": [
    "test_data = df_model.iloc[-test_years:, :]\n",
    "test_data.tail(1)\n"
   ]
  },
  {
   "cell_type": "markdown",
   "metadata": {},
   "source": [
    "### Exponential Smoothing"
   ]
  },
  {
   "cell_type": "markdown",
   "metadata": {},
   "source": [
    "No método Exponential Smoothing os dados mais recentes possuem maior relevância para a análise, em comparação aos dados mais antigos. "
   ]
  },
  {
   "cell_type": "markdown",
   "metadata": {},
   "source": [
    "#### Holt-Winters"
   ]
  },
  {
   "cell_type": "markdown",
   "metadata": {},
   "source": [
    "O método de Holt-Winters divide a série temporal em 3 níveis, sendo eles: \n",
    "- Level (passado mais recente do conjunto de dados)\n",
    "- Trend\n",
    "- Seasonality\n",
    "\n",
    "Um exponential smoothing é realizado em cada um dos três níveis. É considerado uma abordagem simples onde, muitas vezes, as predições não acompanham os dados de teste."
   ]
  },
  {
   "cell_type": "code",
   "execution_count": 9,
   "metadata": {},
   "outputs": [],
   "source": [
    "from statsmodels.tsa.holtwinters import ExponentialSmoothing"
   ]
  },
  {
   "cell_type": "code",
   "execution_count": 10,
   "metadata": {},
   "outputs": [
    {
     "name": "stderr",
     "output_type": "stream",
     "text": [
      "/home/hingryd/Documents/Lighthouse/DS/venv/lib/python3.10/site-packages/statsmodels/tsa/base/tsa_model.py:473: ValueWarning: No frequency information was provided, so inferred frequency AS-JAN will be used.\n",
      "  self._init_dates(dates, freq)\n"
     ]
    }
   ],
   "source": [
    "#Forecasting Model\n",
    "for country in df_model.columns: \n",
    "    model_hw = ExponentialSmoothing(endog = train_data[country], trend ='add', seasonal = 'add', seasonal_periods= 4).fit()"
   ]
  },
  {
   "cell_type": "code",
   "execution_count": 11,
   "metadata": {},
   "outputs": [
    {
     "data": {
      "text/plain": [
       "2023-01-01    1.979985\n",
       "2024-01-01    1.754524\n",
       "2025-01-01    1.909025\n",
       "2026-01-01    1.654559\n",
       "2027-01-01    1.852712\n",
       "Freq: AS-JAN, Name: Holt-Winters, dtype: float64"
      ]
     },
     "execution_count": 11,
     "metadata": {},
     "output_type": "execute_result"
    }
   ],
   "source": [
    "# Predictions\n",
    "\n",
    "predictions_hw = model_hw.forecast(steps= len(test_data)).rename('Holt-Winters')\n",
    "predictions_hw.head()"
   ]
  },
  {
   "cell_type": "code",
   "execution_count": 12,
   "metadata": {},
   "outputs": [
    {
     "data": {
      "text/plain": [
       "<Axes: xlabel='year'>"
      ]
     },
     "execution_count": 12,
     "metadata": {},
     "output_type": "execute_result"
    },
    {
     "data": {
      "image/png": "[encoded data removed]",
      "text/plain": [
       "<Figure size 900x600 with 1 Axes>"
      ]
     },
     "metadata": {},
     "output_type": "display_data"
    }
   ],
   "source": [
    "# Visualization\n",
    "#for country in df_model.columns: \n",
    "train_data['United States']['2010-01-01':].plot(figsize = (9,6), legend = True)\n",
    "test_data['United States'].plot(legend = True)\n",
    "predictions_hw.plot(legend = True)"
   ]
  },
  {
   "cell_type": "markdown",
   "metadata": {},
   "source": [
    "#### KPIS de Avaliação do Modelo\n",
    " Indicadores para medir a performance do modelo. MAE e RSME são indicadores de performance para modelos de regressão com variáveis dependentes contínuas. Não existem indicadores considerados 'perfeitos', existem os indicadores melhores apropriados para o problema analisado.\n",
    "\n",
    " - MAE - (Mean Absolute Error) É um indicador mais interpretável, utilizado quando a série temporal trata de taxas, porcentagens.\n",
    "- RSME -  (Root Square Mean Error) São utilizados para modelos com outliers/extremos.\n",
    "- MAPE - (Mean Absolute Percentage Error) Apesar de tratar os erros de forma absoluta é considerado um indicador mais agradável para comunicar a respeito do modelo. "
   ]
  },
  {
   "cell_type": "code",
   "execution_count": 13,
   "metadata": {},
   "outputs": [
    {
     "name": "stdout",
     "output_type": "stream",
     "text": [
      "0.38\n",
      "0.42\n"
     ]
    }
   ],
   "source": [
    "# Model Assessment MAE and RSME\n",
    "\n",
    "from sklearn.metrics import mean_squared_error, mean_absolute_error\n",
    "#for country in df_model.columns:\n",
    "print(round(mean_absolute_error(test_data['United States'], predictions_hw),2))\n",
    "print(round(np.sqrt(mean_squared_error(test_data['United States'], predictions_hw)),2))\n"
   ]
  },
  {
   "cell_type": "code",
   "execution_count": 14,
   "metadata": {},
   "outputs": [
    {
     "data": {
      "text/plain": [
       "24.13451553471936"
      ]
     },
     "execution_count": 14,
     "metadata": {},
     "output_type": "execute_result"
    }
   ],
   "source": [
    "#MAPE function\n",
    "\n",
    "def MAPE(df_model_true, df_model_pred):\n",
    "    df_model_true, df_model_pred = np.array(df_model_true), np.array(df_model_pred)\n",
    "    return np.mean(np.abs((df_model_true - df_model_pred)/ df_model_true)) *100\n",
    "\n",
    "#for country in df_model.columns:\n",
    "MAPE(test_data['United States'], predictions_hw)"
   ]
  },
  {
   "cell_type": "markdown",
   "metadata": {},
   "source": [
    "### Export forecasts for Holt-Winters"
   ]
  },
  {
   "cell_type": "code",
   "execution_count": 15,
   "metadata": {},
   "outputs": [],
   "source": [
    "## Export forecast\n",
    "\n",
    "predictions_hw.to_csv('Projeto/Data/Output/predictions_hw.csv', index = True)"
   ]
  },
  {
   "cell_type": "markdown",
   "metadata": {},
   "source": [
    "### Modelo Simple Exponential Smoothing"
   ]
  },
  {
   "cell_type": "code",
   "execution_count": 16,
   "metadata": {},
   "outputs": [],
   "source": [
    "from statsmodels.tsa.api import ExponentialSmoothing, SimpleExpSmoothing, Holt\n"
   ]
  },
  {
   "cell_type": "code",
   "execution_count": 18,
   "metadata": {},
   "outputs": [
    {
     "name": "stderr",
     "output_type": "stream",
     "text": [
      "/home/hingryd/Documents/Lighthouse/DS/venv/lib/python3.10/site-packages/statsmodels/tsa/base/tsa_model.py:473: ValueWarning: No frequency information was provided, so inferred frequency AS-JAN will be used.\n",
      "  self._init_dates(dates, freq)\n",
      "/home/hingryd/Documents/Lighthouse/DS/venv/lib/python3.10/site-packages/pandas/util/_decorators.py:210: EstimationWarning: Model has no free parameters to estimate. Set optimized=False to suppress this warning\n",
      "  return func(*args, **kwargs)\n"
     ]
    }
   ],
   "source": [
    "# simple exponetial smooting\n",
    "model_simple_exp_smoot = SimpleExpSmoothing(\n",
    "    train_data['United States'],\n",
    "    initialization_method='heuristic',                              \n",
    ").fit(smoothing_level=0.2, optimized=True)\n",
    "\n",
    "pred_simple_exp_smoot = model_simple_exp_smoot.forecast(test_data.shape[0])"
   ]
  },
  {
   "cell_type": "code",
   "execution_count": 19,
   "metadata": {},
   "outputs": [
    {
     "data": {
      "text/plain": [
       "<Axes: xlabel='year'>"
      ]
     },
     "execution_count": 19,
     "metadata": {},
     "output_type": "execute_result"
    },
    {
     "data": {
      "image/png": "[encoded data removed]",
      "text/plain": [
       "<Figure size 640x480 with 1 Axes>"
      ]
     },
     "metadata": {},
     "output_type": "display_data"
    }
   ],
   "source": [
    "train_data['United States'].plot(legend=True, label='Train')\n",
    "test_data['United States'].plot(legend=True, label='Test')\n",
    "# pred_hot_winter.plot(legend=True, label='Pred')\n",
    "pred_simple_exp_smoot.plot(legend=True, label='Pred')"
   ]
  },
  {
   "cell_type": "code",
   "execution_count": 20,
   "metadata": {},
   "outputs": [
    {
     "name": "stdout",
     "output_type": "stream",
     "text": [
      "0.34\n",
      "0.5\n"
     ]
    }
   ],
   "source": [
    "# Model Assessment MAE and RSME\n",
    "\n",
    "from sklearn.metrics import mean_squared_error, mean_absolute_error\n",
    "#for country in df_model.columns:\n",
    "print(round(mean_absolute_error(test_data['United States'], pred_simple_exp_smoot),2))\n",
    "print(round(np.sqrt(mean_squared_error(test_data['United States'], pred_simple_exp_smoot)),2))\n"
   ]
  },
  {
   "cell_type": "code",
   "execution_count": 21,
   "metadata": {},
   "outputs": [
    {
     "data": {
      "text/plain": [
       "25.329195248743368"
      ]
     },
     "execution_count": 21,
     "metadata": {},
     "output_type": "execute_result"
    }
   ],
   "source": [
    "\n",
    "def MAPE(df_model_true, df_model_pred):\n",
    "    df_model_true, df_model_pred = np.array(df_model_true), np.array(df_model_pred)\n",
    "    return np.mean(np.abs((df_model_true - df_model_pred)/ df_model_true)) *100\n",
    "\n",
    "#for country in df_model.columns:\n",
    "MAPE(test_data['United States'], pred_simple_exp_smoot)"
   ]
  }
 ],
 "metadata": {
  "kernelspec": {
   "display_name": "venv",
   "language": "python",
   "name": "python3"
  },
  "language_info": {
   "codemirror_mode": {
    "name": "ipython",
    "version": 3
   },
   "file_extension": ".py",
   "mimetype": "text/x-python",
   "name": "python",
   "nbconvert_exporter": "python",
   "pygments_lexer": "ipython3",
   "version": "3.10.12"
  },
  "orig_nbformat": 4
 },
 "nbformat": 4,
 "nbformat_minor": 2
}
