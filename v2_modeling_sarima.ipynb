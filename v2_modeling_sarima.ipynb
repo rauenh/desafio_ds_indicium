{
 "cells": [
  {
   "cell_type": "markdown",
   "metadata": {},
   "source": [
    "## Import das bibliotecas utilizadas\n"
   ]
  },
  {
   "cell_type": "code",
   "execution_count": 4,
   "metadata": {},
   "outputs": [],
   "source": [
    "import pandas as pd\n",
    "import numpy as np\n",
    "import openpyxl\n",
    "\n",
    "import matplotlib as mpl\n",
    "import matplotlib.pyplot as plt\n",
    "import seaborn as sns\n",
    "from statistics import multimode\n",
    "from sklearn.metrics import mean_squared_error, mean_absolute_error\n"
   ]
  },
  {
   "cell_type": "markdown",
   "metadata": {},
   "source": [
    "### Funções auxiliares"
   ]
  },
  {
   "cell_type": "code",
   "execution_count": 96,
   "metadata": {},
   "outputs": [],
   "source": [
    "#MAPE function\n",
    "\n",
    "#def mape(df_model_true, df_model_pred):\n",
    "#    df_model_true, df_model_pred = np.array(df_model_true), np.array(df_model_pred)\n",
    "#    return np.mean(np.abs((df_model_true - df_model_pred)/ df_model_true)) *100\n"
   ]
  },
  {
   "cell_type": "code",
   "execution_count": 1,
   "metadata": {},
   "outputs": [],
   "source": [
    "# Metrics mae rmse mape\n",
    "#def metrics(df_model_true, df_model_pred,model_name):\n",
    "#    df_model_true = df_model_true.values\n",
    "#    df_model_pred = df_model_pred.values\n",
    "#    mape = round(mape(df_model_true, df_model_pred),5)\n",
    "#    mae = round(mean_absolute_error(df_model_true, df_model_pred),5)\n",
    "#    rmse = round(np.sqrt(mean_squared_error(df_model_true, df_model_pred)),5)\n",
    "#\n",
    "#    metrics = pd.DataFrame({'Model': model_name,'mae': mae, 'rmse': rmse, 'mape': mape}, index=[0])\n",
    "#    return metrics"
   ]
  },
  {
   "cell_type": "markdown",
   "metadata": {},
   "source": [
    "### Carregamento dos dados para a parte de Modelagem"
   ]
  },
  {
   "cell_type": "code",
   "execution_count": 5,
   "metadata": {},
   "outputs": [],
   "source": [
    "df_transposed_copy_inputting_v19 = pd.read_csv(r'Projeto/Data/Output/df_transposed_copy_inputting_v19.csv')\n"
   ]
  },
  {
   "cell_type": "markdown",
   "metadata": {},
   "source": [
    "## Modelagem"
   ]
  },
  {
   "cell_type": "markdown",
   "metadata": {},
   "source": [
    "Modelos de Forecasting são divididos em partes pré e pós período desejado para previsão. Os períodos utilizados devem ser equiparáveis ao tipo de questão analisada."
   ]
  },
  {
   "cell_type": "code",
   "execution_count": 6,
   "metadata": {},
   "outputs": [],
   "source": [
    "df_model = df_transposed_copy_inputting_v19.copy()"
   ]
  },
  {
   "cell_type": "code",
   "execution_count": 7,
   "metadata": {},
   "outputs": [],
   "source": [
    "df_model['year'] = pd.to_datetime(df_model['year'], format='ISO8601')\n"
   ]
  },
  {
   "cell_type": "code",
   "execution_count": 8,
   "metadata": {},
   "outputs": [
    {
     "name": "stdout",
     "output_type": "stream",
     "text": [
      "<class 'pandas.core.frame.DataFrame'>\n",
      "DatetimeIndex: 49 entries, 1980-01-01 to 2028-01-01\n",
      "Columns: 228 entries, Afghanistan to World\n",
      "dtypes: float64(228)\n",
      "memory usage: 87.7 KB\n"
     ]
    }
   ],
   "source": [
    "df_model.set_index('year', inplace = True)\n",
    "df_model.info()"
   ]
  },
  {
   "cell_type": "code",
   "execution_count": 9,
   "metadata": {},
   "outputs": [
    {
     "data": {
      "text/html": [
       "<div>\n",
       "<style scoped>\n",
       "    .dataframe tbody tr th:only-of-type {\n",
       "        vertical-align: middle;\n",
       "    }\n",
       "\n",
       "    .dataframe tbody tr th {\n",
       "        vertical-align: top;\n",
       "    }\n",
       "\n",
       "    .dataframe thead th {\n",
       "        text-align: right;\n",
       "    }\n",
       "</style>\n",
       "<table border=\"1\" class=\"dataframe\">\n",
       "  <thead>\n",
       "    <tr style=\"text-align: right;\">\n",
       "      <th></th>\n",
       "      <th>Afghanistan</th>\n",
       "      <th>Albania</th>\n",
       "      <th>Algeria</th>\n",
       "      <th>Andorra</th>\n",
       "      <th>Angola</th>\n",
       "      <th>Antigua and Barbuda</th>\n",
       "      <th>Argentina</th>\n",
       "      <th>Armenia</th>\n",
       "      <th>Aruba</th>\n",
       "      <th>Australia</th>\n",
       "      <th>...</th>\n",
       "      <th>Emerging and Developing Europe</th>\n",
       "      <th>Emerging market and developing economies</th>\n",
       "      <th>Euro area</th>\n",
       "      <th>European Union</th>\n",
       "      <th>Latin America and the Caribbean</th>\n",
       "      <th>Major advanced economies (G7)</th>\n",
       "      <th>Middle East and Central Asia</th>\n",
       "      <th>Other advanced economies</th>\n",
       "      <th>Sub-Saharan Africa</th>\n",
       "      <th>World</th>\n",
       "    </tr>\n",
       "    <tr>\n",
       "      <th>year</th>\n",
       "      <th></th>\n",
       "      <th></th>\n",
       "      <th></th>\n",
       "      <th></th>\n",
       "      <th></th>\n",
       "      <th></th>\n",
       "      <th></th>\n",
       "      <th></th>\n",
       "      <th></th>\n",
       "      <th></th>\n",
       "      <th></th>\n",
       "      <th></th>\n",
       "      <th></th>\n",
       "      <th></th>\n",
       "      <th></th>\n",
       "      <th></th>\n",
       "      <th></th>\n",
       "      <th></th>\n",
       "      <th></th>\n",
       "      <th></th>\n",
       "      <th></th>\n",
       "    </tr>\n",
       "  </thead>\n",
       "  <tbody>\n",
       "    <tr>\n",
       "      <th>1980-01-01</th>\n",
       "      <td>4.345486</td>\n",
       "      <td>2.7</td>\n",
       "      <td>-5.4</td>\n",
       "      <td>2.877381</td>\n",
       "      <td>2.4</td>\n",
       "      <td>8.2</td>\n",
       "      <td>0.7</td>\n",
       "      <td>5.290000</td>\n",
       "      <td>5.399885</td>\n",
       "      <td>2.9</td>\n",
       "      <td>...</td>\n",
       "      <td>-0.8</td>\n",
       "      <td>3.3</td>\n",
       "      <td>3.988678</td>\n",
       "      <td>1.8</td>\n",
       "      <td>6.4</td>\n",
       "      <td>0.9</td>\n",
       "      <td>-1.9</td>\n",
       "      <td>3.8</td>\n",
       "      <td>3.991920</td>\n",
       "      <td>2.1</td>\n",
       "    </tr>\n",
       "    <tr>\n",
       "      <th>1981-01-01</th>\n",
       "      <td>7.200000</td>\n",
       "      <td>5.7</td>\n",
       "      <td>3.0</td>\n",
       "      <td>0.385714</td>\n",
       "      <td>-4.4</td>\n",
       "      <td>3.8</td>\n",
       "      <td>-5.7</td>\n",
       "      <td>3.798462</td>\n",
       "      <td>-3.624698</td>\n",
       "      <td>4.1</td>\n",
       "      <td>...</td>\n",
       "      <td>-0.5</td>\n",
       "      <td>1.9</td>\n",
       "      <td>1.792949</td>\n",
       "      <td>0.1</td>\n",
       "      <td>0.9</td>\n",
       "      <td>2.0</td>\n",
       "      <td>-0.2</td>\n",
       "      <td>4.2</td>\n",
       "      <td>4.567689</td>\n",
       "      <td>1.9</td>\n",
       "    </tr>\n",
       "    <tr>\n",
       "      <th>1982-01-01</th>\n",
       "      <td>5.116667</td>\n",
       "      <td>2.9</td>\n",
       "      <td>6.4</td>\n",
       "      <td>0.371429</td>\n",
       "      <td>0.0</td>\n",
       "      <td>-0.1</td>\n",
       "      <td>-3.1</td>\n",
       "      <td>2.306923</td>\n",
       "      <td>4.538833</td>\n",
       "      <td>0.1</td>\n",
       "      <td>...</td>\n",
       "      <td>1.4</td>\n",
       "      <td>1.5</td>\n",
       "      <td>5.395555</td>\n",
       "      <td>0.6</td>\n",
       "      <td>-0.5</td>\n",
       "      <td>-0.1</td>\n",
       "      <td>0.4</td>\n",
       "      <td>2.2</td>\n",
       "      <td>8.037341</td>\n",
       "      <td>0.7</td>\n",
       "    </tr>\n",
       "    <tr>\n",
       "      <th>1983-01-01</th>\n",
       "      <td>4.283333</td>\n",
       "      <td>1.1</td>\n",
       "      <td>5.4</td>\n",
       "      <td>1.471429</td>\n",
       "      <td>4.2</td>\n",
       "      <td>5.4</td>\n",
       "      <td>3.7</td>\n",
       "      <td>0.815385</td>\n",
       "      <td>1.930603</td>\n",
       "      <td>-0.5</td>\n",
       "      <td>...</td>\n",
       "      <td>4.6</td>\n",
       "      <td>1.8</td>\n",
       "      <td>4.752000</td>\n",
       "      <td>1.7</td>\n",
       "      <td>-2.8</td>\n",
       "      <td>3.3</td>\n",
       "      <td>0.7</td>\n",
       "      <td>4.0</td>\n",
       "      <td>3.300508</td>\n",
       "      <td>2.6</td>\n",
       "    </tr>\n",
       "    <tr>\n",
       "      <th>1984-01-01</th>\n",
       "      <td>6.166667</td>\n",
       "      <td>2.0</td>\n",
       "      <td>5.6</td>\n",
       "      <td>2.585714</td>\n",
       "      <td>6.0</td>\n",
       "      <td>10.2</td>\n",
       "      <td>2.0</td>\n",
       "      <td>-0.676154</td>\n",
       "      <td>-15.680825</td>\n",
       "      <td>6.3</td>\n",
       "      <td>...</td>\n",
       "      <td>4.1</td>\n",
       "      <td>4.1</td>\n",
       "      <td>-0.599934</td>\n",
       "      <td>2.5</td>\n",
       "      <td>3.9</td>\n",
       "      <td>5.0</td>\n",
       "      <td>0.3</td>\n",
       "      <td>6.6</td>\n",
       "      <td>5.023940</td>\n",
       "      <td>4.6</td>\n",
       "    </tr>\n",
       "  </tbody>\n",
       "</table>\n",
       "<p>5 rows × 228 columns</p>\n",
       "</div>"
      ],
      "text/plain": [
       "            Afghanistan  Albania  Algeria   Andorra  Angola  \\\n",
       "year                                                          \n",
       "1980-01-01     4.345486      2.7     -5.4  2.877381     2.4   \n",
       "1981-01-01     7.200000      5.7      3.0  0.385714    -4.4   \n",
       "1982-01-01     5.116667      2.9      6.4  0.371429     0.0   \n",
       "1983-01-01     4.283333      1.1      5.4  1.471429     4.2   \n",
       "1984-01-01     6.166667      2.0      5.6  2.585714     6.0   \n",
       "\n",
       "            Antigua and Barbuda  Argentina   Armenia      Aruba  Australia  \\\n",
       "year                                                                         \n",
       "1980-01-01                  8.2        0.7  5.290000   5.399885        2.9   \n",
       "1981-01-01                  3.8       -5.7  3.798462  -3.624698        4.1   \n",
       "1982-01-01                 -0.1       -3.1  2.306923   4.538833        0.1   \n",
       "1983-01-01                  5.4        3.7  0.815385   1.930603       -0.5   \n",
       "1984-01-01                 10.2        2.0 -0.676154 -15.680825        6.3   \n",
       "\n",
       "            ...  Emerging and Developing Europe  \\\n",
       "year        ...                                   \n",
       "1980-01-01  ...                            -0.8   \n",
       "1981-01-01  ...                            -0.5   \n",
       "1982-01-01  ...                             1.4   \n",
       "1983-01-01  ...                             4.6   \n",
       "1984-01-01  ...                             4.1   \n",
       "\n",
       "            Emerging market and developing economies  Euro area  \\\n",
       "year                                                              \n",
       "1980-01-01                                       3.3   3.988678   \n",
       "1981-01-01                                       1.9   1.792949   \n",
       "1982-01-01                                       1.5   5.395555   \n",
       "1983-01-01                                       1.8   4.752000   \n",
       "1984-01-01                                       4.1  -0.599934   \n",
       "\n",
       "            European Union  Latin America and the Caribbean  \\\n",
       "year                                                          \n",
       "1980-01-01             1.8                              6.4   \n",
       "1981-01-01             0.1                              0.9   \n",
       "1982-01-01             0.6                             -0.5   \n",
       "1983-01-01             1.7                             -2.8   \n",
       "1984-01-01             2.5                              3.9   \n",
       "\n",
       "            Major advanced economies (G7)  Middle East and Central Asia  \\\n",
       "year                                                                      \n",
       "1980-01-01                            0.9                          -1.9   \n",
       "1981-01-01                            2.0                          -0.2   \n",
       "1982-01-01                           -0.1                           0.4   \n",
       "1983-01-01                            3.3                           0.7   \n",
       "1984-01-01                            5.0                           0.3   \n",
       "\n",
       "            Other advanced economies  Sub-Saharan Africa  World  \n",
       "year                                                             \n",
       "1980-01-01                       3.8            3.991920    2.1  \n",
       "1981-01-01                       4.2            4.567689    1.9  \n",
       "1982-01-01                       2.2            8.037341    0.7  \n",
       "1983-01-01                       4.0            3.300508    2.6  \n",
       "1984-01-01                       6.6            5.023940    4.6  \n",
       "\n",
       "[5 rows x 228 columns]"
      ]
     },
     "execution_count": 9,
     "metadata": {},
     "output_type": "execute_result"
    }
   ],
   "source": [
    "df_model.head(5)"
   ]
  },
  {
   "cell_type": "markdown",
   "metadata": {},
   "source": [
    "#### Training and Test set"
   ]
  },
  {
   "cell_type": "code",
   "execution_count": 10,
   "metadata": {},
   "outputs": [
    {
     "data": {
      "text/html": [
       "<div>\n",
       "<style scoped>\n",
       "    .dataframe tbody tr th:only-of-type {\n",
       "        vertical-align: middle;\n",
       "    }\n",
       "\n",
       "    .dataframe tbody tr th {\n",
       "        vertical-align: top;\n",
       "    }\n",
       "\n",
       "    .dataframe thead th {\n",
       "        text-align: right;\n",
       "    }\n",
       "</style>\n",
       "<table border=\"1\" class=\"dataframe\">\n",
       "  <thead>\n",
       "    <tr style=\"text-align: right;\">\n",
       "      <th></th>\n",
       "      <th>Afghanistan</th>\n",
       "      <th>Albania</th>\n",
       "      <th>Algeria</th>\n",
       "      <th>Andorra</th>\n",
       "      <th>Angola</th>\n",
       "      <th>Antigua and Barbuda</th>\n",
       "      <th>Argentina</th>\n",
       "      <th>Armenia</th>\n",
       "      <th>Aruba</th>\n",
       "      <th>Australia</th>\n",
       "      <th>...</th>\n",
       "      <th>Emerging and Developing Europe</th>\n",
       "      <th>Emerging market and developing economies</th>\n",
       "      <th>Euro area</th>\n",
       "      <th>European Union</th>\n",
       "      <th>Latin America and the Caribbean</th>\n",
       "      <th>Major advanced economies (G7)</th>\n",
       "      <th>Middle East and Central Asia</th>\n",
       "      <th>Other advanced economies</th>\n",
       "      <th>Sub-Saharan Africa</th>\n",
       "      <th>World</th>\n",
       "    </tr>\n",
       "    <tr>\n",
       "      <th>year</th>\n",
       "      <th></th>\n",
       "      <th></th>\n",
       "      <th></th>\n",
       "      <th></th>\n",
       "      <th></th>\n",
       "      <th></th>\n",
       "      <th></th>\n",
       "      <th></th>\n",
       "      <th></th>\n",
       "      <th></th>\n",
       "      <th></th>\n",
       "      <th></th>\n",
       "      <th></th>\n",
       "      <th></th>\n",
       "      <th></th>\n",
       "      <th></th>\n",
       "      <th></th>\n",
       "      <th></th>\n",
       "      <th></th>\n",
       "      <th></th>\n",
       "      <th></th>\n",
       "    </tr>\n",
       "  </thead>\n",
       "  <tbody>\n",
       "    <tr>\n",
       "      <th>2023-01-01</th>\n",
       "      <td>3.0</td>\n",
       "      <td>2.2</td>\n",
       "      <td>2.6</td>\n",
       "      <td>1.3</td>\n",
       "      <td>3.5</td>\n",
       "      <td>5.5</td>\n",
       "      <td>0.2</td>\n",
       "      <td>5.5</td>\n",
       "      <td>1.6</td>\n",
       "      <td>1.6</td>\n",
       "      <td>...</td>\n",
       "      <td>1.2</td>\n",
       "      <td>3.9</td>\n",
       "      <td>0.8</td>\n",
       "      <td>0.7</td>\n",
       "      <td>1.6</td>\n",
       "      <td>1.1</td>\n",
       "      <td>2.9</td>\n",
       "      <td>1.8</td>\n",
       "      <td>3.6</td>\n",
       "      <td>2.8</td>\n",
       "    </tr>\n",
       "  </tbody>\n",
       "</table>\n",
       "<p>1 rows × 228 columns</p>\n",
       "</div>"
      ],
      "text/plain": [
       "            Afghanistan  Albania  Algeria  Andorra  Angola  \\\n",
       "year                                                         \n",
       "2023-01-01          3.0      2.2      2.6      1.3     3.5   \n",
       "\n",
       "            Antigua and Barbuda  Argentina  Armenia  Aruba  Australia  ...  \\\n",
       "year                                                                   ...   \n",
       "2023-01-01                  5.5        0.2      5.5    1.6        1.6  ...   \n",
       "\n",
       "            Emerging and Developing Europe  \\\n",
       "year                                         \n",
       "2023-01-01                             1.2   \n",
       "\n",
       "            Emerging market and developing economies  Euro area  \\\n",
       "year                                                              \n",
       "2023-01-01                                       3.9        0.8   \n",
       "\n",
       "            European Union  Latin America and the Caribbean  \\\n",
       "year                                                          \n",
       "2023-01-01             0.7                              1.6   \n",
       "\n",
       "            Major advanced economies (G7)  Middle East and Central Asia  \\\n",
       "year                                                                      \n",
       "2023-01-01                            1.1                           2.9   \n",
       "\n",
       "            Other advanced economies  Sub-Saharan Africa  World  \n",
       "year                                                             \n",
       "2023-01-01                       1.8                 3.6    2.8  \n",
       "\n",
       "[1 rows x 228 columns]"
      ]
     },
     "execution_count": 10,
     "metadata": {},
     "output_type": "execute_result"
    }
   ],
   "source": [
    "test_years = 5\n",
    "train_data = df_model.iloc[:-test_years, :]\n",
    "train_data.tail(1)"
   ]
  },
  {
   "cell_type": "code",
   "execution_count": 11,
   "metadata": {},
   "outputs": [
    {
     "name": "stdout",
     "output_type": "stream",
     "text": [
      "<class 'pandas.core.frame.DataFrame'>\n",
      "DatetimeIndex: 5 entries, 2024-01-01 to 2028-01-01\n",
      "Columns: 228 entries, Afghanistan to World\n",
      "dtypes: float64(228)\n",
      "memory usage: 8.9 KB\n"
     ]
    }
   ],
   "source": [
    "test_data = df_model.iloc[-test_years:, :]\n",
    "test_data.info()\n"
   ]
  },
  {
   "cell_type": "markdown",
   "metadata": {},
   "source": [
    "### SARIMAX com variável exógena"
   ]
  },
  {
   "cell_type": "markdown",
   "metadata": {},
   "source": [
    "Exogenous variables: The idea is collect the relevant data about exogenous variables which can interfere in the sasonality of the model. In this case we'll try to catch some global exogenous variables: 2008's recession and 2020's pandemic.\n",
    "\n",
    "\n"
   ]
  },
  {
   "cell_type": "code",
   "execution_count": null,
   "metadata": {},
   "outputs": [],
   "source": [
    "#exogenous variables\n",
    "\n",
    "#train_exog = train_data.iloc[:,1:]\n",
    "#test_exog = test_data.iloc[:,1:]\n",
    "#\n",
    "#test_exog.head()"
   ]
  },
  {
   "cell_type": "code",
   "execution_count": 31,
   "metadata": {},
   "outputs": [],
   "source": [
    "#from datetime import datetime\n",
    "#\n",
    "## Supondo que você já tem os conjuntos de dados train_data e test_data carregados\n",
    "#\n",
    "## Definindo os limites dos intervalos de anos como objetos datetime\n",
    "#primeiro_intervalo_inicio = datetime(2007, 1, 1)\n",
    "#primeiro_intervalo_fim = datetime(2010, 1, 1)\n",
    "#\n",
    "#segundo_intervalo_inicio = datetime(2020, 1, 1)\n",
    "#segundo_intervalo_fim = datetime(2023, 1, 1)\n",
    "#\n",
    "## Filtrando as linhas dos conjuntos de dados com base nos intervalos de anos\n",
    "#train_exog_filtered = train_data[\n",
    "#    (train_data.index >= primeiro_intervalo_inicio) & (train_data.index < primeiro_intervalo_fim) & (test_data.index >= segundo_intervalo_inicio) & (test_data.index < segundo_intervalo_fim)\n",
    "#]\n",
    "#\n",
    "#test_exog_filtered = test_data[\n",
    "#    (test_data.index >= segundo_intervalo_fim)\n",
    "#    ]\n",
    "## Exibindo as primeiras linhas dos conjuntos de dados filtrados\n",
    "#print(\"Conjunto de treino filtrado:\")\n",
    "#print(train_exog_filtered.head())\n",
    "#\n",
    "#print(\"\\nConjunto de teste filtrado:\")\n",
    "#print(test_exog_filtered.head())\n",
    "\n",
    "\n",
    "\n"
   ]
  },
  {
   "cell_type": "code",
   "execution_count": 12,
   "metadata": {},
   "outputs": [],
   "source": [
    "exog = df_model[['World']]\n",
    "train_exog = exog[:-test_years]\n",
    "test_exog = exog[-test_years:]"
   ]
  },
  {
   "cell_type": "code",
   "execution_count": 13,
   "metadata": {},
   "outputs": [],
   "source": [
    "from pmdarima.arima import auto_arima\n"
   ]
  },
  {
   "cell_type": "code",
   "execution_count": 33,
   "metadata": {},
   "outputs": [],
   "source": [
    "#Forecasting Model\n",
    "#for country in df_model.columns: \n",
    "model_sarimax_exog = auto_arima(y = train_data['United States'],\n",
    "                   x = train_exog,\n",
    "        m=4,\n",
    "        test='adf',\n",
    "        seasonal=True,\n",
    "        stepwise=False,\n",
    "#        d=0,\n",
    "#        start_p=0,\n",
    "#        max_p=1,\n",
    "#        start_q=0,\n",
    "#        max_q=1,\n",
    ")"
   ]
  },
  {
   "cell_type": "code",
   "execution_count": 34,
   "metadata": {},
   "outputs": [
    {
     "data": {
      "text/html": [
       "<table class=\"simpletable\">\n",
       "<caption>SARIMAX Results</caption>\n",
       "<tr>\n",
       "  <th>Dep. Variable:</th>           <td>y</td>        <th>  No. Observations:  </th>   <td>44</td>   \n",
       "</tr>\n",
       "<tr>\n",
       "  <th>Model:</th>                <td>SARIMAX</td>     <th>  Log Likelihood     </th> <td>-92.278</td>\n",
       "</tr>\n",
       "<tr>\n",
       "  <th>Date:</th>            <td>Tue, 29 Aug 2023</td> <th>  AIC                </th> <td>188.557</td>\n",
       "</tr>\n",
       "<tr>\n",
       "  <th>Time:</th>                <td>12:19:43</td>     <th>  BIC                </th> <td>192.125</td>\n",
       "</tr>\n",
       "<tr>\n",
       "  <th>Sample:</th>             <td>01-01-1980</td>    <th>  HQIC               </th> <td>189.880</td>\n",
       "</tr>\n",
       "<tr>\n",
       "  <th></th>                   <td>- 01-01-2023</td>   <th>                     </th>    <td> </td>   \n",
       "</tr>\n",
       "<tr>\n",
       "  <th>Covariance Type:</th>        <td>opg</td>       <th>                     </th>    <td> </td>   \n",
       "</tr>\n",
       "</table>\n",
       "<table class=\"simpletable\">\n",
       "<tr>\n",
       "      <td></td>         <th>coef</th>     <th>std err</th>      <th>z</th>      <th>P>|z|</th>  <th>[0.025</th>    <th>0.975]</th>  \n",
       "</tr>\n",
       "<tr>\n",
       "  <th>intercept</th> <td>    2.5477</td> <td>    0.324</td> <td>    7.860</td> <td> 0.000</td> <td>    1.912</td> <td>    3.183</td>\n",
       "</tr>\n",
       "<tr>\n",
       "  <th>sigma2</th>    <td>    3.8829</td> <td>    0.722</td> <td>    5.375</td> <td> 0.000</td> <td>    2.467</td> <td>    5.299</td>\n",
       "</tr>\n",
       "</table>\n",
       "<table class=\"simpletable\">\n",
       "<tr>\n",
       "  <th>Ljung-Box (L1) (Q):</th>     <td>0.94</td> <th>  Jarque-Bera (JB):  </th> <td>6.00</td> \n",
       "</tr>\n",
       "<tr>\n",
       "  <th>Prob(Q):</th>                <td>0.33</td> <th>  Prob(JB):          </th> <td>0.05</td> \n",
       "</tr>\n",
       "<tr>\n",
       "  <th>Heteroskedasticity (H):</th> <td>0.98</td> <th>  Skew:              </th> <td>-0.71</td>\n",
       "</tr>\n",
       "<tr>\n",
       "  <th>Prob(H) (two-sided):</th>    <td>0.96</td> <th>  Kurtosis:          </th> <td>4.13</td> \n",
       "</tr>\n",
       "</table><br/><br/>Warnings:<br/>[1] Covariance matrix calculated using the outer product of gradients (complex-step)."
      ],
      "text/latex": [
       "\\begin{center}\n",
       "\\begin{tabular}{lclc}\n",
       "\\toprule\n",
       "\\textbf{Dep. Variable:}          &        y         & \\textbf{  No. Observations:  } &     44      \\\\\n",
       "\\textbf{Model:}                  &     SARIMAX      & \\textbf{  Log Likelihood     } &  -92.278    \\\\\n",
       "\\textbf{Date:}                   & Tue, 29 Aug 2023 & \\textbf{  AIC                } &  188.557    \\\\\n",
       "\\textbf{Time:}                   &     12:19:43     & \\textbf{  BIC                } &  192.125    \\\\\n",
       "\\textbf{Sample:}                 &    01-01-1980    & \\textbf{  HQIC               } &  189.880    \\\\\n",
       "\\textbf{}                        &   - 01-01-2023   & \\textbf{                     } &             \\\\\n",
       "\\textbf{Covariance Type:}        &       opg        & \\textbf{                     } &             \\\\\n",
       "\\bottomrule\n",
       "\\end{tabular}\n",
       "\\begin{tabular}{lcccccc}\n",
       "                   & \\textbf{coef} & \\textbf{std err} & \\textbf{z} & \\textbf{P$> |$z$|$} & \\textbf{[0.025} & \\textbf{0.975]}  \\\\\n",
       "\\midrule\n",
       "\\textbf{intercept} &       2.5477  &        0.324     &     7.860  &         0.000        &        1.912    &        3.183     \\\\\n",
       "\\textbf{sigma2}    &       3.8829  &        0.722     &     5.375  &         0.000        &        2.467    &        5.299     \\\\\n",
       "\\bottomrule\n",
       "\\end{tabular}\n",
       "\\begin{tabular}{lclc}\n",
       "\\textbf{Ljung-Box (L1) (Q):}     & 0.94 & \\textbf{  Jarque-Bera (JB):  } &  6.00  \\\\\n",
       "\\textbf{Prob(Q):}                & 0.33 & \\textbf{  Prob(JB):          } &  0.05  \\\\\n",
       "\\textbf{Heteroskedasticity (H):} & 0.98 & \\textbf{  Skew:              } & -0.71  \\\\\n",
       "\\textbf{Prob(H) (two-sided):}    & 0.96 & \\textbf{  Kurtosis:          } &  4.13  \\\\\n",
       "\\bottomrule\n",
       "\\end{tabular}\n",
       "%\\caption{SARIMAX Results}\n",
       "\\end{center}\n",
       "\n",
       "Warnings: \\newline\n",
       " [1] Covariance matrix calculated using the outer product of gradients (complex-step)."
      ],
      "text/plain": [
       "<class 'statsmodels.iolib.summary.Summary'>\n",
       "\"\"\"\n",
       "                               SARIMAX Results                                \n",
       "==============================================================================\n",
       "Dep. Variable:                      y   No. Observations:                   44\n",
       "Model:                        SARIMAX   Log Likelihood                 -92.278\n",
       "Date:                Tue, 29 Aug 2023   AIC                            188.557\n",
       "Time:                        12:19:43   BIC                            192.125\n",
       "Sample:                    01-01-1980   HQIC                           189.880\n",
       "                         - 01-01-2023                                         \n",
       "Covariance Type:                  opg                                         \n",
       "==============================================================================\n",
       "                 coef    std err          z      P>|z|      [0.025      0.975]\n",
       "------------------------------------------------------------------------------\n",
       "intercept      2.5477      0.324      7.860      0.000       1.912       3.183\n",
       "sigma2         3.8829      0.722      5.375      0.000       2.467       5.299\n",
       "===================================================================================\n",
       "Ljung-Box (L1) (Q):                   0.94   Jarque-Bera (JB):                 6.00\n",
       "Prob(Q):                              0.33   Prob(JB):                         0.05\n",
       "Heteroskedasticity (H):               0.98   Skew:                            -0.71\n",
       "Prob(H) (two-sided):                  0.96   Kurtosis:                         4.13\n",
       "===================================================================================\n",
       "\n",
       "Warnings:\n",
       "[1] Covariance matrix calculated using the outer product of gradients (complex-step).\n",
       "\"\"\""
      ]
     },
     "execution_count": 34,
     "metadata": {},
     "output_type": "execute_result"
    }
   ],
   "source": [
    "model_sarimax_exog.summary()"
   ]
  },
  {
   "cell_type": "code",
   "execution_count": 35,
   "metadata": {},
   "outputs": [
    {
     "data": {
      "text/plain": [
       "2024-01-01    2.547727\n",
       "2025-01-01    2.547727\n",
       "2026-01-01    2.547727\n",
       "2027-01-01    2.547727\n",
       "2028-01-01    2.547727\n",
       "Freq: AS-JAN, Name: SARIMAX, dtype: float64"
      ]
     },
     "execution_count": 35,
     "metadata": {},
     "output_type": "execute_result"
    }
   ],
   "source": [
    "# Predictions\n",
    "\n",
    "predictions_sarimax_exog = model_sarimax_exog.predict(n_periods = test_years, x = test_exog).rename(\"SARIMAX\")\n",
    "predictions_sarimax_exog.head()"
   ]
  },
  {
   "cell_type": "code",
   "execution_count": 36,
   "metadata": {},
   "outputs": [
    {
     "data": {
      "text/plain": [
       "<Axes: xlabel='year'>"
      ]
     },
     "execution_count": 36,
     "metadata": {},
     "output_type": "execute_result"
    },
    {
     "data": {
      "image/png": "[encoded data removed]",
      "text/plain": [
       "<Figure size 900x600 with 1 Axes>"
      ]
     },
     "metadata": {},
     "output_type": "display_data"
    }
   ],
   "source": [
    "# Visualization\n",
    "\n",
    "train_data['United States']['2010-01-01':].plot(figsize = (9,6), legend = True)\n",
    "test_data['United States'].plot(legend = True)\n",
    "predictions_sarimax_exog.plot(legend = True)"
   ]
  },
  {
   "cell_type": "markdown",
   "metadata": {},
   "source": [
    "#### KPIS de Avaliação do Modelo\n",
    " Indicadores para medir a performance do modelo. MAE e RSME são indicadores de performance para modelos de regressão com variáveis dependentes contínuas. Não existem indicadores considerados 'perfeitos', existem os indicadores melhores apropriados para o problema analisado.\n",
    "\n",
    " - MAE - (Mean Absolute Error) É um indicador mais interpretável, utilizado quando a série temporal trata de taxas, porcentagens.\n",
    "- RSME -  (Root Square Mean Error) São utilizados para modelos com outliers/extremos.\n",
    "- MAPE - (Mean Absolute Percentage Error) Apesar de tratar os erros de forma absoluta é considerado um indicador mais agradável para comunicar a respeito do modelo. "
   ]
  },
  {
   "cell_type": "code",
   "execution_count": 37,
   "metadata": {},
   "outputs": [
    {
     "name": "stdout",
     "output_type": "stream",
     "text": [
      "0.71\n",
      "0.81\n"
     ]
    }
   ],
   "source": [
    "print(round(mean_absolute_error(test_data['United States'], predictions_sarimax_exog),2))\n",
    "print(round(np.sqrt(mean_squared_error(test_data['United States'], predictions_sarimax_exog)),2))\n"
   ]
  },
  {
   "cell_type": "code",
   "execution_count": 38,
   "metadata": {},
   "outputs": [
    {
     "data": {
      "text/plain": [
       "47.4226026498754"
      ]
     },
     "execution_count": 38,
     "metadata": {},
     "output_type": "execute_result"
    }
   ],
   "source": [
    "#MAPE function\n",
    "\n",
    "def MAPE(df_model_true, df_model_pred):\n",
    "    df_model_true, df_model_pred = np.array(df_model_true), np.array(df_model_pred)\n",
    "    return np.mean(np.abs((df_model_true - df_model_pred)/ df_model_true)) *100\n",
    "\n",
    "#for country in df_model.columns:\n",
    "MAPE(test_data['United States'], predictions_sarimax_exog)"
   ]
  },
  {
   "cell_type": "markdown",
   "metadata": {},
   "source": [
    "### Export forecasts for Sarimax Exog"
   ]
  },
  {
   "cell_type": "code",
   "execution_count": 36,
   "metadata": {},
   "outputs": [],
   "source": [
    "## Export forecast\n",
    "\n",
    "predictions_sarimax_exog.to_csv('Projeto/Data/Output/predictions_sarimax_exog.csv', index = True)"
   ]
  },
  {
   "cell_type": "markdown",
   "metadata": {},
   "source": [
    "### Modelo SARIMAX sem variável exógena"
   ]
  },
  {
   "cell_type": "code",
   "execution_count": 20,
   "metadata": {},
   "outputs": [],
   "source": [
    "model_sarimax_no_exog = auto_arima(train_data['United States'],\n",
    "        m=4,\n",
    "        test='adf',\n",
    "        seasonal=True,\n",
    "        stepwise=False,\n",
    "        d=0,\n",
    "        start_p=0,\n",
    "        max_p=1,\n",
    "        start_q=0,\n",
    "        max_q=1,\n",
    ")"
   ]
  },
  {
   "cell_type": "code",
   "execution_count": 21,
   "metadata": {},
   "outputs": [
    {
     "data": {
      "text/html": [
       "<table class=\"simpletable\">\n",
       "<caption>SARIMAX Results</caption>\n",
       "<tr>\n",
       "  <th>Dep. Variable:</th>           <td>y</td>        <th>  No. Observations:  </th>   <td>44</td>   \n",
       "</tr>\n",
       "<tr>\n",
       "  <th>Model:</th>                <td>SARIMAX</td>     <th>  Log Likelihood     </th> <td>-92.278</td>\n",
       "</tr>\n",
       "<tr>\n",
       "  <th>Date:</th>            <td>Tue, 29 Aug 2023</td> <th>  AIC                </th> <td>188.557</td>\n",
       "</tr>\n",
       "<tr>\n",
       "  <th>Time:</th>                <td>11:59:33</td>     <th>  BIC                </th> <td>192.125</td>\n",
       "</tr>\n",
       "<tr>\n",
       "  <th>Sample:</th>             <td>01-01-1980</td>    <th>  HQIC               </th> <td>189.880</td>\n",
       "</tr>\n",
       "<tr>\n",
       "  <th></th>                   <td>- 01-01-2023</td>   <th>                     </th>    <td> </td>   \n",
       "</tr>\n",
       "<tr>\n",
       "  <th>Covariance Type:</th>        <td>opg</td>       <th>                     </th>    <td> </td>   \n",
       "</tr>\n",
       "</table>\n",
       "<table class=\"simpletable\">\n",
       "<tr>\n",
       "      <td></td>         <th>coef</th>     <th>std err</th>      <th>z</th>      <th>P>|z|</th>  <th>[0.025</th>    <th>0.975]</th>  \n",
       "</tr>\n",
       "<tr>\n",
       "  <th>intercept</th> <td>    2.5477</td> <td>    0.324</td> <td>    7.860</td> <td> 0.000</td> <td>    1.912</td> <td>    3.183</td>\n",
       "</tr>\n",
       "<tr>\n",
       "  <th>sigma2</th>    <td>    3.8829</td> <td>    0.722</td> <td>    5.375</td> <td> 0.000</td> <td>    2.467</td> <td>    5.299</td>\n",
       "</tr>\n",
       "</table>\n",
       "<table class=\"simpletable\">\n",
       "<tr>\n",
       "  <th>Ljung-Box (L1) (Q):</th>     <td>0.94</td> <th>  Jarque-Bera (JB):  </th> <td>6.00</td> \n",
       "</tr>\n",
       "<tr>\n",
       "  <th>Prob(Q):</th>                <td>0.33</td> <th>  Prob(JB):          </th> <td>0.05</td> \n",
       "</tr>\n",
       "<tr>\n",
       "  <th>Heteroskedasticity (H):</th> <td>0.98</td> <th>  Skew:              </th> <td>-0.71</td>\n",
       "</tr>\n",
       "<tr>\n",
       "  <th>Prob(H) (two-sided):</th>    <td>0.96</td> <th>  Kurtosis:          </th> <td>4.13</td> \n",
       "</tr>\n",
       "</table><br/><br/>Warnings:<br/>[1] Covariance matrix calculated using the outer product of gradients (complex-step)."
      ],
      "text/latex": [
       "\\begin{center}\n",
       "\\begin{tabular}{lclc}\n",
       "\\toprule\n",
       "\\textbf{Dep. Variable:}          &        y         & \\textbf{  No. Observations:  } &     44      \\\\\n",
       "\\textbf{Model:}                  &     SARIMAX      & \\textbf{  Log Likelihood     } &  -92.278    \\\\\n",
       "\\textbf{Date:}                   & Tue, 29 Aug 2023 & \\textbf{  AIC                } &  188.557    \\\\\n",
       "\\textbf{Time:}                   &     11:59:33     & \\textbf{  BIC                } &  192.125    \\\\\n",
       "\\textbf{Sample:}                 &    01-01-1980    & \\textbf{  HQIC               } &  189.880    \\\\\n",
       "\\textbf{}                        &   - 01-01-2023   & \\textbf{                     } &             \\\\\n",
       "\\textbf{Covariance Type:}        &       opg        & \\textbf{                     } &             \\\\\n",
       "\\bottomrule\n",
       "\\end{tabular}\n",
       "\\begin{tabular}{lcccccc}\n",
       "                   & \\textbf{coef} & \\textbf{std err} & \\textbf{z} & \\textbf{P$> |$z$|$} & \\textbf{[0.025} & \\textbf{0.975]}  \\\\\n",
       "\\midrule\n",
       "\\textbf{intercept} &       2.5477  &        0.324     &     7.860  &         0.000        &        1.912    &        3.183     \\\\\n",
       "\\textbf{sigma2}    &       3.8829  &        0.722     &     5.375  &         0.000        &        2.467    &        5.299     \\\\\n",
       "\\bottomrule\n",
       "\\end{tabular}\n",
       "\\begin{tabular}{lclc}\n",
       "\\textbf{Ljung-Box (L1) (Q):}     & 0.94 & \\textbf{  Jarque-Bera (JB):  } &  6.00  \\\\\n",
       "\\textbf{Prob(Q):}                & 0.33 & \\textbf{  Prob(JB):          } &  0.05  \\\\\n",
       "\\textbf{Heteroskedasticity (H):} & 0.98 & \\textbf{  Skew:              } & -0.71  \\\\\n",
       "\\textbf{Prob(H) (two-sided):}    & 0.96 & \\textbf{  Kurtosis:          } &  4.13  \\\\\n",
       "\\bottomrule\n",
       "\\end{tabular}\n",
       "%\\caption{SARIMAX Results}\n",
       "\\end{center}\n",
       "\n",
       "Warnings: \\newline\n",
       " [1] Covariance matrix calculated using the outer product of gradients (complex-step)."
      ],
      "text/plain": [
       "<class 'statsmodels.iolib.summary.Summary'>\n",
       "\"\"\"\n",
       "                               SARIMAX Results                                \n",
       "==============================================================================\n",
       "Dep. Variable:                      y   No. Observations:                   44\n",
       "Model:                        SARIMAX   Log Likelihood                 -92.278\n",
       "Date:                Tue, 29 Aug 2023   AIC                            188.557\n",
       "Time:                        11:59:33   BIC                            192.125\n",
       "Sample:                    01-01-1980   HQIC                           189.880\n",
       "                         - 01-01-2023                                         \n",
       "Covariance Type:                  opg                                         \n",
       "==============================================================================\n",
       "                 coef    std err          z      P>|z|      [0.025      0.975]\n",
       "------------------------------------------------------------------------------\n",
       "intercept      2.5477      0.324      7.860      0.000       1.912       3.183\n",
       "sigma2         3.8829      0.722      5.375      0.000       2.467       5.299\n",
       "===================================================================================\n",
       "Ljung-Box (L1) (Q):                   0.94   Jarque-Bera (JB):                 6.00\n",
       "Prob(Q):                              0.33   Prob(JB):                         0.05\n",
       "Heteroskedasticity (H):               0.98   Skew:                            -0.71\n",
       "Prob(H) (two-sided):                  0.96   Kurtosis:                         4.13\n",
       "===================================================================================\n",
       "\n",
       "Warnings:\n",
       "[1] Covariance matrix calculated using the outer product of gradients (complex-step).\n",
       "\"\"\""
      ]
     },
     "execution_count": 21,
     "metadata": {},
     "output_type": "execute_result"
    }
   ],
   "source": [
    "model_sarimax_no_exog.summary()"
   ]
  },
  {
   "cell_type": "code",
   "execution_count": 22,
   "metadata": {},
   "outputs": [
    {
     "data": {
      "text/plain": [
       "2024-01-01    2.547727\n",
       "2025-01-01    2.547727\n",
       "2026-01-01    2.547727\n",
       "2027-01-01    2.547727\n",
       "2028-01-01    2.547727\n",
       "Freq: AS-JAN, Name: SARIMAX Non Exog, dtype: float64"
      ]
     },
     "execution_count": 22,
     "metadata": {},
     "output_type": "execute_result"
    }
   ],
   "source": [
    "# Predictions\n",
    "\n",
    "predictions_sarimax_no_exog = model_sarimax_no_exog.predict(n_periods = test_years).rename(\"SARIMAX Non Exog\")\n",
    "predictions_sarimax_no_exog.head()"
   ]
  },
  {
   "cell_type": "code",
   "execution_count": 23,
   "metadata": {},
   "outputs": [
    {
     "data": {
      "text/plain": [
       "<Axes: xlabel='year'>"
      ]
     },
     "execution_count": 23,
     "metadata": {},
     "output_type": "execute_result"
    },
    {
     "data": {
      "image/png": "[encoded data removed]",
      "text/plain": [
       "<Figure size 900x600 with 1 Axes>"
      ]
     },
     "metadata": {},
     "output_type": "display_data"
    }
   ],
   "source": [
    "# Visualization\n",
    "\n",
    "train_data['United States']['2010-01-01':].plot(figsize = (9,6), legend = True)\n",
    "test_data['United States'].plot(legend = True)\n",
    "predictions_sarimax_no_exog.plot(legend = True)"
   ]
  },
  {
   "cell_type": "code",
   "execution_count": 24,
   "metadata": {},
   "outputs": [
    {
     "name": "stdout",
     "output_type": "stream",
     "text": [
      "0.71\n",
      "0.81\n",
      "47.42\n"
     ]
    }
   ],
   "source": [
    "print(round(mean_absolute_error(test_data['United States'], predictions_sarimax_no_exog),2))\n",
    "print(round(np.sqrt(mean_squared_error(test_data['United States'], predictions_sarimax_no_exog)),2))\n",
    "print(round(MAPE(test_data['United States'], predictions_sarimax_no_exog), 2))"
   ]
  },
  {
   "cell_type": "markdown",
   "metadata": {},
   "source": [
    "### Modelo AutoARIMA"
   ]
  },
  {
   "cell_type": "code",
   "execution_count": 25,
   "metadata": {},
   "outputs": [
    {
     "name": "stderr",
     "output_type": "stream",
     "text": [
      "/home/hingryd/Documents/Lighthouse/DS/venv/lib/python3.10/site-packages/pmdarima/arima/_validation.py:62: UserWarning: m (4) set for non-seasonal fit. Setting to 0\n",
      "  warnings.warn(\"m (%i) set for non-seasonal fit. Setting to 0\" % m)\n"
     ]
    }
   ],
   "source": [
    "model_autoarima = auto_arima( train_data['United States'],\n",
    "        m=4,\n",
    "        test='adf',\n",
    "        seasonal= False,\n",
    "        stepwise=False,\n",
    "        d=0,\n",
    "        start_p=0,\n",
    "        max_p=1,\n",
    "        start_q=0,\n",
    "        max_q=1,\n",
    ")"
   ]
  },
  {
   "cell_type": "code",
   "execution_count": 26,
   "metadata": {},
   "outputs": [
    {
     "data": {
      "text/html": [
       "<table class=\"simpletable\">\n",
       "<caption>SARIMAX Results</caption>\n",
       "<tr>\n",
       "  <th>Dep. Variable:</th>           <td>y</td>        <th>  No. Observations:  </th>   <td>44</td>   \n",
       "</tr>\n",
       "<tr>\n",
       "  <th>Model:</th>           <td>SARIMAX(1, 0, 1)</td> <th>  Log Likelihood     </th> <td>-94.529</td>\n",
       "</tr>\n",
       "<tr>\n",
       "  <th>Date:</th>            <td>Tue, 29 Aug 2023</td> <th>  AIC                </th> <td>195.058</td>\n",
       "</tr>\n",
       "<tr>\n",
       "  <th>Time:</th>                <td>12:04:40</td>     <th>  BIC                </th> <td>200.411</td>\n",
       "</tr>\n",
       "<tr>\n",
       "  <th>Sample:</th>             <td>01-01-1980</td>    <th>  HQIC               </th> <td>197.043</td>\n",
       "</tr>\n",
       "<tr>\n",
       "  <th></th>                   <td>- 01-01-2023</td>   <th>                     </th>    <td> </td>   \n",
       "</tr>\n",
       "<tr>\n",
       "  <th>Covariance Type:</th>        <td>opg</td>       <th>                     </th>    <td> </td>   \n",
       "</tr>\n",
       "</table>\n",
       "<table class=\"simpletable\">\n",
       "<tr>\n",
       "     <td></td>       <th>coef</th>     <th>std err</th>      <th>z</th>      <th>P>|z|</th>  <th>[0.025</th>    <th>0.975]</th>  \n",
       "</tr>\n",
       "<tr>\n",
       "  <th>ar.L1</th>  <td>    0.9964</td> <td>    0.008</td> <td>  121.511</td> <td> 0.000</td> <td>    0.980</td> <td>    1.012</td>\n",
       "</tr>\n",
       "<tr>\n",
       "  <th>ma.L1</th>  <td>   -0.8982</td> <td>    0.095</td> <td>   -9.406</td> <td> 0.000</td> <td>   -1.085</td> <td>   -0.711</td>\n",
       "</tr>\n",
       "<tr>\n",
       "  <th>sigma2</th> <td>    4.1027</td> <td>    0.666</td> <td>    6.162</td> <td> 0.000</td> <td>    2.798</td> <td>    5.408</td>\n",
       "</tr>\n",
       "</table>\n",
       "<table class=\"simpletable\">\n",
       "<tr>\n",
       "  <th>Ljung-Box (L1) (Q):</th>     <td>0.84</td> <th>  Jarque-Bera (JB):  </th> <td>5.16</td> \n",
       "</tr>\n",
       "<tr>\n",
       "  <th>Prob(Q):</th>                <td>0.36</td> <th>  Prob(JB):          </th> <td>0.08</td> \n",
       "</tr>\n",
       "<tr>\n",
       "  <th>Heteroskedasticity (H):</th> <td>0.89</td> <th>  Skew:              </th> <td>-0.18</td>\n",
       "</tr>\n",
       "<tr>\n",
       "  <th>Prob(H) (two-sided):</th>    <td>0.82</td> <th>  Kurtosis:          </th> <td>4.64</td> \n",
       "</tr>\n",
       "</table><br/><br/>Warnings:<br/>[1] Covariance matrix calculated using the outer product of gradients (complex-step)."
      ],
      "text/latex": [
       "\\begin{center}\n",
       "\\begin{tabular}{lclc}\n",
       "\\toprule\n",
       "\\textbf{Dep. Variable:}          &        y         & \\textbf{  No. Observations:  } &     44      \\\\\n",
       "\\textbf{Model:}                  & SARIMAX(1, 0, 1) & \\textbf{  Log Likelihood     } &  -94.529    \\\\\n",
       "\\textbf{Date:}                   & Tue, 29 Aug 2023 & \\textbf{  AIC                } &  195.058    \\\\\n",
       "\\textbf{Time:}                   &     12:04:40     & \\textbf{  BIC                } &  200.411    \\\\\n",
       "\\textbf{Sample:}                 &    01-01-1980    & \\textbf{  HQIC               } &  197.043    \\\\\n",
       "\\textbf{}                        &   - 01-01-2023   & \\textbf{                     } &             \\\\\n",
       "\\textbf{Covariance Type:}        &       opg        & \\textbf{                     } &             \\\\\n",
       "\\bottomrule\n",
       "\\end{tabular}\n",
       "\\begin{tabular}{lcccccc}\n",
       "                & \\textbf{coef} & \\textbf{std err} & \\textbf{z} & \\textbf{P$> |$z$|$} & \\textbf{[0.025} & \\textbf{0.975]}  \\\\\n",
       "\\midrule\n",
       "\\textbf{ar.L1}  &       0.9964  &        0.008     &   121.511  &         0.000        &        0.980    &        1.012     \\\\\n",
       "\\textbf{ma.L1}  &      -0.8982  &        0.095     &    -9.406  &         0.000        &       -1.085    &       -0.711     \\\\\n",
       "\\textbf{sigma2} &       4.1027  &        0.666     &     6.162  &         0.000        &        2.798    &        5.408     \\\\\n",
       "\\bottomrule\n",
       "\\end{tabular}\n",
       "\\begin{tabular}{lclc}\n",
       "\\textbf{Ljung-Box (L1) (Q):}     & 0.84 & \\textbf{  Jarque-Bera (JB):  } &  5.16  \\\\\n",
       "\\textbf{Prob(Q):}                & 0.36 & \\textbf{  Prob(JB):          } &  0.08  \\\\\n",
       "\\textbf{Heteroskedasticity (H):} & 0.89 & \\textbf{  Skew:              } & -0.18  \\\\\n",
       "\\textbf{Prob(H) (two-sided):}    & 0.82 & \\textbf{  Kurtosis:          } &  4.64  \\\\\n",
       "\\bottomrule\n",
       "\\end{tabular}\n",
       "%\\caption{SARIMAX Results}\n",
       "\\end{center}\n",
       "\n",
       "Warnings: \\newline\n",
       " [1] Covariance matrix calculated using the outer product of gradients (complex-step)."
      ],
      "text/plain": [
       "<class 'statsmodels.iolib.summary.Summary'>\n",
       "\"\"\"\n",
       "                               SARIMAX Results                                \n",
       "==============================================================================\n",
       "Dep. Variable:                      y   No. Observations:                   44\n",
       "Model:               SARIMAX(1, 0, 1)   Log Likelihood                 -94.529\n",
       "Date:                Tue, 29 Aug 2023   AIC                            195.058\n",
       "Time:                        12:04:40   BIC                            200.411\n",
       "Sample:                    01-01-1980   HQIC                           197.043\n",
       "                         - 01-01-2023                                         \n",
       "Covariance Type:                  opg                                         \n",
       "==============================================================================\n",
       "                 coef    std err          z      P>|z|      [0.025      0.975]\n",
       "------------------------------------------------------------------------------\n",
       "ar.L1          0.9964      0.008    121.511      0.000       0.980       1.012\n",
       "ma.L1         -0.8982      0.095     -9.406      0.000      -1.085      -0.711\n",
       "sigma2         4.1027      0.666      6.162      0.000       2.798       5.408\n",
       "===================================================================================\n",
       "Ljung-Box (L1) (Q):                   0.84   Jarque-Bera (JB):                 5.16\n",
       "Prob(Q):                              0.36   Prob(JB):                         0.08\n",
       "Heteroskedasticity (H):               0.89   Skew:                            -0.18\n",
       "Prob(H) (two-sided):                  0.82   Kurtosis:                         4.64\n",
       "===================================================================================\n",
       "\n",
       "Warnings:\n",
       "[1] Covariance matrix calculated using the outer product of gradients (complex-step).\n",
       "\"\"\""
      ]
     },
     "execution_count": 26,
     "metadata": {},
     "output_type": "execute_result"
    }
   ],
   "source": [
    "model_autoarima.summary()"
   ]
  },
  {
   "cell_type": "code",
   "execution_count": 27,
   "metadata": {},
   "outputs": [
    {
     "data": {
      "text/plain": [
       "2024-01-01    2.018819\n",
       "2025-01-01    2.011603\n",
       "2026-01-01    2.004413\n",
       "2027-01-01    1.997249\n",
       "2028-01-01    1.990111\n",
       "Freq: AS-JAN, Name: autoarima, dtype: float64"
      ]
     },
     "execution_count": 27,
     "metadata": {},
     "output_type": "execute_result"
    }
   ],
   "source": [
    "# Predictions\n",
    "\n",
    "predictions_autoarima = model_autoarima.predict(n_periods = test_years).rename(\"autoarima\")\n",
    "predictions_autoarima.head()"
   ]
  },
  {
   "cell_type": "code",
   "execution_count": 28,
   "metadata": {},
   "outputs": [
    {
     "data": {
      "text/plain": [
       "<Axes: xlabel='year'>"
      ]
     },
     "execution_count": 28,
     "metadata": {},
     "output_type": "execute_result"
    },
    {
     "data": {
      "image/png": "[encoded data removed]",
      "text/plain": [
       "<Figure size 900x600 with 1 Axes>"
      ]
     },
     "metadata": {},
     "output_type": "display_data"
    }
   ],
   "source": [
    "# Visualization\n",
    "\n",
    "train_data['United States']['2010-01-01':].plot(figsize = (9,6), legend = True)\n",
    "test_data['United States'].plot(legend = True)\n",
    "predictions_autoarima.plot(legend = True)"
   ]
  },
  {
   "cell_type": "code",
   "execution_count": 30,
   "metadata": {},
   "outputs": [
    {
     "name": "stdout",
     "output_type": "stream",
     "text": [
      "0.29\n",
      "0.43\n",
      "21.99\n"
     ]
    }
   ],
   "source": [
    "print(round(mean_absolute_error(test_data['United States'], predictions_autoarima),2))\n",
    "print(round(np.sqrt(mean_squared_error(test_data['United States'], predictions_autoarima)),2))\n",
    "print(round(MAPE(test_data['United States'], predictions_autoarima), 2))"
   ]
  }
 ],
 "metadata": {
  "kernelspec": {
   "display_name": "venv",
   "language": "python",
   "name": "python3"
  },
  "language_info": {
   "codemirror_mode": {
    "name": "ipython",
    "version": 3
   },
   "file_extension": ".py",
   "mimetype": "text/x-python",
   "name": "python",
   "nbconvert_exporter": "python",
   "pygments_lexer": "ipython3",
   "version": "3.10.12"
  },
  "orig_nbformat": 4
 },
 "nbformat": 4,
 "nbformat_minor": 2
}
